{
 "cells": [
  {
   "cell_type": "code",
   "execution_count": 1,
   "metadata": {},
   "outputs": [],
   "source": [
    "import numpy as np # linear algebra\n",
    "import matplotlib.pyplot as plt\n",
    "import seaborn as sns\n",
    "import pandas as pd # data processing, CSV file I/O (e.g. pd.read_csv)\n",
    "from sklearn.preprocessing import LabelEncoder, StandardScaler\n",
    "from sklearn.model_selection import train_test_split\n",
    "from sklearn.model_selection import cross_val_score, StratifiedKFold, KFold\n",
    "from sklearn.metrics import accuracy_score, classification_report\n",
    "from sklearn.linear_model import LogisticRegression\n",
    "from sklearn.tree import DecisionTreeClassifier\n",
    "from sklearn.ensemble import RandomForestClassifier\n",
    "from sklearn.svm import SVC\n",
    "from sklearn.feature_extraction.text import TfidfVectorizer"
   ]
  },
  {
   "cell_type": "code",
   "execution_count": 2,
   "metadata": {
    "scrolled": false
   },
   "outputs": [],
   "source": [
    "conda install geopandas\n",
    "conda install pycountry\n",
    "import sys\n",
    "sys.path\n",
    "pip install pycountry"
   ]
  },
  {
   "cell_type": "code",
   "execution_count": 3,
   "metadata": {},
   "outputs": [],
   "source": [
    "#/Users/apple/opt/anaconda3/bin/python -m pip install pycountry\n",
    "#/Users/yufeng/anaconda3/envs/py33/bin/python -m pip install plotly\n"
   ]
  },
  {
   "cell_type": "code",
   "execution_count": 4,
   "metadata": {},
   "outputs": [],
   "source": [
    "import geopandas as gpd\n",
    "import descartes"
   ]
  },
  {
   "cell_type": "code",
   "execution_count": 5,
   "metadata": {},
   "outputs": [
    {
     "data": {
      "text/plain": [
       "airline_name                     0.000000\n",
       "link                             0.000000\n",
       "title                            0.000000\n",
       "author                           0.000000\n",
       "author_country                   0.038434\n",
       "date                             0.000000\n",
       "content                          0.000000\n",
       "aircraft                         0.969127\n",
       "type_traveller                   0.942555\n",
       "cabin_flown                      0.069475\n",
       "route                            0.943449\n",
       "overall_rating                   0.109552\n",
       "seat_comfort_rating              0.185767\n",
       "cabin_staff_rating               0.185718\n",
       "food_beverages_rating            0.196444\n",
       "inflight_entertainment_rating    0.248381\n",
       "ground_service_rating            0.946782\n",
       "wifi_connectivity_rating         0.986351\n",
       "value_money_rating               0.040415\n",
       "recommended                      0.000000\n",
       "dtype: float64"
      ]
     },
     "execution_count": 5,
     "metadata": {},
     "output_type": "execute_result"
    }
   ],
   "source": [
    "df = pd.read_csv(\"airline.csv\")\n",
    "#print(df.head())\n",
    "#print(\"Percentage of N/As in each attribute:\")\n",
    "df.isna().sum()/len(df)\n",
    "#print(\"Count of each attribute:\")\n",
    "#print(df.count())"
   ]
  },
  {
   "cell_type": "code",
   "execution_count": 6,
   "metadata": {},
   "outputs": [
    {
     "data": {
      "text/html": [
       "<div>\n",
       "<style scoped>\n",
       "    .dataframe tbody tr th:only-of-type {\n",
       "        vertical-align: middle;\n",
       "    }\n",
       "\n",
       "    .dataframe tbody tr th {\n",
       "        vertical-align: top;\n",
       "    }\n",
       "\n",
       "    .dataframe thead th {\n",
       "        text-align: right;\n",
       "    }\n",
       "</style>\n",
       "<table border=\"1\" class=\"dataframe\">\n",
       "  <thead>\n",
       "    <tr style=\"text-align: right;\">\n",
       "      <th></th>\n",
       "      <th>airline_name</th>\n",
       "      <th>author_country</th>\n",
       "      <th>date</th>\n",
       "      <th>content</th>\n",
       "      <th>cabin_flown</th>\n",
       "      <th>overall_rating</th>\n",
       "      <th>seat_comfort_rating</th>\n",
       "      <th>cabin_staff_rating</th>\n",
       "      <th>food_beverages_rating</th>\n",
       "      <th>inflight_entertainment_rating</th>\n",
       "      <th>wifi_connectivity_rating</th>\n",
       "      <th>value_money_rating</th>\n",
       "      <th>recommended</th>\n",
       "    </tr>\n",
       "  </thead>\n",
       "  <tbody>\n",
       "    <tr>\n",
       "      <th>0</th>\n",
       "      <td>adria-airways</td>\n",
       "      <td>Germany</td>\n",
       "      <td>2015-04-10</td>\n",
       "      <td>Outbound flight FRA/PRN A319. 2 hours 10 min f...</td>\n",
       "      <td>Economy</td>\n",
       "      <td>7.0</td>\n",
       "      <td>4.0</td>\n",
       "      <td>4.0</td>\n",
       "      <td>4.0</td>\n",
       "      <td>0.0</td>\n",
       "      <td>NaN</td>\n",
       "      <td>4.0</td>\n",
       "      <td>1</td>\n",
       "    </tr>\n",
       "    <tr>\n",
       "      <th>1</th>\n",
       "      <td>adria-airways</td>\n",
       "      <td>United States</td>\n",
       "      <td>2015-01-05</td>\n",
       "      <td>Two short hops ZRH-LJU and LJU-VIE. Very fast ...</td>\n",
       "      <td>Business Class</td>\n",
       "      <td>10.0</td>\n",
       "      <td>4.0</td>\n",
       "      <td>5.0</td>\n",
       "      <td>4.0</td>\n",
       "      <td>1.0</td>\n",
       "      <td>NaN</td>\n",
       "      <td>5.0</td>\n",
       "      <td>1</td>\n",
       "    </tr>\n",
       "    <tr>\n",
       "      <th>2</th>\n",
       "      <td>adria-airways</td>\n",
       "      <td>Switzerland</td>\n",
       "      <td>2014-09-14</td>\n",
       "      <td>Flew Zurich-Ljubljana on JP365 newish CRJ900. ...</td>\n",
       "      <td>Economy</td>\n",
       "      <td>9.0</td>\n",
       "      <td>5.0</td>\n",
       "      <td>5.0</td>\n",
       "      <td>4.0</td>\n",
       "      <td>0.0</td>\n",
       "      <td>NaN</td>\n",
       "      <td>5.0</td>\n",
       "      <td>1</td>\n",
       "    </tr>\n",
       "    <tr>\n",
       "      <th>3</th>\n",
       "      <td>adria-airways</td>\n",
       "      <td>Singapore</td>\n",
       "      <td>2014-09-06</td>\n",
       "      <td>Adria serves this 100 min flight from Ljubljan...</td>\n",
       "      <td>Business Class</td>\n",
       "      <td>8.0</td>\n",
       "      <td>4.0</td>\n",
       "      <td>4.0</td>\n",
       "      <td>3.0</td>\n",
       "      <td>1.0</td>\n",
       "      <td>NaN</td>\n",
       "      <td>4.0</td>\n",
       "      <td>1</td>\n",
       "    </tr>\n",
       "    <tr>\n",
       "      <th>4</th>\n",
       "      <td>adria-airways</td>\n",
       "      <td>Poland</td>\n",
       "      <td>2014-06-16</td>\n",
       "      <td>WAW-SKJ Economy. No free snacks or drinks on t...</td>\n",
       "      <td>Economy</td>\n",
       "      <td>4.0</td>\n",
       "      <td>4.0</td>\n",
       "      <td>2.0</td>\n",
       "      <td>1.0</td>\n",
       "      <td>2.0</td>\n",
       "      <td>NaN</td>\n",
       "      <td>2.0</td>\n",
       "      <td>0</td>\n",
       "    </tr>\n",
       "  </tbody>\n",
       "</table>\n",
       "</div>"
      ],
      "text/plain": [
       "    airline_name author_country        date  \\\n",
       "0  adria-airways        Germany  2015-04-10   \n",
       "1  adria-airways  United States  2015-01-05   \n",
       "2  adria-airways    Switzerland  2014-09-14   \n",
       "3  adria-airways      Singapore  2014-09-06   \n",
       "4  adria-airways         Poland  2014-06-16   \n",
       "\n",
       "                                             content     cabin_flown  \\\n",
       "0  Outbound flight FRA/PRN A319. 2 hours 10 min f...         Economy   \n",
       "1  Two short hops ZRH-LJU and LJU-VIE. Very fast ...  Business Class   \n",
       "2  Flew Zurich-Ljubljana on JP365 newish CRJ900. ...         Economy   \n",
       "3  Adria serves this 100 min flight from Ljubljan...  Business Class   \n",
       "4  WAW-SKJ Economy. No free snacks or drinks on t...         Economy   \n",
       "\n",
       "   overall_rating  seat_comfort_rating  cabin_staff_rating  \\\n",
       "0             7.0                  4.0                 4.0   \n",
       "1            10.0                  4.0                 5.0   \n",
       "2             9.0                  5.0                 5.0   \n",
       "3             8.0                  4.0                 4.0   \n",
       "4             4.0                  4.0                 2.0   \n",
       "\n",
       "   food_beverages_rating  inflight_entertainment_rating  \\\n",
       "0                    4.0                            0.0   \n",
       "1                    4.0                            1.0   \n",
       "2                    4.0                            0.0   \n",
       "3                    3.0                            1.0   \n",
       "4                    1.0                            2.0   \n",
       "\n",
       "   wifi_connectivity_rating  value_money_rating  recommended  \n",
       "0                       NaN                 4.0            1  \n",
       "1                       NaN                 5.0            1  \n",
       "2                       NaN                 5.0            1  \n",
       "3                       NaN                 4.0            1  \n",
       "4                       NaN                 2.0            0  "
      ]
     },
     "execution_count": 6,
     "metadata": {},
     "output_type": "execute_result"
    }
   ],
   "source": [
    "df.describe()\n",
    "# Dropping irrelavant columns and columns with high proportion of NA values\n",
    "df = df.drop(['link', 'title', 'author', 'aircraft', 'type_traveller', 'route', 'ground_service_rating'], axis=1)\n",
    "df.head()"
   ]
  },
  {
   "cell_type": "code",
   "execution_count": 7,
   "metadata": {},
   "outputs": [
    {
     "data": {
      "text/plain": [
       "'# generate country code  based on country name \\nimport pycountry \\ndef alpha3code(column):\\n    CODE=[]\\n    for country in column:\\n        try:\\n            code=pycountry.countries.get(name=country).alpha_3\\n           # .alpha_3 means 3-letter country code \\n            CODE.append(code)\\n        except:\\n            CODE.append(\\'None\\')\\n    return CODE\\n# create a column for code \\ndf[\\'CODE\\']=alpha3code(df.author_country)\\ndf[[\"author_country\",\"CODE\"]]'"
      ]
     },
     "execution_count": 7,
     "metadata": {},
     "output_type": "execute_result"
    }
   ],
   "source": [
    "'''# generate country code  based on country name \n",
    "import pycountry \n",
    "def alpha3code(column):\n",
    "    CODE=[]\n",
    "    for country in column:\n",
    "        try:\n",
    "            code=pycountry.countries.get(name=country).alpha_3\n",
    "           # .alpha_3 means 3-letter country code \n",
    "            CODE.append(code)\n",
    "        except:\n",
    "            CODE.append('None')\n",
    "    return CODE\n",
    "# create a column for code \n",
    "df['CODE']=alpha3code(df.author_country)\n",
    "df[[\"author_country\",\"CODE\"]]'''"
   ]
  },
  {
   "cell_type": "code",
   "execution_count": 8,
   "metadata": {},
   "outputs": [
    {
     "name": "stdout",
     "output_type": "stream",
     "text": [
      "Percentage of reviews that feature airlines with WiFi: 1.3648661706445067 %\n",
      "Percentage of reviews that feature airlines with in-flight entertainment: 75.16185138660741 %\n"
     ]
    }
   ],
   "source": [
    "df['has_wifi'] = ~df['wifi_connectivity_rating'].isna()\n",
    "df['has_wifi'] = df['has_wifi'].astype(int)\n",
    "df['has_entertainment'] = ~df['inflight_entertainment_rating'].isna()\n",
    "df['has_entertainment'] = df['has_entertainment'].astype(int)\n",
    "\n",
    "print(\"Percentage of reviews that feature airlines with WiFi:\",df['has_wifi'].value_counts(1).iloc[1]*100,\"%\")\n",
    "print(\"Percentage of reviews that feature airlines with in-flight entertainment:\",df['has_entertainment'].value_counts(1).iloc[0]*100,\"%\")"
   ]
  },
  {
   "cell_type": "code",
   "execution_count": 9,
   "metadata": {
    "scrolled": true
   },
   "outputs": [
    {
     "data": {
      "text/plain": [
       "0    40831\n",
       "1      565\n",
       "Name: has_wifi, dtype: int64"
      ]
     },
     "execution_count": 9,
     "metadata": {},
     "output_type": "execute_result"
    }
   ],
   "source": [
    "df.has_wifi.value_counts()"
   ]
  },
  {
   "cell_type": "code",
   "execution_count": 10,
   "metadata": {},
   "outputs": [
    {
     "data": {
      "text/plain": [
       "1    31114\n",
       "0    10282\n",
       "Name: has_entertainment, dtype: int64"
      ]
     },
     "execution_count": 10,
     "metadata": {},
     "output_type": "execute_result"
    }
   ],
   "source": [
    "df.has_entertainment.value_counts()"
   ]
  },
  {
   "cell_type": "code",
   "execution_count": 11,
   "metadata": {},
   "outputs": [
    {
     "data": {
      "text/html": [
       "<div>\n",
       "<style scoped>\n",
       "    .dataframe tbody tr th:only-of-type {\n",
       "        vertical-align: middle;\n",
       "    }\n",
       "\n",
       "    .dataframe tbody tr th {\n",
       "        vertical-align: top;\n",
       "    }\n",
       "\n",
       "    .dataframe thead th {\n",
       "        text-align: right;\n",
       "    }\n",
       "</style>\n",
       "<table border=\"1\" class=\"dataframe\">\n",
       "  <thead>\n",
       "    <tr style=\"text-align: right;\">\n",
       "      <th></th>\n",
       "      <th>airline_name</th>\n",
       "      <th>author_country</th>\n",
       "      <th>date</th>\n",
       "      <th>content</th>\n",
       "      <th>cabin_flown</th>\n",
       "      <th>overall_rating</th>\n",
       "      <th>seat_comfort_rating</th>\n",
       "      <th>cabin_staff_rating</th>\n",
       "      <th>food_beverages_rating</th>\n",
       "      <th>inflight_entertainment_rating</th>\n",
       "      <th>wifi_connectivity_rating</th>\n",
       "      <th>value_money_rating</th>\n",
       "      <th>recommended</th>\n",
       "      <th>has_wifi</th>\n",
       "      <th>has_entertainment</th>\n",
       "    </tr>\n",
       "  </thead>\n",
       "  <tbody>\n",
       "    <tr>\n",
       "      <th>0</th>\n",
       "      <td>adria-airways</td>\n",
       "      <td>Germany</td>\n",
       "      <td>2015-04-10</td>\n",
       "      <td>Outbound flight FRA/PRN A319. 2 hours 10 min f...</td>\n",
       "      <td>Economy</td>\n",
       "      <td>7.0</td>\n",
       "      <td>4.0</td>\n",
       "      <td>4.0</td>\n",
       "      <td>4.0</td>\n",
       "      <td>0.0</td>\n",
       "      <td>NaN</td>\n",
       "      <td>4.0</td>\n",
       "      <td>1</td>\n",
       "      <td>0</td>\n",
       "      <td>1</td>\n",
       "    </tr>\n",
       "    <tr>\n",
       "      <th>1</th>\n",
       "      <td>adria-airways</td>\n",
       "      <td>United States</td>\n",
       "      <td>2015-01-05</td>\n",
       "      <td>Two short hops ZRH-LJU and LJU-VIE. Very fast ...</td>\n",
       "      <td>Business Class</td>\n",
       "      <td>10.0</td>\n",
       "      <td>4.0</td>\n",
       "      <td>5.0</td>\n",
       "      <td>4.0</td>\n",
       "      <td>1.0</td>\n",
       "      <td>NaN</td>\n",
       "      <td>5.0</td>\n",
       "      <td>1</td>\n",
       "      <td>0</td>\n",
       "      <td>1</td>\n",
       "    </tr>\n",
       "    <tr>\n",
       "      <th>2</th>\n",
       "      <td>adria-airways</td>\n",
       "      <td>Switzerland</td>\n",
       "      <td>2014-09-14</td>\n",
       "      <td>Flew Zurich-Ljubljana on JP365 newish CRJ900. ...</td>\n",
       "      <td>Economy</td>\n",
       "      <td>9.0</td>\n",
       "      <td>5.0</td>\n",
       "      <td>5.0</td>\n",
       "      <td>4.0</td>\n",
       "      <td>0.0</td>\n",
       "      <td>NaN</td>\n",
       "      <td>5.0</td>\n",
       "      <td>1</td>\n",
       "      <td>0</td>\n",
       "      <td>1</td>\n",
       "    </tr>\n",
       "    <tr>\n",
       "      <th>3</th>\n",
       "      <td>adria-airways</td>\n",
       "      <td>Singapore</td>\n",
       "      <td>2014-09-06</td>\n",
       "      <td>Adria serves this 100 min flight from Ljubljan...</td>\n",
       "      <td>Business Class</td>\n",
       "      <td>8.0</td>\n",
       "      <td>4.0</td>\n",
       "      <td>4.0</td>\n",
       "      <td>3.0</td>\n",
       "      <td>1.0</td>\n",
       "      <td>NaN</td>\n",
       "      <td>4.0</td>\n",
       "      <td>1</td>\n",
       "      <td>0</td>\n",
       "      <td>1</td>\n",
       "    </tr>\n",
       "    <tr>\n",
       "      <th>4</th>\n",
       "      <td>adria-airways</td>\n",
       "      <td>Poland</td>\n",
       "      <td>2014-06-16</td>\n",
       "      <td>WAW-SKJ Economy. No free snacks or drinks on t...</td>\n",
       "      <td>Economy</td>\n",
       "      <td>4.0</td>\n",
       "      <td>4.0</td>\n",
       "      <td>2.0</td>\n",
       "      <td>1.0</td>\n",
       "      <td>2.0</td>\n",
       "      <td>NaN</td>\n",
       "      <td>2.0</td>\n",
       "      <td>0</td>\n",
       "      <td>0</td>\n",
       "      <td>1</td>\n",
       "    </tr>\n",
       "  </tbody>\n",
       "</table>\n",
       "</div>"
      ],
      "text/plain": [
       "    airline_name author_country        date  \\\n",
       "0  adria-airways        Germany  2015-04-10   \n",
       "1  adria-airways  United States  2015-01-05   \n",
       "2  adria-airways    Switzerland  2014-09-14   \n",
       "3  adria-airways      Singapore  2014-09-06   \n",
       "4  adria-airways         Poland  2014-06-16   \n",
       "\n",
       "                                             content     cabin_flown  \\\n",
       "0  Outbound flight FRA/PRN A319. 2 hours 10 min f...         Economy   \n",
       "1  Two short hops ZRH-LJU and LJU-VIE. Very fast ...  Business Class   \n",
       "2  Flew Zurich-Ljubljana on JP365 newish CRJ900. ...         Economy   \n",
       "3  Adria serves this 100 min flight from Ljubljan...  Business Class   \n",
       "4  WAW-SKJ Economy. No free snacks or drinks on t...         Economy   \n",
       "\n",
       "   overall_rating  seat_comfort_rating  cabin_staff_rating  \\\n",
       "0             7.0                  4.0                 4.0   \n",
       "1            10.0                  4.0                 5.0   \n",
       "2             9.0                  5.0                 5.0   \n",
       "3             8.0                  4.0                 4.0   \n",
       "4             4.0                  4.0                 2.0   \n",
       "\n",
       "   food_beverages_rating  inflight_entertainment_rating  \\\n",
       "0                    4.0                            0.0   \n",
       "1                    4.0                            1.0   \n",
       "2                    4.0                            0.0   \n",
       "3                    3.0                            1.0   \n",
       "4                    1.0                            2.0   \n",
       "\n",
       "   wifi_connectivity_rating  value_money_rating  recommended  has_wifi  \\\n",
       "0                       NaN                 4.0            1         0   \n",
       "1                       NaN                 5.0            1         0   \n",
       "2                       NaN                 5.0            1         0   \n",
       "3                       NaN                 4.0            1         0   \n",
       "4                       NaN                 2.0            0         0   \n",
       "\n",
       "   has_entertainment  \n",
       "0                  1  \n",
       "1                  1  \n",
       "2                  1  \n",
       "3                  1  \n",
       "4                  1  "
      ]
     },
     "execution_count": 11,
     "metadata": {},
     "output_type": "execute_result"
    }
   ],
   "source": [
    "df.head(5)"
   ]
  },
  {
   "cell_type": "code",
   "execution_count": null,
   "metadata": {
    "scrolled": false
   },
   "outputs": [],
   "source": [
    "plt.rcParams[\"figure.figsize\"] = [5, 5]\n",
    "plt.rcParams[\"figure.autolayout\"] = True\n",
    "\n",
    "fig, ax = plt.subplots()\n",
    "\n",
    "df_nlp['cabin_flown'].value_counts().plot(ax=ax, kind='bar', ylabel='frequency')\n",
    "\n",
    "plt.show()"
   ]
  },
  {
   "cell_type": "code",
   "execution_count": null,
   "metadata": {},
   "outputs": [],
   "source": [
    "df_nlp.plot(kind='bar', x='cabin_flown', y='overall_rating')"
   ]
  },
  {
   "cell_type": "code",
   "execution_count": null,
   "metadata": {},
   "outputs": [],
   "source": [
    "plt.figure(figsize=(10,8))\n",
    "ax = sns.countplot(x=\"airline_name\", data=df[df['has_wifi'] == 1], order=df['airline_name'][df['has_wifi'] == 1].value_counts().iloc[:10].index, palette='rocket')\n",
    "ax.set_xticklabels(\n",
    "    ax.get_xticklabels(), \n",
    "    rotation=45, \n",
    "    horizontalalignment='right',\n",
    "    fontweight='light',\n",
    "    fontsize='large'\n",
    ")\n",
    "plt.show()"
   ]
  },
  {
   "cell_type": "code",
   "execution_count": null,
   "metadata": {
    "scrolled": false
   },
   "outputs": [],
   "source": [
    "plt.figure(figsize=(10,8))\n",
    "ax = sns.barplot(x=\"wifi_connectivity_rating\", y=\"airline_name\", data=df[df['has_wifi'] == 1], order=df['airline_name'][df['has_wifi'] == 1].value_counts().iloc[:10].index)\n",
    "# Lufthansa has the best Wifi connectivity rating with 3.5 score out of 5 and next is Emirates with a rating just greater than 3/5. "
   ]
  },
  {
   "cell_type": "code",
   "execution_count": null,
   "metadata": {},
   "outputs": [],
   "source": [
    "plt.figure(figsize=(10,8))\n",
    "ax = sns.countplot(x=\"has_entertainment\", data=df, palette='rocket')"
   ]
  },
  {
   "cell_type": "code",
   "execution_count": null,
   "metadata": {
    "scrolled": false
   },
   "outputs": [],
   "source": [
    "plt.figure(figsize=(10,8))\n",
    "ax = sns.barplot(x=\"has_entertainment\", y=\"overall_rating\", data=df)\n",
    "# Having in-flight entertainment does not effect overall rating of the flight by too much.  "
   ]
  },
  {
   "cell_type": "code",
   "execution_count": null,
   "metadata": {},
   "outputs": [],
   "source": [
    "plt.figure(figsize=(10,8))\n",
    "ax = sns.countplot(x=\"airline_name\", data=df[df['has_entertainment'] == 1], order=df['airline_name'][df['has_entertainment'] == 1].value_counts().iloc[:10].index, palette='Set2')\n",
    "ax.set_xticklabels(\n",
    "    ax.get_xticklabels(), \n",
    "    rotation=45, \n",
    "    horizontalalignment='right',\n",
    "    fontweight='light',\n",
    "    fontsize='large'\n",
    ")"
   ]
  },
  {
   "cell_type": "code",
   "execution_count": null,
   "metadata": {
    "scrolled": false
   },
   "outputs": [],
   "source": [
    "plt.figure(figsize=(10,8))\n",
    "ax = sns.barplot(x=\"inflight_entertainment_rating\", y=\"airline_name\", data=df[df['has_entertainment'] == 1], order=df['airline_name'][df['has_entertainment'] == 1].value_counts().iloc[:10].index, palette = 'Set3')\n",
    "# Emirates has the best in-flight entertainment rating followed by Qantas airways and then by Lufthansa."
   ]
  },
  {
   "cell_type": "code",
   "execution_count": null,
   "metadata": {},
   "outputs": [],
   "source": [
    "df['author_country'].value_counts()"
   ]
  },
  {
   "cell_type": "code",
   "execution_count": null,
   "metadata": {},
   "outputs": [],
   "source": [
    "world = gpd.read_file(gpd.datasets.get_path(\"naturalearth_lowres\"))\n",
    "world.head()\n",
    "# rename the columns so that we can merge with our data\n",
    "world.columns=['pop_est', 'continent', 'name', 'CODE', 'gdp_md_est', 'geometry']\n",
    "# then merge with our data \n",
    "merge=pd.merge(world,df,on='CODE')"
   ]
  },
  {
   "cell_type": "code",
   "execution_count": null,
   "metadata": {},
   "outputs": [],
   "source": [
    "ax = world[\"geometry\"].boundary.plot(figsize=(20,16))\n",
    "merge.plot(column=\"overall_rating\", ax=ax, cmap='OrRd', legend = True)\n",
    "ax.set_title(\"Overall ratings by country\")\n"
   ]
  },
  {
   "cell_type": "code",
   "execution_count": null,
   "metadata": {},
   "outputs": [],
   "source": [
    "def plot_grouped_box(df,feat_x,feat_y,filename):\n",
    "    \"\"\"\n",
    "    Plot the distribution of feat_x for different values of feat_y.\n",
    "    \"\"\"\n",
    "    plt.figure(figsize=(6,6))\n",
    "    sns.set(style=\"whitegrid\")\n",
    "    ax = sns.catplot(data=df, x=feat_x, y=feat_y, kind='box', palette='Set2')\n",
    "    ax.set(xlabel=feat_x, ylabel=feat_y)\n",
    "    plt.tight_layout()\n",
    "    plt.savefig(filename)\n",
    "    plt.show()\n",
    "    return"
   ]
  },
  {
   "cell_type": "code",
   "execution_count": null,
   "metadata": {},
   "outputs": [],
   "source": [
    "plot_grouped_box(df,\"recommended\",\"overall_rating\",'./Box-recommend.png')"
   ]
  },
  {
   "cell_type": "code",
   "execution_count": null,
   "metadata": {},
   "outputs": [],
   "source": [
    "plot_grouped_box(df,\"overall_rating\",\"cabin_flown\",'./Box-cabin.png')"
   ]
  },
  {
   "cell_type": "code",
   "execution_count": null,
   "metadata": {},
   "outputs": [],
   "source": [
    "plot_grouped_box(df,\"has_wifi\",\"overall_rating\",'./Box-wifi.png')"
   ]
  },
  {
   "cell_type": "code",
   "execution_count": 12,
   "metadata": {
    "scrolled": true
   },
   "outputs": [
    {
     "data": {
      "text/plain": [
       "airline_name                         0\n",
       "author_country                    1591\n",
       "date                                 0\n",
       "content                              0\n",
       "cabin_flown                       2876\n",
       "overall_rating                    4535\n",
       "seat_comfort_rating               7690\n",
       "cabin_staff_rating                7688\n",
       "food_beverages_rating             8132\n",
       "inflight_entertainment_rating    10282\n",
       "wifi_connectivity_rating         40831\n",
       "value_money_rating                1673\n",
       "recommended                          0\n",
       "has_wifi                             0\n",
       "has_entertainment                    0\n",
       "dtype: int64"
      ]
     },
     "execution_count": 12,
     "metadata": {},
     "output_type": "execute_result"
    }
   ],
   "source": [
    "df.isna().sum()"
   ]
  },
  {
   "cell_type": "code",
   "execution_count": 13,
   "metadata": {},
   "outputs": [],
   "source": [
    "df_new = df.drop(['wifi_connectivity_rating', 'inflight_entertainment_rating'], axis = 1)\n",
    "df_new.shape\n",
    "df_new.dropna(axis = 0, how = 'any', inplace = True)"
   ]
  },
  {
   "cell_type": "code",
   "execution_count": 14,
   "metadata": {},
   "outputs": [
    {
     "data": {
      "text/plain": [
       "airline_name             0\n",
       "author_country           0\n",
       "date                     0\n",
       "content                  0\n",
       "cabin_flown              0\n",
       "overall_rating           0\n",
       "seat_comfort_rating      0\n",
       "cabin_staff_rating       0\n",
       "food_beverages_rating    0\n",
       "value_money_rating       0\n",
       "recommended              0\n",
       "has_wifi                 0\n",
       "has_entertainment        0\n",
       "dtype: int64"
      ]
     },
     "execution_count": 14,
     "metadata": {},
     "output_type": "execute_result"
    }
   ],
   "source": [
    "df_new.isna().sum()"
   ]
  },
  {
   "cell_type": "code",
   "execution_count": 133,
   "metadata": {},
   "outputs": [],
   "source": [
    "X = df_new.iloc[:,[6,7,8,9,12]]\n",
    "Y = df_new.iloc[:,10]"
   ]
  },
  {
   "cell_type": "code",
   "execution_count": 134,
   "metadata": {},
   "outputs": [
    {
     "data": {
      "text/html": [
       "<div>\n",
       "<style scoped>\n",
       "    .dataframe tbody tr th:only-of-type {\n",
       "        vertical-align: middle;\n",
       "    }\n",
       "\n",
       "    .dataframe tbody tr th {\n",
       "        vertical-align: top;\n",
       "    }\n",
       "\n",
       "    .dataframe thead th {\n",
       "        text-align: right;\n",
       "    }\n",
       "</style>\n",
       "<table border=\"1\" class=\"dataframe\">\n",
       "  <thead>\n",
       "    <tr style=\"text-align: right;\">\n",
       "      <th></th>\n",
       "      <th>seat_comfort_rating</th>\n",
       "      <th>cabin_staff_rating</th>\n",
       "      <th>food_beverages_rating</th>\n",
       "      <th>value_money_rating</th>\n",
       "      <th>has_entertainment</th>\n",
       "    </tr>\n",
       "  </thead>\n",
       "  <tbody>\n",
       "    <tr>\n",
       "      <th>0</th>\n",
       "      <td>4.0</td>\n",
       "      <td>4.0</td>\n",
       "      <td>4.0</td>\n",
       "      <td>4.0</td>\n",
       "      <td>1</td>\n",
       "    </tr>\n",
       "    <tr>\n",
       "      <th>1</th>\n",
       "      <td>4.0</td>\n",
       "      <td>5.0</td>\n",
       "      <td>4.0</td>\n",
       "      <td>5.0</td>\n",
       "      <td>1</td>\n",
       "    </tr>\n",
       "    <tr>\n",
       "      <th>2</th>\n",
       "      <td>5.0</td>\n",
       "      <td>5.0</td>\n",
       "      <td>4.0</td>\n",
       "      <td>5.0</td>\n",
       "      <td>1</td>\n",
       "    </tr>\n",
       "    <tr>\n",
       "      <th>3</th>\n",
       "      <td>4.0</td>\n",
       "      <td>4.0</td>\n",
       "      <td>3.0</td>\n",
       "      <td>4.0</td>\n",
       "      <td>1</td>\n",
       "    </tr>\n",
       "    <tr>\n",
       "      <th>4</th>\n",
       "      <td>4.0</td>\n",
       "      <td>2.0</td>\n",
       "      <td>1.0</td>\n",
       "      <td>2.0</td>\n",
       "      <td>1</td>\n",
       "    </tr>\n",
       "  </tbody>\n",
       "</table>\n",
       "</div>"
      ],
      "text/plain": [
       "   seat_comfort_rating  cabin_staff_rating  food_beverages_rating  \\\n",
       "0                  4.0                 4.0                    4.0   \n",
       "1                  4.0                 5.0                    4.0   \n",
       "2                  5.0                 5.0                    4.0   \n",
       "3                  4.0                 4.0                    3.0   \n",
       "4                  4.0                 2.0                    1.0   \n",
       "\n",
       "   value_money_rating  has_entertainment  \n",
       "0                 4.0                  1  \n",
       "1                 5.0                  1  \n",
       "2                 5.0                  1  \n",
       "3                 4.0                  1  \n",
       "4                 2.0                  1  "
      ]
     },
     "execution_count": 134,
     "metadata": {},
     "output_type": "execute_result"
    }
   ],
   "source": [
    "X.head()\n",
    "#Y.head()"
   ]
  },
  {
   "cell_type": "code",
   "execution_count": 135,
   "metadata": {},
   "outputs": [],
   "source": [
    "X_train, X_test, Y_train, Y_test = train_test_split(X, Y, test_size=0.30, random_state=42)\n"
   ]
  },
  {
   "cell_type": "code",
   "execution_count": 136,
   "metadata": {},
   "outputs": [
    {
     "data": {
      "text/html": [
       "<div>\n",
       "<style scoped>\n",
       "    .dataframe tbody tr th:only-of-type {\n",
       "        vertical-align: middle;\n",
       "    }\n",
       "\n",
       "    .dataframe tbody tr th {\n",
       "        vertical-align: top;\n",
       "    }\n",
       "\n",
       "    .dataframe thead th {\n",
       "        text-align: right;\n",
       "    }\n",
       "</style>\n",
       "<table border=\"1\" class=\"dataframe\">\n",
       "  <thead>\n",
       "    <tr style=\"text-align: right;\">\n",
       "      <th></th>\n",
       "      <th>seat_comfort_rating</th>\n",
       "      <th>cabin_staff_rating</th>\n",
       "      <th>food_beverages_rating</th>\n",
       "      <th>value_money_rating</th>\n",
       "      <th>has_entertainment</th>\n",
       "    </tr>\n",
       "  </thead>\n",
       "  <tbody>\n",
       "    <tr>\n",
       "      <th>2210</th>\n",
       "      <td>1.0</td>\n",
       "      <td>1.0</td>\n",
       "      <td>1.0</td>\n",
       "      <td>1.0</td>\n",
       "      <td>1</td>\n",
       "    </tr>\n",
       "    <tr>\n",
       "      <th>28958</th>\n",
       "      <td>4.0</td>\n",
       "      <td>5.0</td>\n",
       "      <td>3.0</td>\n",
       "      <td>3.0</td>\n",
       "      <td>1</td>\n",
       "    </tr>\n",
       "    <tr>\n",
       "      <th>30117</th>\n",
       "      <td>5.0</td>\n",
       "      <td>4.0</td>\n",
       "      <td>4.0</td>\n",
       "      <td>5.0</td>\n",
       "      <td>1</td>\n",
       "    </tr>\n",
       "    <tr>\n",
       "      <th>2903</th>\n",
       "      <td>5.0</td>\n",
       "      <td>4.0</td>\n",
       "      <td>1.0</td>\n",
       "      <td>3.0</td>\n",
       "      <td>1</td>\n",
       "    </tr>\n",
       "    <tr>\n",
       "      <th>4658</th>\n",
       "      <td>1.0</td>\n",
       "      <td>1.0</td>\n",
       "      <td>1.0</td>\n",
       "      <td>1.0</td>\n",
       "      <td>1</td>\n",
       "    </tr>\n",
       "    <tr>\n",
       "      <th>...</th>\n",
       "      <td>...</td>\n",
       "      <td>...</td>\n",
       "      <td>...</td>\n",
       "      <td>...</td>\n",
       "      <td>...</td>\n",
       "    </tr>\n",
       "    <tr>\n",
       "      <th>30559</th>\n",
       "      <td>2.0</td>\n",
       "      <td>2.0</td>\n",
       "      <td>2.0</td>\n",
       "      <td>4.0</td>\n",
       "      <td>0</td>\n",
       "    </tr>\n",
       "    <tr>\n",
       "      <th>7267</th>\n",
       "      <td>4.0</td>\n",
       "      <td>1.0</td>\n",
       "      <td>0.0</td>\n",
       "      <td>5.0</td>\n",
       "      <td>1</td>\n",
       "    </tr>\n",
       "    <tr>\n",
       "      <th>1261</th>\n",
       "      <td>4.0</td>\n",
       "      <td>4.0</td>\n",
       "      <td>3.0</td>\n",
       "      <td>4.0</td>\n",
       "      <td>1</td>\n",
       "    </tr>\n",
       "    <tr>\n",
       "      <th>22318</th>\n",
       "      <td>4.0</td>\n",
       "      <td>3.0</td>\n",
       "      <td>3.0</td>\n",
       "      <td>4.0</td>\n",
       "      <td>1</td>\n",
       "    </tr>\n",
       "    <tr>\n",
       "      <th>34083</th>\n",
       "      <td>3.0</td>\n",
       "      <td>3.0</td>\n",
       "      <td>4.0</td>\n",
       "      <td>4.0</td>\n",
       "      <td>1</td>\n",
       "    </tr>\n",
       "  </tbody>\n",
       "</table>\n",
       "<p>20419 rows × 5 columns</p>\n",
       "</div>"
      ],
      "text/plain": [
       "       seat_comfort_rating  cabin_staff_rating  food_beverages_rating  \\\n",
       "2210                   1.0                 1.0                    1.0   \n",
       "28958                  4.0                 5.0                    3.0   \n",
       "30117                  5.0                 4.0                    4.0   \n",
       "2903                   5.0                 4.0                    1.0   \n",
       "4658                   1.0                 1.0                    1.0   \n",
       "...                    ...                 ...                    ...   \n",
       "30559                  2.0                 2.0                    2.0   \n",
       "7267                   4.0                 1.0                    0.0   \n",
       "1261                   4.0                 4.0                    3.0   \n",
       "22318                  4.0                 3.0                    3.0   \n",
       "34083                  3.0                 3.0                    4.0   \n",
       "\n",
       "       value_money_rating  has_entertainment  \n",
       "2210                  1.0                  1  \n",
       "28958                 3.0                  1  \n",
       "30117                 5.0                  1  \n",
       "2903                  3.0                  1  \n",
       "4658                  1.0                  1  \n",
       "...                   ...                ...  \n",
       "30559                 4.0                  0  \n",
       "7267                  5.0                  1  \n",
       "1261                  4.0                  1  \n",
       "22318                 4.0                  1  \n",
       "34083                 4.0                  1  \n",
       "\n",
       "[20419 rows x 5 columns]"
      ]
     },
     "execution_count": 136,
     "metadata": {},
     "output_type": "execute_result"
    }
   ],
   "source": [
    "X_train"
   ]
  },
  {
   "cell_type": "code",
   "execution_count": 137,
   "metadata": {},
   "outputs": [
    {
     "data": {
      "text/plain": [
       "LinearRegression()"
      ]
     },
     "execution_count": 137,
     "metadata": {},
     "output_type": "execute_result"
    }
   ],
   "source": [
    "from sklearn.linear_model import LinearRegression\n",
    "# creating an object of LinearRegression class\n",
    "LR = LinearRegression()\n",
    "# fitting the training data\n",
    "LR.fit(X_train,Y_train)"
   ]
  },
  {
   "cell_type": "code",
   "execution_count": 138,
   "metadata": {},
   "outputs": [
    {
     "data": {
      "text/plain": [
       "0.6543014923436898"
      ]
     },
     "execution_count": 138,
     "metadata": {},
     "output_type": "execute_result"
    }
   ],
   "source": [
    "LR.predict(X_test)"
   ]
  },
  {
   "cell_type": "code",
   "execution_count": 141,
   "metadata": {},
   "outputs": [
    {
     "data": {
      "text/html": [
       "<table class=\"simpletable\">\n",
       "<caption>OLS Regression Results</caption>\n",
       "<tr>\n",
       "  <th>Dep. Variable:</th>       <td>recommended</td>   <th>  R-squared:         </th> <td>   0.659</td>\n",
       "</tr>\n",
       "<tr>\n",
       "  <th>Model:</th>                   <td>OLS</td>       <th>  Adj. R-squared:    </th> <td>   0.659</td>\n",
       "</tr>\n",
       "<tr>\n",
       "  <th>Method:</th>             <td>Least Squares</td>  <th>  F-statistic:       </th> <td>   7893.</td>\n",
       "</tr>\n",
       "<tr>\n",
       "  <th>Date:</th>             <td>Wed, 22 Dec 2021</td> <th>  Prob (F-statistic):</th>  <td>  0.00</td> \n",
       "</tr>\n",
       "<tr>\n",
       "  <th>Time:</th>                 <td>01:11:16</td>     <th>  Log-Likelihood:    </th> <td> -3328.9</td>\n",
       "</tr>\n",
       "<tr>\n",
       "  <th>No. Observations:</th>      <td> 20419</td>      <th>  AIC:               </th> <td>   6670.</td>\n",
       "</tr>\n",
       "<tr>\n",
       "  <th>Df Residuals:</th>          <td> 20413</td>      <th>  BIC:               </th> <td>   6717.</td>\n",
       "</tr>\n",
       "<tr>\n",
       "  <th>Df Model:</th>              <td>     5</td>      <th>                     </th>     <td> </td>   \n",
       "</tr>\n",
       "<tr>\n",
       "  <th>Covariance Type:</th>      <td>nonrobust</td>    <th>                     </th>     <td> </td>   \n",
       "</tr>\n",
       "</table>\n",
       "<table class=\"simpletable\">\n",
       "<tr>\n",
       "            <td></td>               <th>coef</th>     <th>std err</th>      <th>t</th>      <th>P>|t|</th>  <th>[0.025</th>    <th>0.975]</th>  \n",
       "</tr>\n",
       "<tr>\n",
       "  <th>const</th>                 <td>   -0.4395</td> <td>    0.010</td> <td>  -45.552</td> <td> 0.000</td> <td>   -0.458</td> <td>   -0.421</td>\n",
       "</tr>\n",
       "<tr>\n",
       "  <th>seat_comfort_rating</th>   <td>    0.0529</td> <td>    0.002</td> <td>   24.433</td> <td> 0.000</td> <td>    0.049</td> <td>    0.057</td>\n",
       "</tr>\n",
       "<tr>\n",
       "  <th>cabin_staff_rating</th>    <td>    0.0913</td> <td>    0.002</td> <td>   43.441</td> <td> 0.000</td> <td>    0.087</td> <td>    0.095</td>\n",
       "</tr>\n",
       "<tr>\n",
       "  <th>food_beverages_rating</th> <td>    0.0176</td> <td>    0.002</td> <td>   10.006</td> <td> 0.000</td> <td>    0.014</td> <td>    0.021</td>\n",
       "</tr>\n",
       "<tr>\n",
       "  <th>value_money_rating</th>    <td>    0.1505</td> <td>    0.002</td> <td>   65.734</td> <td> 0.000</td> <td>    0.146</td> <td>    0.155</td>\n",
       "</tr>\n",
       "<tr>\n",
       "  <th>has_entertainment</th>     <td>   -0.0172</td> <td>    0.008</td> <td>   -2.110</td> <td> 0.035</td> <td>   -0.033</td> <td>   -0.001</td>\n",
       "</tr>\n",
       "</table>\n",
       "<table class=\"simpletable\">\n",
       "<tr>\n",
       "  <th>Omnibus:</th>       <td>1311.463</td> <th>  Durbin-Watson:     </th> <td>   1.968</td>\n",
       "</tr>\n",
       "<tr>\n",
       "  <th>Prob(Omnibus):</th>  <td> 0.000</td>  <th>  Jarque-Bera (JB):  </th> <td>5562.802</td>\n",
       "</tr>\n",
       "<tr>\n",
       "  <th>Skew:</th>           <td> 0.164</td>  <th>  Prob(JB):          </th> <td>    0.00</td>\n",
       "</tr>\n",
       "<tr>\n",
       "  <th>Kurtosis:</th>       <td> 5.536</td>  <th>  Cond. No.          </th> <td>    43.3</td>\n",
       "</tr>\n",
       "</table><br/><br/>Notes:<br/>[1] Standard Errors assume that the covariance matrix of the errors is correctly specified."
      ],
      "text/plain": [
       "<class 'statsmodels.iolib.summary.Summary'>\n",
       "\"\"\"\n",
       "                            OLS Regression Results                            \n",
       "==============================================================================\n",
       "Dep. Variable:            recommended   R-squared:                       0.659\n",
       "Model:                            OLS   Adj. R-squared:                  0.659\n",
       "Method:                 Least Squares   F-statistic:                     7893.\n",
       "Date:                Wed, 22 Dec 2021   Prob (F-statistic):               0.00\n",
       "Time:                        01:11:16   Log-Likelihood:                -3328.9\n",
       "No. Observations:               20419   AIC:                             6670.\n",
       "Df Residuals:                   20413   BIC:                             6717.\n",
       "Df Model:                           5                                         \n",
       "Covariance Type:            nonrobust                                         \n",
       "=========================================================================================\n",
       "                            coef    std err          t      P>|t|      [0.025      0.975]\n",
       "-----------------------------------------------------------------------------------------\n",
       "const                    -0.4395      0.010    -45.552      0.000      -0.458      -0.421\n",
       "seat_comfort_rating       0.0529      0.002     24.433      0.000       0.049       0.057\n",
       "cabin_staff_rating        0.0913      0.002     43.441      0.000       0.087       0.095\n",
       "food_beverages_rating     0.0176      0.002     10.006      0.000       0.014       0.021\n",
       "value_money_rating        0.1505      0.002     65.734      0.000       0.146       0.155\n",
       "has_entertainment        -0.0172      0.008     -2.110      0.035      -0.033      -0.001\n",
       "==============================================================================\n",
       "Omnibus:                     1311.463   Durbin-Watson:                   1.968\n",
       "Prob(Omnibus):                  0.000   Jarque-Bera (JB):             5562.802\n",
       "Skew:                           0.164   Prob(JB):                         0.00\n",
       "Kurtosis:                       5.536   Cond. No.                         43.3\n",
       "==============================================================================\n",
       "\n",
       "Notes:\n",
       "[1] Standard Errors assume that the covariance matrix of the errors is correctly specified.\n",
       "\"\"\""
      ]
     },
     "execution_count": 141,
     "metadata": {},
     "output_type": "execute_result"
    }
   ],
   "source": [
    "import statsmodels.api as sm    \n",
    "X_train1 = sm.add_constant(X_train)\n",
    "lm_1 = sm.OLS(Y_train,X_train1)\n",
    "lm_2 = lm_1.fit()\n",
    "lm_2.summary()\n",
    "#LR.summary()"
   ]
  },
  {
   "cell_type": "code",
   "execution_count": 22,
   "metadata": {},
   "outputs": [
    {
     "data": {
      "text/plain": [
       "RandomForestClassifier(max_depth=2, random_state=0)"
      ]
     },
     "execution_count": 22,
     "metadata": {},
     "output_type": "execute_result"
    }
   ],
   "source": [
    "from sklearn.ensemble import RandomForestClassifier\n",
    "from sklearn.datasets import make_classification\n",
    "clf = RandomForestClassifier(max_depth=2, random_state=0)\n",
    "clf.fit(X_train, Y_train)"
   ]
  },
  {
   "cell_type": "code",
   "execution_count": 23,
   "metadata": {},
   "outputs": [
    {
     "data": {
      "text/plain": [
       "0.9102959661752943"
      ]
     },
     "execution_count": 23,
     "metadata": {},
     "output_type": "execute_result"
    }
   ],
   "source": [
    "Y_pred = clf.predict(X_test)\n",
    "clf.score(X_test, Y_test)"
   ]
  },
  {
   "cell_type": "code",
   "execution_count": 24,
   "metadata": {},
   "outputs": [
    {
     "name": "stdout",
     "output_type": "stream",
     "text": [
      "[[3105  380]\n",
      " [ 405 4861]]\n",
      "              precision    recall  f1-score   support\n",
      "\n",
      "           0       0.88      0.89      0.89      3485\n",
      "           1       0.93      0.92      0.93      5266\n",
      "\n",
      "    accuracy                           0.91      8751\n",
      "   macro avg       0.91      0.91      0.91      8751\n",
      "weighted avg       0.91      0.91      0.91      8751\n",
      "\n"
     ]
    }
   ],
   "source": [
    "from sklearn.metrics import classification_report, confusion_matrix\n",
    "print(confusion_matrix(Y_test, Y_pred))\n",
    "print(classification_report(Y_test, Y_pred))"
   ]
  },
  {
   "cell_type": "code",
   "execution_count": 25,
   "metadata": {},
   "outputs": [],
   "source": [
    "clf_dt = DecisionTreeClassifier()\n",
    "clf_dt = clf_dt.fit(X_train, Y_train)"
   ]
  },
  {
   "cell_type": "code",
   "execution_count": 26,
   "metadata": {},
   "outputs": [
    {
     "data": {
      "text/plain": [
       "0.9168095074848589"
      ]
     },
     "execution_count": 26,
     "metadata": {},
     "output_type": "execute_result"
    }
   ],
   "source": [
    "clf_dt.score(X_test,Y_test)"
   ]
  },
  {
   "cell_type": "code",
   "execution_count": 27,
   "metadata": {},
   "outputs": [],
   "source": [
    "y_pred = clf_dt.predict(X_test)"
   ]
  },
  {
   "cell_type": "code",
   "execution_count": 28,
   "metadata": {},
   "outputs": [
    {
     "name": "stdout",
     "output_type": "stream",
     "text": [
      "[[3076  409]\n",
      " [ 319 4947]]\n",
      "              precision    recall  f1-score   support\n",
      "\n",
      "           0       0.91      0.88      0.89      3485\n",
      "           1       0.92      0.94      0.93      5266\n",
      "\n",
      "    accuracy                           0.92      8751\n",
      "   macro avg       0.91      0.91      0.91      8751\n",
      "weighted avg       0.92      0.92      0.92      8751\n",
      "\n"
     ]
    }
   ],
   "source": [
    "from sklearn.metrics import classification_report, confusion_matrix\n",
    "print(confusion_matrix(Y_test, y_pred))\n",
    "print(classification_report(Y_test, y_pred))"
   ]
  },
  {
   "cell_type": "code",
   "execution_count": 29,
   "metadata": {},
   "outputs": [
    {
     "data": {
      "text/plain": [
       "(29170,)"
      ]
     },
     "execution_count": 29,
     "metadata": {},
     "output_type": "execute_result"
    }
   ],
   "source": [
    "reviews_list = df_new['content'].copy()\n",
    "reviews_list.shape"
   ]
  },
  {
   "cell_type": "code",
   "execution_count": 30,
   "metadata": {
    "scrolled": false
   },
   "outputs": [
    {
     "data": {
      "text/html": [
       "<div>\n",
       "<style scoped>\n",
       "    .dataframe tbody tr th:only-of-type {\n",
       "        vertical-align: middle;\n",
       "    }\n",
       "\n",
       "    .dataframe tbody tr th {\n",
       "        vertical-align: top;\n",
       "    }\n",
       "\n",
       "    .dataframe thead th {\n",
       "        text-align: right;\n",
       "    }\n",
       "</style>\n",
       "<table border=\"1\" class=\"dataframe\">\n",
       "  <thead>\n",
       "    <tr style=\"text-align: right;\">\n",
       "      <th></th>\n",
       "      <th>content</th>\n",
       "      <th>n_reviews</th>\n",
       "    </tr>\n",
       "  </thead>\n",
       "  <tbody>\n",
       "    <tr>\n",
       "      <th>22247</th>\n",
       "      <td>Rating : 10/10 Cabin Flown Economy Value for M...</td>\n",
       "      <td>3</td>\n",
       "    </tr>\n",
       "    <tr>\n",
       "      <th>6435</th>\n",
       "      <td>Flew CDG to JFK. Very effective service on the...</td>\n",
       "      <td>2</td>\n",
       "    </tr>\n",
       "    <tr>\n",
       "      <th>7553</th>\n",
       "      <td>Flew Sydney - Beijing - London. Both planes we...</td>\n",
       "      <td>2</td>\n",
       "    </tr>\n",
       "    <tr>\n",
       "      <th>19014</th>\n",
       "      <td>Manchester to Perth business class. Experience...</td>\n",
       "      <td>2</td>\n",
       "    </tr>\n",
       "    <tr>\n",
       "      <th>24489</th>\n",
       "      <td>TLV-VIE on an A320. Left on time, limited seat...</td>\n",
       "      <td>2</td>\n",
       "    </tr>\n",
       "    <tr>\n",
       "      <th>17905</th>\n",
       "      <td>London City-New York JFK via Shannon on A318 b...</td>\n",
       "      <td>2</td>\n",
       "    </tr>\n",
       "    <tr>\n",
       "      <th>22251</th>\n",
       "      <td>Rating : 9/10 Cabin Flown Economy Value for Mo...</td>\n",
       "      <td>2</td>\n",
       "    </tr>\n",
       "    <tr>\n",
       "      <th>22263</th>\n",
       "      <td>Reading some previous reviews and as a very ne...</td>\n",
       "      <td>2</td>\n",
       "    </tr>\n",
       "    <tr>\n",
       "      <th>12347</th>\n",
       "      <td>I flew from Chicago O'Hare to Dublin and from ...</td>\n",
       "      <td>2</td>\n",
       "    </tr>\n",
       "    <tr>\n",
       "      <th>6559</th>\n",
       "      <td>Flew Delhi-Chennai-Coimbatore in December with...</td>\n",
       "      <td>2</td>\n",
       "    </tr>\n",
       "    <tr>\n",
       "      <th>2028</th>\n",
       "      <td>Aug 26 UA 1683 SFO EWR. On time departure and ...</td>\n",
       "      <td>2</td>\n",
       "    </tr>\n",
       "    <tr>\n",
       "      <th>6647</th>\n",
       "      <td>Flew FRA-MNL-FRA. First leg delayed (3 hrs) be...</td>\n",
       "      <td>2</td>\n",
       "    </tr>\n",
       "    <tr>\n",
       "      <th>23655</th>\n",
       "      <td>Sao Paulo - Amsterdam - London and back. Their...</td>\n",
       "      <td>2</td>\n",
       "    </tr>\n",
       "    <tr>\n",
       "      <th>346</th>\n",
       "      <td>26 April 2014 Verona-Monaco. LH 434 26 April 2...</td>\n",
       "      <td>2</td>\n",
       "    </tr>\n",
       "    <tr>\n",
       "      <th>4795</th>\n",
       "      <td>Delayed by 10 hrs found out accidentally after...</td>\n",
       "      <td>2</td>\n",
       "    </tr>\n",
       "    <tr>\n",
       "      <th>13659</th>\n",
       "      <td>I purchased a flight with American Airline to ...</td>\n",
       "      <td>2</td>\n",
       "    </tr>\n",
       "    <tr>\n",
       "      <th>28242</th>\n",
       "      <td>We travelled Air Canada and Air Canada Rouge t...</td>\n",
       "      <td>2</td>\n",
       "    </tr>\n",
       "    <tr>\n",
       "      <th>16418</th>\n",
       "      <td>LAX-SFO: Simple flight made easier by a relaxe...</td>\n",
       "      <td>2</td>\n",
       "    </tr>\n",
       "  </tbody>\n",
       "</table>\n",
       "</div>"
      ],
      "text/plain": [
       "                                                 content  n_reviews\n",
       "22247  Rating : 10/10 Cabin Flown Economy Value for M...          3\n",
       "6435   Flew CDG to JFK. Very effective service on the...          2\n",
       "7553   Flew Sydney - Beijing - London. Both planes we...          2\n",
       "19014  Manchester to Perth business class. Experience...          2\n",
       "24489  TLV-VIE on an A320. Left on time, limited seat...          2\n",
       "17905  London City-New York JFK via Shannon on A318 b...          2\n",
       "22251  Rating : 9/10 Cabin Flown Economy Value for Mo...          2\n",
       "22263  Reading some previous reviews and as a very ne...          2\n",
       "12347  I flew from Chicago O'Hare to Dublin and from ...          2\n",
       "6559   Flew Delhi-Chennai-Coimbatore in December with...          2\n",
       "2028   Aug 26 UA 1683 SFO EWR. On time departure and ...          2\n",
       "6647   Flew FRA-MNL-FRA. First leg delayed (3 hrs) be...          2\n",
       "23655  Sao Paulo - Amsterdam - London and back. Their...          2\n",
       "346    26 April 2014 Verona-Monaco. LH 434 26 April 2...          2\n",
       "4795   Delayed by 10 hrs found out accidentally after...          2\n",
       "13659  I purchased a flight with American Airline to ...          2\n",
       "28242  We travelled Air Canada and Air Canada Rouge t...          2\n",
       "16418  LAX-SFO: Simple flight made easier by a relaxe...          2"
      ]
     },
     "execution_count": 30,
     "metadata": {},
     "output_type": "execute_result"
    }
   ],
   "source": [
    "df_same_review_text = df_new.groupby('content')['content'].count().reset_index(name='n_reviews').sort_values(by='n_reviews',ascending=False)\n",
    "df_same_review_text[df_same_review_text['n_reviews']>1]"
   ]
  },
  {
   "cell_type": "code",
   "execution_count": 31,
   "metadata": {},
   "outputs": [
    {
     "data": {
      "text/plain": [
       "(29151, 13)"
      ]
     },
     "execution_count": 31,
     "metadata": {},
     "output_type": "execute_result"
    }
   ],
   "source": [
    "# No duplicate reviews\n",
    "df_nlp = df_new.drop_duplicates(subset=['content'], keep = 'first').copy()\n",
    "df_nlp.shape\n",
    "# 19 duplicate reviews have been removed"
   ]
  },
  {
   "cell_type": "code",
   "execution_count": 32,
   "metadata": {},
   "outputs": [
    {
     "data": {
      "text/plain": [
       "(29151,)"
      ]
     },
     "execution_count": 32,
     "metadata": {},
     "output_type": "execute_result"
    }
   ],
   "source": [
    "reviews_list = df_nlp['content'].copy()\n",
    "reviews_list.shape"
   ]
  },
  {
   "cell_type": "code",
   "execution_count": 33,
   "metadata": {},
   "outputs": [],
   "source": [
    "from sklearn.feature_extraction.text import CountVectorizer\n",
    "\n",
    "import nltk\n",
    "from nltk import tokenize, pos_tag\n",
    "from nltk.corpus import stopwords, wordnet\n",
    "from nltk.sentiment.vader import SentimentIntensityAnalyzer\n",
    "from nltk.stem import WordNetLemmatizer\n",
    "\n",
    "import importlib"
   ]
  },
  {
   "cell_type": "code",
   "execution_count": 34,
   "metadata": {},
   "outputs": [
    {
     "name": "stderr",
     "output_type": "stream",
     "text": [
      "[nltk_data] Downloading package punkt to /Users/apple/nltk_data...\n",
      "[nltk_data]   Package punkt is already up-to-date!\n",
      "[nltk_data] Downloading package vader_lexicon to\n",
      "[nltk_data]     /Users/apple/nltk_data...\n",
      "[nltk_data]   Package vader_lexicon is already up-to-date!\n"
     ]
    },
    {
     "data": {
      "text/plain": [
       "True"
      ]
     },
     "execution_count": 34,
     "metadata": {},
     "output_type": "execute_result"
    }
   ],
   "source": [
    "nltk.download('punkt')\n",
    "nltk.download('vader_lexicon')"
   ]
  },
  {
   "cell_type": "code",
   "execution_count": 35,
   "metadata": {},
   "outputs": [],
   "source": [
    "sid = SentimentIntensityAnalyzer()"
   ]
  },
  {
   "cell_type": "code",
   "execution_count": 36,
   "metadata": {},
   "outputs": [
    {
     "name": "stdout",
     "output_type": "stream",
     "text": [
      "['Outbound flight FRA/PRN A319.', '2 hours 10 min flight.', 'I thought drinks/snacks for sale but sandwich soft drinks were served complimentary.', 'Inbound flights SKP/LJU/FRA CRJ900.', 'each 1 hour 30 min flight.', 'Skyshop menu was in a seat pocket and drinks/snacks were for sale.', 'All flight crews were friendly.', \"Security check at the Ljubljana airport for transit passengers was chaos however it's possible to go to a gate within 30min.\"]\n"
     ]
    }
   ],
   "source": [
    "review = reviews_list[0]\n",
    "review_tok = tokenize.sent_tokenize(review)\n",
    "print(review_tok)"
   ]
  },
  {
   "cell_type": "code",
   "execution_count": 37,
   "metadata": {},
   "outputs": [],
   "source": [
    "reviews_polarity = []\n",
    "\n",
    "for i_review, review in enumerate(reviews_list):\n",
    "    # print('Review text:')\n",
    "    # print(review)\n",
    "\n",
    "    review_polarity_scores = sid.polarity_scores(review)\n",
    "    review_polarity_score_compound = review_polarity_scores['compound']\n",
    "    reviews_polarity.append(review_polarity_score_compound)\n",
    "\n",
    "#print(reviews_polarity)"
   ]
  },
  {
   "cell_type": "code",
   "execution_count": 38,
   "metadata": {},
   "outputs": [
    {
     "data": {
      "text/html": [
       "<div>\n",
       "<style scoped>\n",
       "    .dataframe tbody tr th:only-of-type {\n",
       "        vertical-align: middle;\n",
       "    }\n",
       "\n",
       "    .dataframe tbody tr th {\n",
       "        vertical-align: top;\n",
       "    }\n",
       "\n",
       "    .dataframe thead th {\n",
       "        text-align: right;\n",
       "    }\n",
       "</style>\n",
       "<table border=\"1\" class=\"dataframe\">\n",
       "  <thead>\n",
       "    <tr style=\"text-align: right;\">\n",
       "      <th></th>\n",
       "      <th>airline_name</th>\n",
       "      <th>author_country</th>\n",
       "      <th>date</th>\n",
       "      <th>content</th>\n",
       "      <th>cabin_flown</th>\n",
       "      <th>overall_rating</th>\n",
       "      <th>seat_comfort_rating</th>\n",
       "      <th>cabin_staff_rating</th>\n",
       "      <th>food_beverages_rating</th>\n",
       "      <th>value_money_rating</th>\n",
       "      <th>recommended</th>\n",
       "      <th>has_wifi</th>\n",
       "      <th>has_entertainment</th>\n",
       "      <th>polarity</th>\n",
       "    </tr>\n",
       "  </thead>\n",
       "  <tbody>\n",
       "    <tr>\n",
       "      <th>0</th>\n",
       "      <td>adria-airways</td>\n",
       "      <td>Germany</td>\n",
       "      <td>2015-04-10</td>\n",
       "      <td>Outbound flight FRA/PRN A319. 2 hours 10 min f...</td>\n",
       "      <td>Economy</td>\n",
       "      <td>7.0</td>\n",
       "      <td>4.0</td>\n",
       "      <td>4.0</td>\n",
       "      <td>4.0</td>\n",
       "      <td>4.0</td>\n",
       "      <td>1</td>\n",
       "      <td>0</td>\n",
       "      <td>1</td>\n",
       "      <td>0.7351</td>\n",
       "    </tr>\n",
       "    <tr>\n",
       "      <th>1</th>\n",
       "      <td>adria-airways</td>\n",
       "      <td>United States</td>\n",
       "      <td>2015-01-05</td>\n",
       "      <td>Two short hops ZRH-LJU and LJU-VIE. Very fast ...</td>\n",
       "      <td>Business Class</td>\n",
       "      <td>10.0</td>\n",
       "      <td>4.0</td>\n",
       "      <td>5.0</td>\n",
       "      <td>4.0</td>\n",
       "      <td>5.0</td>\n",
       "      <td>1</td>\n",
       "      <td>0</td>\n",
       "      <td>1</td>\n",
       "      <td>0.8777</td>\n",
       "    </tr>\n",
       "    <tr>\n",
       "      <th>2</th>\n",
       "      <td>adria-airways</td>\n",
       "      <td>Switzerland</td>\n",
       "      <td>2014-09-14</td>\n",
       "      <td>Flew Zurich-Ljubljana on JP365 newish CRJ900. ...</td>\n",
       "      <td>Economy</td>\n",
       "      <td>9.0</td>\n",
       "      <td>5.0</td>\n",
       "      <td>5.0</td>\n",
       "      <td>4.0</td>\n",
       "      <td>5.0</td>\n",
       "      <td>1</td>\n",
       "      <td>0</td>\n",
       "      <td>1</td>\n",
       "      <td>0.9497</td>\n",
       "    </tr>\n",
       "    <tr>\n",
       "      <th>3</th>\n",
       "      <td>adria-airways</td>\n",
       "      <td>Singapore</td>\n",
       "      <td>2014-09-06</td>\n",
       "      <td>Adria serves this 100 min flight from Ljubljan...</td>\n",
       "      <td>Business Class</td>\n",
       "      <td>8.0</td>\n",
       "      <td>4.0</td>\n",
       "      <td>4.0</td>\n",
       "      <td>3.0</td>\n",
       "      <td>4.0</td>\n",
       "      <td>1</td>\n",
       "      <td>0</td>\n",
       "      <td>1</td>\n",
       "      <td>0.9228</td>\n",
       "    </tr>\n",
       "  </tbody>\n",
       "</table>\n",
       "</div>"
      ],
      "text/plain": [
       "    airline_name author_country        date  \\\n",
       "0  adria-airways        Germany  2015-04-10   \n",
       "1  adria-airways  United States  2015-01-05   \n",
       "2  adria-airways    Switzerland  2014-09-14   \n",
       "3  adria-airways      Singapore  2014-09-06   \n",
       "\n",
       "                                             content     cabin_flown  \\\n",
       "0  Outbound flight FRA/PRN A319. 2 hours 10 min f...         Economy   \n",
       "1  Two short hops ZRH-LJU and LJU-VIE. Very fast ...  Business Class   \n",
       "2  Flew Zurich-Ljubljana on JP365 newish CRJ900. ...         Economy   \n",
       "3  Adria serves this 100 min flight from Ljubljan...  Business Class   \n",
       "\n",
       "   overall_rating  seat_comfort_rating  cabin_staff_rating  \\\n",
       "0             7.0                  4.0                 4.0   \n",
       "1            10.0                  4.0                 5.0   \n",
       "2             9.0                  5.0                 5.0   \n",
       "3             8.0                  4.0                 4.0   \n",
       "\n",
       "   food_beverages_rating  value_money_rating  recommended  has_wifi  \\\n",
       "0                    4.0                 4.0            1         0   \n",
       "1                    4.0                 5.0            1         0   \n",
       "2                    4.0                 5.0            1         0   \n",
       "3                    3.0                 4.0            1         0   \n",
       "\n",
       "   has_entertainment  polarity  \n",
       "0                  1    0.7351  \n",
       "1                  1    0.8777  \n",
       "2                  1    0.9497  \n",
       "3                  1    0.9228  "
      ]
     },
     "execution_count": 38,
     "metadata": {},
     "output_type": "execute_result"
    }
   ],
   "source": [
    "df_nlp['polarity'] = reviews_polarity\n",
    "df_nlp.head(4)"
   ]
  },
  {
   "cell_type": "code",
   "execution_count": 39,
   "metadata": {},
   "outputs": [],
   "source": [
    "def get_pos_neu_neg_review_score(df_row):\n",
    "    pos_neu_neg_review_score = None\n",
    "    if (df_row['overall_rating'] is None or str(df_row['overall_rating']) == '<NA>'):\n",
    "        pos_neu_neg_review_score = None\n",
    "    else:\n",
    "        if (df_row['overall_rating'] <= 4):\n",
    "            pos_neu_neg_review_score = 'neg'\n",
    "        elif (df_row['overall_rating'] > 4 and df_row['overall_rating'] <= 6):\n",
    "            pos_neu_neg_review_score = 'neu'\n",
    "        else:\n",
    "            pos_neu_neg_review_score = 'pos'\n",
    "    return pos_neu_neg_review_score"
   ]
  },
  {
   "cell_type": "code",
   "execution_count": 40,
   "metadata": {},
   "outputs": [
    {
     "data": {
      "text/html": [
       "<div>\n",
       "<style scoped>\n",
       "    .dataframe tbody tr th:only-of-type {\n",
       "        vertical-align: middle;\n",
       "    }\n",
       "\n",
       "    .dataframe tbody tr th {\n",
       "        vertical-align: top;\n",
       "    }\n",
       "\n",
       "    .dataframe thead th {\n",
       "        text-align: right;\n",
       "    }\n",
       "</style>\n",
       "<table border=\"1\" class=\"dataframe\">\n",
       "  <thead>\n",
       "    <tr style=\"text-align: right;\">\n",
       "      <th></th>\n",
       "      <th>content</th>\n",
       "      <th>pos_neu_neg_review_score</th>\n",
       "    </tr>\n",
       "  </thead>\n",
       "  <tbody>\n",
       "    <tr>\n",
       "      <th>0</th>\n",
       "      <td>Outbound flight FRA/PRN A319. 2 hours 10 min f...</td>\n",
       "      <td>pos</td>\n",
       "    </tr>\n",
       "    <tr>\n",
       "      <th>1</th>\n",
       "      <td>Two short hops ZRH-LJU and LJU-VIE. Very fast ...</td>\n",
       "      <td>pos</td>\n",
       "    </tr>\n",
       "    <tr>\n",
       "      <th>2</th>\n",
       "      <td>Flew Zurich-Ljubljana on JP365 newish CRJ900. ...</td>\n",
       "      <td>pos</td>\n",
       "    </tr>\n",
       "    <tr>\n",
       "      <th>3</th>\n",
       "      <td>Adria serves this 100 min flight from Ljubljan...</td>\n",
       "      <td>pos</td>\n",
       "    </tr>\n",
       "    <tr>\n",
       "      <th>4</th>\n",
       "      <td>WAW-SKJ Economy. No free snacks or drinks on t...</td>\n",
       "      <td>neg</td>\n",
       "    </tr>\n",
       "  </tbody>\n",
       "</table>\n",
       "</div>"
      ],
      "text/plain": [
       "                                             content pos_neu_neg_review_score\n",
       "0  Outbound flight FRA/PRN A319. 2 hours 10 min f...                      pos\n",
       "1  Two short hops ZRH-LJU and LJU-VIE. Very fast ...                      pos\n",
       "2  Flew Zurich-Ljubljana on JP365 newish CRJ900. ...                      pos\n",
       "3  Adria serves this 100 min flight from Ljubljan...                      pos\n",
       "4  WAW-SKJ Economy. No free snacks or drinks on t...                      neg"
      ]
     },
     "execution_count": 40,
     "metadata": {},
     "output_type": "execute_result"
    }
   ],
   "source": [
    "df_nlp['pos_neu_neg_review_score'] = df_nlp.apply(lambda x: get_pos_neu_neg_review_score(x),axis=1)\n",
    "df_nlp[['content','pos_neu_neg_review_score']].head(5)"
   ]
  },
  {
   "cell_type": "code",
   "execution_count": 41,
   "metadata": {},
   "outputs": [
    {
     "data": {
      "image/png": "[encoded data removed]",
      "text/plain": [
       "<Figure size 360x504 with 1 Axes>"
      ]
     },
     "metadata": {
      "needs_background": "light"
     },
     "output_type": "display_data"
    }
   ],
   "source": [
    "import pandas as pd\n",
    "from matplotlib import pyplot as plt\n",
    "\n",
    "plt.rcParams[\"figure.figsize\"] = [5, 7]\n",
    "plt.rcParams[\"figure.autolayout\"] = True\n",
    "\n",
    "fig, ax = plt.subplots()\n",
    "\n",
    "#df = pd.DataFrame({'numbers': [2, 4, 1, 4, 3, 2, 1, 3, 2, 4]})\n",
    "df_nlp['pos_neu_neg_review_score'].value_counts().plot(ax=ax, kind='bar', ylabel='frequency')\n",
    "\n",
    "plt.show()"
   ]
  },
  {
   "cell_type": "code",
   "execution_count": 42,
   "metadata": {},
   "outputs": [],
   "source": [
    "df_nlp = pd.get_dummies(df_nlp,columns= ['pos_neu_neg_review_score'])"
   ]
  },
  {
   "cell_type": "code",
   "execution_count": 43,
   "metadata": {},
   "outputs": [
    {
     "data": {
      "text/html": [
       "<div>\n",
       "<style scoped>\n",
       "    .dataframe tbody tr th:only-of-type {\n",
       "        vertical-align: middle;\n",
       "    }\n",
       "\n",
       "    .dataframe tbody tr th {\n",
       "        vertical-align: top;\n",
       "    }\n",
       "\n",
       "    .dataframe thead th {\n",
       "        text-align: right;\n",
       "    }\n",
       "</style>\n",
       "<table border=\"1\" class=\"dataframe\">\n",
       "  <thead>\n",
       "    <tr style=\"text-align: right;\">\n",
       "      <th></th>\n",
       "      <th>airline_name</th>\n",
       "      <th>author_country</th>\n",
       "      <th>date</th>\n",
       "      <th>content</th>\n",
       "      <th>cabin_flown</th>\n",
       "      <th>overall_rating</th>\n",
       "      <th>seat_comfort_rating</th>\n",
       "      <th>cabin_staff_rating</th>\n",
       "      <th>food_beverages_rating</th>\n",
       "      <th>value_money_rating</th>\n",
       "      <th>recommended</th>\n",
       "      <th>has_wifi</th>\n",
       "      <th>has_entertainment</th>\n",
       "      <th>polarity</th>\n",
       "      <th>pos_neu_neg_review_score_neg</th>\n",
       "      <th>pos_neu_neg_review_score_neu</th>\n",
       "      <th>pos_neu_neg_review_score_pos</th>\n",
       "    </tr>\n",
       "  </thead>\n",
       "  <tbody>\n",
       "    <tr>\n",
       "      <th>0</th>\n",
       "      <td>adria-airways</td>\n",
       "      <td>Germany</td>\n",
       "      <td>2015-04-10</td>\n",
       "      <td>Outbound flight FRA/PRN A319. 2 hours 10 min f...</td>\n",
       "      <td>Economy</td>\n",
       "      <td>7.0</td>\n",
       "      <td>4.0</td>\n",
       "      <td>4.0</td>\n",
       "      <td>4.0</td>\n",
       "      <td>4.0</td>\n",
       "      <td>1</td>\n",
       "      <td>0</td>\n",
       "      <td>1</td>\n",
       "      <td>0.7351</td>\n",
       "      <td>0</td>\n",
       "      <td>0</td>\n",
       "      <td>1</td>\n",
       "    </tr>\n",
       "    <tr>\n",
       "      <th>1</th>\n",
       "      <td>adria-airways</td>\n",
       "      <td>United States</td>\n",
       "      <td>2015-01-05</td>\n",
       "      <td>Two short hops ZRH-LJU and LJU-VIE. Very fast ...</td>\n",
       "      <td>Business Class</td>\n",
       "      <td>10.0</td>\n",
       "      <td>4.0</td>\n",
       "      <td>5.0</td>\n",
       "      <td>4.0</td>\n",
       "      <td>5.0</td>\n",
       "      <td>1</td>\n",
       "      <td>0</td>\n",
       "      <td>1</td>\n",
       "      <td>0.8777</td>\n",
       "      <td>0</td>\n",
       "      <td>0</td>\n",
       "      <td>1</td>\n",
       "    </tr>\n",
       "    <tr>\n",
       "      <th>2</th>\n",
       "      <td>adria-airways</td>\n",
       "      <td>Switzerland</td>\n",
       "      <td>2014-09-14</td>\n",
       "      <td>Flew Zurich-Ljubljana on JP365 newish CRJ900. ...</td>\n",
       "      <td>Economy</td>\n",
       "      <td>9.0</td>\n",
       "      <td>5.0</td>\n",
       "      <td>5.0</td>\n",
       "      <td>4.0</td>\n",
       "      <td>5.0</td>\n",
       "      <td>1</td>\n",
       "      <td>0</td>\n",
       "      <td>1</td>\n",
       "      <td>0.9497</td>\n",
       "      <td>0</td>\n",
       "      <td>0</td>\n",
       "      <td>1</td>\n",
       "    </tr>\n",
       "    <tr>\n",
       "      <th>3</th>\n",
       "      <td>adria-airways</td>\n",
       "      <td>Singapore</td>\n",
       "      <td>2014-09-06</td>\n",
       "      <td>Adria serves this 100 min flight from Ljubljan...</td>\n",
       "      <td>Business Class</td>\n",
       "      <td>8.0</td>\n",
       "      <td>4.0</td>\n",
       "      <td>4.0</td>\n",
       "      <td>3.0</td>\n",
       "      <td>4.0</td>\n",
       "      <td>1</td>\n",
       "      <td>0</td>\n",
       "      <td>1</td>\n",
       "      <td>0.9228</td>\n",
       "      <td>0</td>\n",
       "      <td>0</td>\n",
       "      <td>1</td>\n",
       "    </tr>\n",
       "    <tr>\n",
       "      <th>4</th>\n",
       "      <td>adria-airways</td>\n",
       "      <td>Poland</td>\n",
       "      <td>2014-06-16</td>\n",
       "      <td>WAW-SKJ Economy. No free snacks or drinks on t...</td>\n",
       "      <td>Economy</td>\n",
       "      <td>4.0</td>\n",
       "      <td>4.0</td>\n",
       "      <td>2.0</td>\n",
       "      <td>1.0</td>\n",
       "      <td>2.0</td>\n",
       "      <td>0</td>\n",
       "      <td>0</td>\n",
       "      <td>1</td>\n",
       "      <td>0.8184</td>\n",
       "      <td>1</td>\n",
       "      <td>0</td>\n",
       "      <td>0</td>\n",
       "    </tr>\n",
       "  </tbody>\n",
       "</table>\n",
       "</div>"
      ],
      "text/plain": [
       "    airline_name author_country        date  \\\n",
       "0  adria-airways        Germany  2015-04-10   \n",
       "1  adria-airways  United States  2015-01-05   \n",
       "2  adria-airways    Switzerland  2014-09-14   \n",
       "3  adria-airways      Singapore  2014-09-06   \n",
       "4  adria-airways         Poland  2014-06-16   \n",
       "\n",
       "                                             content     cabin_flown  \\\n",
       "0  Outbound flight FRA/PRN A319. 2 hours 10 min f...         Economy   \n",
       "1  Two short hops ZRH-LJU and LJU-VIE. Very fast ...  Business Class   \n",
       "2  Flew Zurich-Ljubljana on JP365 newish CRJ900. ...         Economy   \n",
       "3  Adria serves this 100 min flight from Ljubljan...  Business Class   \n",
       "4  WAW-SKJ Economy. No free snacks or drinks on t...         Economy   \n",
       "\n",
       "   overall_rating  seat_comfort_rating  cabin_staff_rating  \\\n",
       "0             7.0                  4.0                 4.0   \n",
       "1            10.0                  4.0                 5.0   \n",
       "2             9.0                  5.0                 5.0   \n",
       "3             8.0                  4.0                 4.0   \n",
       "4             4.0                  4.0                 2.0   \n",
       "\n",
       "   food_beverages_rating  value_money_rating  recommended  has_wifi  \\\n",
       "0                    4.0                 4.0            1         0   \n",
       "1                    4.0                 5.0            1         0   \n",
       "2                    4.0                 5.0            1         0   \n",
       "3                    3.0                 4.0            1         0   \n",
       "4                    1.0                 2.0            0         0   \n",
       "\n",
       "   has_entertainment  polarity  pos_neu_neg_review_score_neg  \\\n",
       "0                  1    0.7351                             0   \n",
       "1                  1    0.8777                             0   \n",
       "2                  1    0.9497                             0   \n",
       "3                  1    0.9228                             0   \n",
       "4                  1    0.8184                             1   \n",
       "\n",
       "   pos_neu_neg_review_score_neu  pos_neu_neg_review_score_pos  \n",
       "0                             0                             1  \n",
       "1                             0                             1  \n",
       "2                             0                             1  \n",
       "3                             0                             1  \n",
       "4                             0                             0  "
      ]
     },
     "execution_count": 43,
     "metadata": {},
     "output_type": "execute_result"
    }
   ],
   "source": [
    "df_nlp.head(5)"
   ]
  },
  {
   "cell_type": "code",
   "execution_count": 44,
   "metadata": {},
   "outputs": [],
   "source": [
    "# Stop words.\n",
    "# Airlines appearing in the dataset. This is the official name of the airlines. These words should be removed from the review text.\n",
    "airlines_lower = df_nlp['airline_name'].str.lower().unique().tolist()\n",
    "# Words appearing in the official name of the airlines. These words should be removed from the review text.\n",
    "airlines_identifier = ['airlines',\n",
    "                       'air lines',\n",
    "                       'airline',\n",
    "                       'air line',\n",
    "                       'airways',\n",
    "                       'air']\n",
    "# In addition to the official name of the airlines, customers can use shortened versions of this name.\n",
    "airlines_informal_lower = []\n",
    "for airline in airlines_lower:\n",
    "    found = False\n",
    "    for airline_identifier in airlines_identifier:\n",
    "        if found == False:\n",
    "            if str(' '+airline_identifier) in airline:\n",
    "                airline_informal = airline.replace(str(' '+airline_identifier),'')\n",
    "                airlines_informal_lower.append(airline_informal)\n",
    "                found = True\n",
    "# Other stop words.\n",
    "additional_stopwords = ['one','get','also','however','even','make', 'flight','available', 'wizzair', 'lpl', 'lju', 'fra', 'zrh']\n",
    "\n",
    "nltk_stopwords = stopwords.words('english')\n",
    "all_stopwords = nltk_stopwords + airlines_lower + airlines_identifier + airlines_informal_lower + additional_stopwords"
   ]
  },
  {
   "cell_type": "code",
   "execution_count": 45,
   "metadata": {},
   "outputs": [],
   "source": [
    "from nltk.corpus import wordnet\n",
    "#nltk.download('averaged_perceptron_tagger')\n",
    "#nltk.download('wordnet')\n",
    "def get_wordnet_pos(pos_tag):\n",
    "    if pos_tag.startswith('J'):\n",
    "        return wordnet.ADJ\n",
    "    elif pos_tag.startswith('V'):\n",
    "        return wordnet.VERB\n",
    "    elif pos_tag.startswith('N'):\n",
    "        return wordnet.NOUN\n",
    "    elif pos_tag.startswith('R'):\n",
    "        return wordnet.ADV\n",
    "    else:\n",
    "        return wordnet.NOUN\n",
    "    \n",
    "import string\n",
    "from nltk import pos_tag\n",
    "from nltk.corpus import stopwords\n",
    "from nltk.tokenize import WhitespaceTokenizer\n",
    "from nltk.stem import WordNetLemmatizer\n",
    "\n",
    "def clean_text(text):\n",
    "    # lower text\n",
    "    text = text.lower()\n",
    "    # tokenize text and remove puncutation\n",
    "    text = [word.strip(string.punctuation) for word in text.split(\" \")]\n",
    "    # remove words that contain numbers\n",
    "    text = [word for word in text if not any(c.isdigit() for c in word)]\n",
    "    # remove stop words\n",
    "    stop = all_stopwords\n",
    "    text = [x for x in text if x not in stop]\n",
    "    # remove empty tokens\n",
    "    text = [t for t in text if len(t) > 0]\n",
    "    # pos tag text\n",
    "    pos_tags = pos_tag(text)\n",
    "    # lemmatize text\n",
    "    text = [WordNetLemmatizer().lemmatize(t[0], get_wordnet_pos(t[1])) for t in pos_tags]\n",
    "    # remove words with only one letter\n",
    "    text = [t for t in text if len(t) > 1]\n",
    "    # join all\n",
    "    text = \" \".join(text)\n",
    "    return(text)\n",
    "\n",
    "# clean text data\n",
    "df_nlp[\"review_clean\"] = df_nlp[\"content\"].apply(lambda x: clean_text(x))"
   ]
  },
  {
   "cell_type": "code",
   "execution_count": 46,
   "metadata": {},
   "outputs": [],
   "source": [
    "positive_reviews = df_nlp[df_nlp['recommended']==1]\n",
    "negative_reviews = df_nlp[df_nlp['recommended']==0]"
   ]
  },
  {
   "cell_type": "code",
   "execution_count": 47,
   "metadata": {},
   "outputs": [
    {
     "data": {
      "text/html": [
       "<div>\n",
       "<style scoped>\n",
       "    .dataframe tbody tr th:only-of-type {\n",
       "        vertical-align: middle;\n",
       "    }\n",
       "\n",
       "    .dataframe tbody tr th {\n",
       "        vertical-align: top;\n",
       "    }\n",
       "\n",
       "    .dataframe thead th {\n",
       "        text-align: right;\n",
       "    }\n",
       "</style>\n",
       "<table border=\"1\" class=\"dataframe\">\n",
       "  <thead>\n",
       "    <tr style=\"text-align: right;\">\n",
       "      <th></th>\n",
       "      <th>airline_name</th>\n",
       "      <th>author_country</th>\n",
       "      <th>date</th>\n",
       "      <th>content</th>\n",
       "      <th>cabin_flown</th>\n",
       "      <th>overall_rating</th>\n",
       "      <th>seat_comfort_rating</th>\n",
       "      <th>cabin_staff_rating</th>\n",
       "      <th>food_beverages_rating</th>\n",
       "      <th>value_money_rating</th>\n",
       "      <th>recommended</th>\n",
       "      <th>has_wifi</th>\n",
       "      <th>has_entertainment</th>\n",
       "      <th>polarity</th>\n",
       "      <th>pos_neu_neg_review_score_neg</th>\n",
       "      <th>pos_neu_neg_review_score_neu</th>\n",
       "      <th>pos_neu_neg_review_score_pos</th>\n",
       "      <th>review_clean</th>\n",
       "    </tr>\n",
       "  </thead>\n",
       "  <tbody>\n",
       "    <tr>\n",
       "      <th>0</th>\n",
       "      <td>adria-airways</td>\n",
       "      <td>Germany</td>\n",
       "      <td>2015-04-10</td>\n",
       "      <td>Outbound flight FRA/PRN A319. 2 hours 10 min f...</td>\n",
       "      <td>Economy</td>\n",
       "      <td>7.0</td>\n",
       "      <td>4.0</td>\n",
       "      <td>4.0</td>\n",
       "      <td>4.0</td>\n",
       "      <td>4.0</td>\n",
       "      <td>1</td>\n",
       "      <td>0</td>\n",
       "      <td>1</td>\n",
       "      <td>0.7351</td>\n",
       "      <td>0</td>\n",
       "      <td>0</td>\n",
       "      <td>1</td>\n",
       "      <td>outbound fra/prn hour min thought drinks/snack...</td>\n",
       "    </tr>\n",
       "    <tr>\n",
       "      <th>1</th>\n",
       "      <td>adria-airways</td>\n",
       "      <td>United States</td>\n",
       "      <td>2015-01-05</td>\n",
       "      <td>Two short hops ZRH-LJU and LJU-VIE. Very fast ...</td>\n",
       "      <td>Business Class</td>\n",
       "      <td>10.0</td>\n",
       "      <td>4.0</td>\n",
       "      <td>5.0</td>\n",
       "      <td>4.0</td>\n",
       "      <td>5.0</td>\n",
       "      <td>1</td>\n",
       "      <td>0</td>\n",
       "      <td>1</td>\n",
       "      <td>0.8777</td>\n",
       "      <td>0</td>\n",
       "      <td>0</td>\n",
       "      <td>1</td>\n",
       "      <td>two short hop zrh-lju lju-vie fast crj seat co...</td>\n",
       "    </tr>\n",
       "    <tr>\n",
       "      <th>2</th>\n",
       "      <td>adria-airways</td>\n",
       "      <td>Switzerland</td>\n",
       "      <td>2014-09-14</td>\n",
       "      <td>Flew Zurich-Ljubljana on JP365 newish CRJ900. ...</td>\n",
       "      <td>Economy</td>\n",
       "      <td>9.0</td>\n",
       "      <td>5.0</td>\n",
       "      <td>5.0</td>\n",
       "      <td>4.0</td>\n",
       "      <td>5.0</td>\n",
       "      <td>1</td>\n",
       "      <td>0</td>\n",
       "      <td>1</td>\n",
       "      <td>0.9497</td>\n",
       "      <td>0</td>\n",
       "      <td>0</td>\n",
       "      <td>1</td>\n",
       "      <td>flew zurich-ljubljana newish almost full depar...</td>\n",
       "    </tr>\n",
       "    <tr>\n",
       "      <th>3</th>\n",
       "      <td>adria-airways</td>\n",
       "      <td>Singapore</td>\n",
       "      <td>2014-09-06</td>\n",
       "      <td>Adria serves this 100 min flight from Ljubljan...</td>\n",
       "      <td>Business Class</td>\n",
       "      <td>8.0</td>\n",
       "      <td>4.0</td>\n",
       "      <td>4.0</td>\n",
       "      <td>3.0</td>\n",
       "      <td>4.0</td>\n",
       "      <td>1</td>\n",
       "      <td>0</td>\n",
       "      <td>1</td>\n",
       "      <td>0.9228</td>\n",
       "      <td>0</td>\n",
       "      <td>0</td>\n",
       "      <td>1</td>\n",
       "      <td>adria serve min ljubljana amsterdam brand new ...</td>\n",
       "    </tr>\n",
       "    <tr>\n",
       "      <th>5</th>\n",
       "      <td>adria-airways</td>\n",
       "      <td>Germany</td>\n",
       "      <td>2014-06-08</td>\n",
       "      <td>Sarajevo-Frankfurt via Ljubljana. I loved flyi...</td>\n",
       "      <td>Economy</td>\n",
       "      <td>9.0</td>\n",
       "      <td>4.0</td>\n",
       "      <td>4.0</td>\n",
       "      <td>3.0</td>\n",
       "      <td>4.0</td>\n",
       "      <td>1</td>\n",
       "      <td>0</td>\n",
       "      <td>1</td>\n",
       "      <td>0.8827</td>\n",
       "      <td>0</td>\n",
       "      <td>0</td>\n",
       "      <td>1</td>\n",
       "      <td>sarajevo-frankfurt via ljubljana love fly smal...</td>\n",
       "    </tr>\n",
       "  </tbody>\n",
       "</table>\n",
       "</div>"
      ],
      "text/plain": [
       "    airline_name author_country        date  \\\n",
       "0  adria-airways        Germany  2015-04-10   \n",
       "1  adria-airways  United States  2015-01-05   \n",
       "2  adria-airways    Switzerland  2014-09-14   \n",
       "3  adria-airways      Singapore  2014-09-06   \n",
       "5  adria-airways        Germany  2014-06-08   \n",
       "\n",
       "                                             content     cabin_flown  \\\n",
       "0  Outbound flight FRA/PRN A319. 2 hours 10 min f...         Economy   \n",
       "1  Two short hops ZRH-LJU and LJU-VIE. Very fast ...  Business Class   \n",
       "2  Flew Zurich-Ljubljana on JP365 newish CRJ900. ...         Economy   \n",
       "3  Adria serves this 100 min flight from Ljubljan...  Business Class   \n",
       "5  Sarajevo-Frankfurt via Ljubljana. I loved flyi...         Economy   \n",
       "\n",
       "   overall_rating  seat_comfort_rating  cabin_staff_rating  \\\n",
       "0             7.0                  4.0                 4.0   \n",
       "1            10.0                  4.0                 5.0   \n",
       "2             9.0                  5.0                 5.0   \n",
       "3             8.0                  4.0                 4.0   \n",
       "5             9.0                  4.0                 4.0   \n",
       "\n",
       "   food_beverages_rating  value_money_rating  recommended  has_wifi  \\\n",
       "0                    4.0                 4.0            1         0   \n",
       "1                    4.0                 5.0            1         0   \n",
       "2                    4.0                 5.0            1         0   \n",
       "3                    3.0                 4.0            1         0   \n",
       "5                    3.0                 4.0            1         0   \n",
       "\n",
       "   has_entertainment  polarity  pos_neu_neg_review_score_neg  \\\n",
       "0                  1    0.7351                             0   \n",
       "1                  1    0.8777                             0   \n",
       "2                  1    0.9497                             0   \n",
       "3                  1    0.9228                             0   \n",
       "5                  1    0.8827                             0   \n",
       "\n",
       "   pos_neu_neg_review_score_neu  pos_neu_neg_review_score_pos  \\\n",
       "0                             0                             1   \n",
       "1                             0                             1   \n",
       "2                             0                             1   \n",
       "3                             0                             1   \n",
       "5                             0                             1   \n",
       "\n",
       "                                        review_clean  \n",
       "0  outbound fra/prn hour min thought drinks/snack...  \n",
       "1  two short hop zrh-lju lju-vie fast crj seat co...  \n",
       "2  flew zurich-ljubljana newish almost full depar...  \n",
       "3  adria serve min ljubljana amsterdam brand new ...  \n",
       "5  sarajevo-frankfurt via ljubljana love fly smal...  "
      ]
     },
     "execution_count": 47,
     "metadata": {},
     "output_type": "execute_result"
    }
   ],
   "source": [
    "positive_reviews.head()"
   ]
  },
  {
   "cell_type": "code",
   "execution_count": 48,
   "metadata": {},
   "outputs": [
    {
     "data": {
      "text/plain": [
       "airline_name                                                        adria-airways\n",
       "author_country                                                             Poland\n",
       "date                                                                   2014-06-16\n",
       "content                         WAW-SKJ Economy. No free snacks or drinks on t...\n",
       "cabin_flown                                                               Economy\n",
       "overall_rating                                                                  4\n",
       "seat_comfort_rating                                                             4\n",
       "cabin_staff_rating                                                              2\n",
       "food_beverages_rating                                                           1\n",
       "value_money_rating                                                              2\n",
       "recommended                                                                     0\n",
       "has_wifi                                                                        0\n",
       "has_entertainment                                                               1\n",
       "polarity                                                                   0.8184\n",
       "pos_neu_neg_review_score_neg                                                    1\n",
       "pos_neu_neg_review_score_neu                                                    0\n",
       "pos_neu_neg_review_score_pos                                                    0\n",
       "review_clean                    waw-skj economy free snack drink star alliance...\n",
       "Name: 4, dtype: object"
      ]
     },
     "execution_count": 48,
     "metadata": {},
     "output_type": "execute_result"
    }
   ],
   "source": [
    "df_nlp.iloc[4]"
   ]
  },
  {
   "cell_type": "code",
   "execution_count": 48,
   "metadata": {},
   "outputs": [
    {
     "ename": "NameError",
     "evalue": "name 'WordCloud' is not defined",
     "output_type": "error",
     "traceback": [
      "\u001b[0;31m---------------------------------------------------------------------------\u001b[0m",
      "\u001b[0;31mNameError\u001b[0m                                 Traceback (most recent call last)",
      "\u001b[0;32m<ipython-input-48-7d82ea8a16ec>\u001b[0m in \u001b[0;36m<module>\u001b[0;34m\u001b[0m\n\u001b[1;32m     19\u001b[0m \u001b[0;34m\u001b[0m\u001b[0m\n\u001b[1;32m     20\u001b[0m \u001b[0;31m# print wordcloud\u001b[0m\u001b[0;34m\u001b[0m\u001b[0;34m\u001b[0m\u001b[0;34m\u001b[0m\u001b[0m\n\u001b[0;32m---> 21\u001b[0;31m \u001b[0mshow_wordcloud\u001b[0m\u001b[0;34m(\u001b[0m\u001b[0mpositive_reviews\u001b[0m\u001b[0;34m[\u001b[0m\u001b[0;34m'review_clean'\u001b[0m\u001b[0;34m]\u001b[0m\u001b[0;34m)\u001b[0m\u001b[0;34m\u001b[0m\u001b[0;34m\u001b[0m\u001b[0m\n\u001b[0m",
      "\u001b[0;32m<ipython-input-48-7d82ea8a16ec>\u001b[0m in \u001b[0;36mshow_wordcloud\u001b[0;34m(data, title)\u001b[0m\n\u001b[1;32m      1\u001b[0m \u001b[0;32mdef\u001b[0m \u001b[0mshow_wordcloud\u001b[0m\u001b[0;34m(\u001b[0m\u001b[0mdata\u001b[0m\u001b[0;34m,\u001b[0m \u001b[0mtitle\u001b[0m \u001b[0;34m=\u001b[0m \u001b[0;32mNone\u001b[0m\u001b[0;34m)\u001b[0m\u001b[0;34m:\u001b[0m\u001b[0;34m\u001b[0m\u001b[0;34m\u001b[0m\u001b[0m\n\u001b[0;32m----> 2\u001b[0;31m     wordcloud = WordCloud(\n\u001b[0m\u001b[1;32m      3\u001b[0m         \u001b[0mbackground_color\u001b[0m \u001b[0;34m=\u001b[0m \u001b[0;34m'black'\u001b[0m\u001b[0;34m,\u001b[0m\u001b[0;34m\u001b[0m\u001b[0;34m\u001b[0m\u001b[0m\n\u001b[1;32m      4\u001b[0m         \u001b[0mstopwords\u001b[0m \u001b[0;34m=\u001b[0m \u001b[0mall_stopwords\u001b[0m\u001b[0;34m,\u001b[0m\u001b[0;34m\u001b[0m\u001b[0;34m\u001b[0m\u001b[0m\n\u001b[1;32m      5\u001b[0m         \u001b[0mmax_words\u001b[0m \u001b[0;34m=\u001b[0m \u001b[0;36m200\u001b[0m\u001b[0;34m,\u001b[0m\u001b[0;34m\u001b[0m\u001b[0;34m\u001b[0m\u001b[0m\n",
      "\u001b[0;31mNameError\u001b[0m: name 'WordCloud' is not defined"
     ]
    }
   ],
   "source": [
    "def show_wordcloud(data, title = None):\n",
    "    wordcloud = WordCloud(\n",
    "        background_color = 'black',\n",
    "        stopwords = all_stopwords,\n",
    "        max_words = 200,\n",
    "        max_font_size = 40, \n",
    "        scale = 3,\n",
    "        random_state = 42\n",
    "    ).generate(str(data))\n",
    "\n",
    "    fig = plt.figure(1, figsize = (20, 20))\n",
    "    plt.axis('off')\n",
    "    if title: \n",
    "        fig.suptitle(title, fontsize = 20)\n",
    "        fig.subplots_adjust(top = 2.3)\n",
    "\n",
    "    plt.imshow(wordcloud)\n",
    "    plt.show()\n",
    "    \n",
    "# print wordcloud\n",
    "show_wordcloud(positive_reviews['review_clean'])"
   ]
  },
  {
   "cell_type": "code",
   "execution_count": null,
   "metadata": {},
   "outputs": [],
   "source": [
    "show_wordcloud(negative_reviews['review_clean'])"
   ]
  },
  {
   "cell_type": "code",
   "execution_count": 49,
   "metadata": {},
   "outputs": [],
   "source": [
    "from sklearn.feature_extraction.text import TfidfVectorizer\n",
    "tfidf = TfidfVectorizer(min_df = 10)\n",
    "tfidf_result = tfidf.fit_transform(df_nlp[\"review_clean\"]).toarray()\n",
    "tfidf_df = pd.DataFrame(tfidf_result, columns = tfidf.get_feature_names())\n",
    "tfidf_df.columns = [\"word_\" + str(x) for x in tfidf_df.columns]\n",
    "tfidf_df.index = df_nlp.index\n",
    "df_nlp = pd.concat([df_nlp, tfidf_df], axis=1)"
   ]
  },
  {
   "cell_type": "code",
   "execution_count": 49,
   "metadata": {},
   "outputs": [
    {
     "data": {
      "text/plain": [
       "'review_clean'"
      ]
     },
     "execution_count": 49,
     "metadata": {},
     "output_type": "execute_result"
    }
   ],
   "source": [
    "df_nlp.columns[17]"
   ]
  },
  {
   "cell_type": "code",
   "execution_count": 50,
   "metadata": {},
   "outputs": [],
   "source": [
    "corr_values = df_nlp[['polarity','recommended']].dropna(axis=0,how='any').corr()"
   ]
  },
  {
   "cell_type": "code",
   "execution_count": 51,
   "metadata": {},
   "outputs": [
    {
     "data": {
      "image/png": "[encoded data removed]",
      "text/plain": [
       "<Figure size 288x288 with 2 Axes>"
      ]
     },
     "metadata": {
      "needs_background": "light"
     },
     "output_type": "display_data"
    },
    {
     "data": {
      "text/plain": [
       "<matplotlib.colors.LinearSegmentedColormap at 0x12eabb430>"
      ]
     },
     "execution_count": 51,
     "metadata": {},
     "output_type": "execute_result"
    }
   ],
   "source": [
    "def plot_cmap(matrix_values, figsize_w, figsize_h, filename):\n",
    "    if figsize_w is not None and figsize_h is not None:\n",
    "        plt.figure(figsize=(figsize_w,figsize_h))\n",
    "    else:\n",
    "        plt.figure()\n",
    "    cmap = sns.diverging_palette(240, 10, sep=20, as_cmap=True)\n",
    "    sns.heatmap(matrix_values, annot=True, fmt=\".2f\", cmap=cmap, vmin=-1, vmax=1)\n",
    "    plt.savefig(filename)\n",
    "    plt.show()\n",
    "    return cmap\n",
    "\n",
    "plot_cmap(matrix_values=corr_values, \n",
    "          figsize_w=4, \n",
    "          figsize_h=4,\n",
    "          filename='./Corr1.png')"
   ]
  },
  {
   "cell_type": "code",
   "execution_count": 100,
   "metadata": {},
   "outputs": [],
   "source": [
    "X = df_nlp.iloc[:,[6,7,8,9,13,14,15,16]]\n",
    "Y = df_nlp.iloc[:,10]"
   ]
  },
  {
   "cell_type": "code",
   "execution_count": 101,
   "metadata": {},
   "outputs": [],
   "source": [
    "X_train, X_test, Y_train, Y_test = train_test_split(X, Y, test_size=0.30, random_state=42)\n"
   ]
  },
  {
   "cell_type": "code",
   "execution_count": 102,
   "metadata": {
    "scrolled": false
   },
   "outputs": [
    {
     "data": {
      "text/html": [
       "<div>\n",
       "<style scoped>\n",
       "    .dataframe tbody tr th:only-of-type {\n",
       "        vertical-align: middle;\n",
       "    }\n",
       "\n",
       "    .dataframe tbody tr th {\n",
       "        vertical-align: top;\n",
       "    }\n",
       "\n",
       "    .dataframe thead th {\n",
       "        text-align: right;\n",
       "    }\n",
       "</style>\n",
       "<table border=\"1\" class=\"dataframe\">\n",
       "  <thead>\n",
       "    <tr style=\"text-align: right;\">\n",
       "      <th></th>\n",
       "      <th>seat_comfort_rating</th>\n",
       "      <th>cabin_staff_rating</th>\n",
       "      <th>food_beverages_rating</th>\n",
       "      <th>value_money_rating</th>\n",
       "      <th>polarity</th>\n",
       "      <th>pos_neu_neg_review_score_neg</th>\n",
       "      <th>pos_neu_neg_review_score_neu</th>\n",
       "      <th>pos_neu_neg_review_score_pos</th>\n",
       "    </tr>\n",
       "  </thead>\n",
       "  <tbody>\n",
       "    <tr>\n",
       "      <th>37205</th>\n",
       "      <td>1.0</td>\n",
       "      <td>1.0</td>\n",
       "      <td>1.0</td>\n",
       "      <td>2.0</td>\n",
       "      <td>-0.4497</td>\n",
       "      <td>1</td>\n",
       "      <td>0</td>\n",
       "      <td>0</td>\n",
       "    </tr>\n",
       "    <tr>\n",
       "      <th>40222</th>\n",
       "      <td>1.0</td>\n",
       "      <td>1.0</td>\n",
       "      <td>2.0</td>\n",
       "      <td>2.0</td>\n",
       "      <td>-0.5611</td>\n",
       "      <td>1</td>\n",
       "      <td>0</td>\n",
       "      <td>0</td>\n",
       "    </tr>\n",
       "    <tr>\n",
       "      <th>30756</th>\n",
       "      <td>4.0</td>\n",
       "      <td>5.0</td>\n",
       "      <td>4.0</td>\n",
       "      <td>5.0</td>\n",
       "      <td>-0.5145</td>\n",
       "      <td>0</td>\n",
       "      <td>0</td>\n",
       "      <td>1</td>\n",
       "    </tr>\n",
       "    <tr>\n",
       "      <th>14273</th>\n",
       "      <td>5.0</td>\n",
       "      <td>5.0</td>\n",
       "      <td>4.0</td>\n",
       "      <td>5.0</td>\n",
       "      <td>0.8847</td>\n",
       "      <td>0</td>\n",
       "      <td>0</td>\n",
       "      <td>1</td>\n",
       "    </tr>\n",
       "    <tr>\n",
       "      <th>28798</th>\n",
       "      <td>5.0</td>\n",
       "      <td>5.0</td>\n",
       "      <td>5.0</td>\n",
       "      <td>5.0</td>\n",
       "      <td>0.9368</td>\n",
       "      <td>0</td>\n",
       "      <td>0</td>\n",
       "      <td>1</td>\n",
       "    </tr>\n",
       "    <tr>\n",
       "      <th>...</th>\n",
       "      <td>...</td>\n",
       "      <td>...</td>\n",
       "      <td>...</td>\n",
       "      <td>...</td>\n",
       "      <td>...</td>\n",
       "      <td>...</td>\n",
       "      <td>...</td>\n",
       "      <td>...</td>\n",
       "    </tr>\n",
       "    <tr>\n",
       "      <th>30575</th>\n",
       "      <td>2.0</td>\n",
       "      <td>4.0</td>\n",
       "      <td>2.0</td>\n",
       "      <td>1.0</td>\n",
       "      <td>-0.7143</td>\n",
       "      <td>1</td>\n",
       "      <td>0</td>\n",
       "      <td>0</td>\n",
       "    </tr>\n",
       "    <tr>\n",
       "      <th>7273</th>\n",
       "      <td>5.0</td>\n",
       "      <td>5.0</td>\n",
       "      <td>5.0</td>\n",
       "      <td>4.0</td>\n",
       "      <td>0.9643</td>\n",
       "      <td>0</td>\n",
       "      <td>0</td>\n",
       "      <td>1</td>\n",
       "    </tr>\n",
       "    <tr>\n",
       "      <th>1263</th>\n",
       "      <td>4.0</td>\n",
       "      <td>5.0</td>\n",
       "      <td>5.0</td>\n",
       "      <td>5.0</td>\n",
       "      <td>0.9957</td>\n",
       "      <td>0</td>\n",
       "      <td>0</td>\n",
       "      <td>1</td>\n",
       "    </tr>\n",
       "    <tr>\n",
       "      <th>22328</th>\n",
       "      <td>4.0</td>\n",
       "      <td>4.0</td>\n",
       "      <td>3.0</td>\n",
       "      <td>3.0</td>\n",
       "      <td>0.9067</td>\n",
       "      <td>0</td>\n",
       "      <td>0</td>\n",
       "      <td>1</td>\n",
       "    </tr>\n",
       "    <tr>\n",
       "      <th>34097</th>\n",
       "      <td>4.0</td>\n",
       "      <td>5.0</td>\n",
       "      <td>5.0</td>\n",
       "      <td>5.0</td>\n",
       "      <td>-0.6915</td>\n",
       "      <td>0</td>\n",
       "      <td>0</td>\n",
       "      <td>1</td>\n",
       "    </tr>\n",
       "  </tbody>\n",
       "</table>\n",
       "<p>20405 rows × 8 columns</p>\n",
       "</div>"
      ],
      "text/plain": [
       "       seat_comfort_rating  cabin_staff_rating  food_beverages_rating  \\\n",
       "37205                  1.0                 1.0                    1.0   \n",
       "40222                  1.0                 1.0                    2.0   \n",
       "30756                  4.0                 5.0                    4.0   \n",
       "14273                  5.0                 5.0                    4.0   \n",
       "28798                  5.0                 5.0                    5.0   \n",
       "...                    ...                 ...                    ...   \n",
       "30575                  2.0                 4.0                    2.0   \n",
       "7273                   5.0                 5.0                    5.0   \n",
       "1263                   4.0                 5.0                    5.0   \n",
       "22328                  4.0                 4.0                    3.0   \n",
       "34097                  4.0                 5.0                    5.0   \n",
       "\n",
       "       value_money_rating  polarity  pos_neu_neg_review_score_neg  \\\n",
       "37205                 2.0   -0.4497                             1   \n",
       "40222                 2.0   -0.5611                             1   \n",
       "30756                 5.0   -0.5145                             0   \n",
       "14273                 5.0    0.8847                             0   \n",
       "28798                 5.0    0.9368                             0   \n",
       "...                   ...       ...                           ...   \n",
       "30575                 1.0   -0.7143                             1   \n",
       "7273                  4.0    0.9643                             0   \n",
       "1263                  5.0    0.9957                             0   \n",
       "22328                 3.0    0.9067                             0   \n",
       "34097                 5.0   -0.6915                             0   \n",
       "\n",
       "       pos_neu_neg_review_score_neu  pos_neu_neg_review_score_pos  \n",
       "37205                             0                             0  \n",
       "40222                             0                             0  \n",
       "30756                             0                             1  \n",
       "14273                             0                             1  \n",
       "28798                             0                             1  \n",
       "...                             ...                           ...  \n",
       "30575                             0                             0  \n",
       "7273                              0                             1  \n",
       "1263                              0                             1  \n",
       "22328                             0                             1  \n",
       "34097                             0                             1  \n",
       "\n",
       "[20405 rows x 8 columns]"
      ]
     },
     "execution_count": 102,
     "metadata": {},
     "output_type": "execute_result"
    }
   ],
   "source": [
    "X_train"
   ]
  },
  {
   "cell_type": "code",
   "execution_count": 103,
   "metadata": {},
   "outputs": [
    {
     "data": {
      "text/plain": [
       "LinearRegression()"
      ]
     },
     "execution_count": 103,
     "metadata": {},
     "output_type": "execute_result"
    }
   ],
   "source": [
    "from sklearn.linear_model import LinearRegression\n",
    "# creating an object of LinearRegression class\n",
    "LR = LinearRegression()\n",
    "# fitting the training data\n",
    "LR.fit(X_train,Y_train)"
   ]
  },
  {
   "cell_type": "code",
   "execution_count": 104,
   "metadata": {},
   "outputs": [
    {
     "data": {
      "text/plain": [
       "0.823584460477322"
      ]
     },
     "execution_count": 104,
     "metadata": {},
     "output_type": "execute_result"
    }
   ],
   "source": [
    "LR.predict(X_test)\n",
    "LR.score(X_test, Y_test)"
   ]
  },
  {
   "cell_type": "code",
   "execution_count": 105,
   "metadata": {},
   "outputs": [
    {
     "data": {
      "text/html": [
       "<table class=\"simpletable\">\n",
       "<caption>OLS Regression Results</caption>\n",
       "<tr>\n",
       "  <th>Dep. Variable:</th>       <td>recommended</td>   <th>  R-squared:         </th> <td>   0.823</td> \n",
       "</tr>\n",
       "<tr>\n",
       "  <th>Model:</th>                   <td>OLS</td>       <th>  Adj. R-squared:    </th> <td>   0.823</td> \n",
       "</tr>\n",
       "<tr>\n",
       "  <th>Method:</th>             <td>Least Squares</td>  <th>  F-statistic:       </th> <td>1.356e+04</td>\n",
       "</tr>\n",
       "<tr>\n",
       "  <th>Date:</th>             <td>Wed, 22 Dec 2021</td> <th>  Prob (F-statistic):</th>  <td>  0.00</td>  \n",
       "</tr>\n",
       "<tr>\n",
       "  <th>Time:</th>                 <td>00:53:18</td>     <th>  Log-Likelihood:    </th> <td>  3330.2</td> \n",
       "</tr>\n",
       "<tr>\n",
       "  <th>No. Observations:</th>      <td> 20405</td>      <th>  AIC:               </th> <td>  -6644.</td> \n",
       "</tr>\n",
       "<tr>\n",
       "  <th>Df Residuals:</th>          <td> 20397</td>      <th>  BIC:               </th> <td>  -6581.</td> \n",
       "</tr>\n",
       "<tr>\n",
       "  <th>Df Model:</th>              <td>     7</td>      <th>                     </th>     <td> </td>    \n",
       "</tr>\n",
       "<tr>\n",
       "  <th>Covariance Type:</th>      <td>nonrobust</td>    <th>                     </th>     <td> </td>    \n",
       "</tr>\n",
       "</table>\n",
       "<table class=\"simpletable\">\n",
       "<tr>\n",
       "                <td></td>                  <th>coef</th>     <th>std err</th>      <th>t</th>      <th>P>|t|</th>  <th>[0.025</th>    <th>0.975]</th>  \n",
       "</tr>\n",
       "<tr>\n",
       "  <th>const</th>                        <td>    0.2316</td> <td>    0.005</td> <td>   44.572</td> <td> 0.000</td> <td>    0.221</td> <td>    0.242</td>\n",
       "</tr>\n",
       "<tr>\n",
       "  <th>seat_comfort_rating</th>          <td>    0.0076</td> <td>    0.002</td> <td>    4.792</td> <td> 0.000</td> <td>    0.005</td> <td>    0.011</td>\n",
       "</tr>\n",
       "<tr>\n",
       "  <th>cabin_staff_rating</th>           <td>    0.0134</td> <td>    0.002</td> <td>    8.269</td> <td> 0.000</td> <td>    0.010</td> <td>    0.017</td>\n",
       "</tr>\n",
       "<tr>\n",
       "  <th>food_beverages_rating</th>        <td>    0.0027</td> <td>    0.001</td> <td>    2.128</td> <td> 0.033</td> <td>    0.000</td> <td>    0.005</td>\n",
       "</tr>\n",
       "<tr>\n",
       "  <th>value_money_rating</th>           <td>    0.0329</td> <td>    0.002</td> <td>   17.692</td> <td> 0.000</td> <td>    0.029</td> <td>    0.037</td>\n",
       "</tr>\n",
       "<tr>\n",
       "  <th>polarity</th>                     <td>    0.0472</td> <td>    0.003</td> <td>   17.093</td> <td> 0.000</td> <td>    0.042</td> <td>    0.053</td>\n",
       "</tr>\n",
       "<tr>\n",
       "  <th>pos_neu_neg_review_score_neg</th> <td>   -0.3025</td> <td>    0.003</td> <td> -115.930</td> <td> 0.000</td> <td>   -0.308</td> <td>   -0.297</td>\n",
       "</tr>\n",
       "<tr>\n",
       "  <th>pos_neu_neg_review_score_neu</th> <td>    0.0601</td> <td>    0.004</td> <td>   16.425</td> <td> 0.000</td> <td>    0.053</td> <td>    0.067</td>\n",
       "</tr>\n",
       "<tr>\n",
       "  <th>pos_neu_neg_review_score_pos</th> <td>    0.4740</td> <td>    0.005</td> <td>  102.644</td> <td> 0.000</td> <td>    0.465</td> <td>    0.483</td>\n",
       "</tr>\n",
       "</table>\n",
       "<table class=\"simpletable\">\n",
       "<tr>\n",
       "  <th>Omnibus:</th>       <td>2932.380</td> <th>  Durbin-Watson:     </th> <td>   1.996</td> \n",
       "</tr>\n",
       "<tr>\n",
       "  <th>Prob(Omnibus):</th>  <td> 0.000</td>  <th>  Jarque-Bera (JB):  </th> <td>37014.058</td>\n",
       "</tr>\n",
       "<tr>\n",
       "  <th>Skew:</th>           <td> 0.244</td>  <th>  Prob(JB):          </th> <td>    0.00</td> \n",
       "</tr>\n",
       "<tr>\n",
       "  <th>Kurtosis:</th>       <td> 9.580</td>  <th>  Cond. No.          </th> <td>1.68e+15</td> \n",
       "</tr>\n",
       "</table><br/><br/>Notes:<br/>[1] Standard Errors assume that the covariance matrix of the errors is correctly specified.<br/>[2] The smallest eigenvalue is 3.69e-25. This might indicate that there are<br/>strong multicollinearity problems or that the design matrix is singular."
      ],
      "text/plain": [
       "<class 'statsmodels.iolib.summary.Summary'>\n",
       "\"\"\"\n",
       "                            OLS Regression Results                            \n",
       "==============================================================================\n",
       "Dep. Variable:            recommended   R-squared:                       0.823\n",
       "Model:                            OLS   Adj. R-squared:                  0.823\n",
       "Method:                 Least Squares   F-statistic:                 1.356e+04\n",
       "Date:                Wed, 22 Dec 2021   Prob (F-statistic):               0.00\n",
       "Time:                        00:53:18   Log-Likelihood:                 3330.2\n",
       "No. Observations:               20405   AIC:                            -6644.\n",
       "Df Residuals:                   20397   BIC:                            -6581.\n",
       "Df Model:                           7                                         \n",
       "Covariance Type:            nonrobust                                         \n",
       "================================================================================================\n",
       "                                   coef    std err          t      P>|t|      [0.025      0.975]\n",
       "------------------------------------------------------------------------------------------------\n",
       "const                            0.2316      0.005     44.572      0.000       0.221       0.242\n",
       "seat_comfort_rating              0.0076      0.002      4.792      0.000       0.005       0.011\n",
       "cabin_staff_rating               0.0134      0.002      8.269      0.000       0.010       0.017\n",
       "food_beverages_rating            0.0027      0.001      2.128      0.033       0.000       0.005\n",
       "value_money_rating               0.0329      0.002     17.692      0.000       0.029       0.037\n",
       "polarity                         0.0472      0.003     17.093      0.000       0.042       0.053\n",
       "pos_neu_neg_review_score_neg    -0.3025      0.003   -115.930      0.000      -0.308      -0.297\n",
       "pos_neu_neg_review_score_neu     0.0601      0.004     16.425      0.000       0.053       0.067\n",
       "pos_neu_neg_review_score_pos     0.4740      0.005    102.644      0.000       0.465       0.483\n",
       "==============================================================================\n",
       "Omnibus:                     2932.380   Durbin-Watson:                   1.996\n",
       "Prob(Omnibus):                  0.000   Jarque-Bera (JB):            37014.058\n",
       "Skew:                           0.244   Prob(JB):                         0.00\n",
       "Kurtosis:                       9.580   Cond. No.                     1.68e+15\n",
       "==============================================================================\n",
       "\n",
       "Notes:\n",
       "[1] Standard Errors assume that the covariance matrix of the errors is correctly specified.\n",
       "[2] The smallest eigenvalue is 3.69e-25. This might indicate that there are\n",
       "strong multicollinearity problems or that the design matrix is singular.\n",
       "\"\"\""
      ]
     },
     "execution_count": 105,
     "metadata": {},
     "output_type": "execute_result"
    }
   ],
   "source": [
    "import statsmodels.api as sm    \n",
    "X_train1 = sm.add_constant(X_train)\n",
    "lm_1 = sm.OLS(Y_train,X_train1)\n",
    "lm_2 = lm_1.fit()\n",
    "lm_2.summary()\n",
    "#LR.summary()"
   ]
  },
  {
   "cell_type": "code",
   "execution_count": 106,
   "metadata": {},
   "outputs": [
    {
     "data": {
      "text/plain": [
       "RandomForestClassifier(max_depth=2, random_state=0)"
      ]
     },
     "execution_count": 106,
     "metadata": {},
     "output_type": "execute_result"
    }
   ],
   "source": [
    "from sklearn.ensemble import RandomForestClassifier\n",
    "from sklearn.datasets import make_classification\n",
    "clf = RandomForestClassifier(max_depth=2, random_state=0)\n",
    "clf.fit(X_train, Y_train)"
   ]
  },
  {
   "cell_type": "code",
   "execution_count": 107,
   "metadata": {},
   "outputs": [
    {
     "data": {
      "text/plain": [
       "0.9431740224102447"
      ]
     },
     "execution_count": 107,
     "metadata": {},
     "output_type": "execute_result"
    }
   ],
   "source": [
    "Y_pred = clf.predict(X_test)\n",
    "clf.score(X_test, Y_test)"
   ]
  },
  {
   "cell_type": "code",
   "execution_count": 108,
   "metadata": {
    "scrolled": true
   },
   "outputs": [
    {
     "name": "stdout",
     "output_type": "stream",
     "text": [
      "[[3256  147]\n",
      " [ 350 4993]]\n",
      "              precision    recall  f1-score   support\n",
      "\n",
      "           0       0.90      0.96      0.93      3403\n",
      "           1       0.97      0.93      0.95      5343\n",
      "\n",
      "    accuracy                           0.94      8746\n",
      "   macro avg       0.94      0.95      0.94      8746\n",
      "weighted avg       0.94      0.94      0.94      8746\n",
      "\n"
     ]
    }
   ],
   "source": [
    "from sklearn.metrics import classification_report, confusion_matrix\n",
    "print(confusion_matrix(Y_test, Y_pred))\n",
    "print(classification_report(Y_test, Y_pred))"
   ]
  },
  {
   "cell_type": "code",
   "execution_count": 109,
   "metadata": {},
   "outputs": [],
   "source": [
    "clf_dt = DecisionTreeClassifier()\n",
    "clf_dt = clf_dt.fit(X_train, Y_train)"
   ]
  },
  {
   "cell_type": "code",
   "execution_count": 110,
   "metadata": {},
   "outputs": [],
   "source": [
    "y_pred = clf_dt.predict(X_test)"
   ]
  },
  {
   "cell_type": "code",
   "execution_count": 111,
   "metadata": {
    "scrolled": true
   },
   "outputs": [
    {
     "data": {
      "text/plain": [
       "0.9227075234392865"
      ]
     },
     "execution_count": 111,
     "metadata": {},
     "output_type": "execute_result"
    }
   ],
   "source": [
    "clf_dt.score(X_test,Y_test)"
   ]
  },
  {
   "cell_type": "code",
   "execution_count": 112,
   "metadata": {},
   "outputs": [
    {
     "name": "stdout",
     "output_type": "stream",
     "text": [
      "[[3080  323]\n",
      " [ 353 4990]]\n",
      "              precision    recall  f1-score   support\n",
      "\n",
      "           0       0.90      0.91      0.90      3403\n",
      "           1       0.94      0.93      0.94      5343\n",
      "\n",
      "    accuracy                           0.92      8746\n",
      "   macro avg       0.92      0.92      0.92      8746\n",
      "weighted avg       0.92      0.92      0.92      8746\n",
      "\n"
     ]
    }
   ],
   "source": [
    "from sklearn.metrics import classification_report, confusion_matrix\n",
    "print(confusion_matrix(Y_test, y_pred))\n",
    "print(classification_report(Y_test, y_pred))"
   ]
  },
  {
   "cell_type": "code",
   "execution_count": 122,
   "metadata": {},
   "outputs": [],
   "source": [
    "X1 = df_nlp.iloc[:,[6,7,8,12]]\n",
    "Y1 = df_nlp.iloc[:,9]"
   ]
  },
  {
   "cell_type": "code",
   "execution_count": 123,
   "metadata": {},
   "outputs": [],
   "source": [
    "X2 = df_nlp.iloc[:,[6,7,8,12]]\n",
    "Y2 = df_nlp.iloc[:,5]"
   ]
  },
  {
   "cell_type": "code",
   "execution_count": 124,
   "metadata": {},
   "outputs": [],
   "source": [
    "X_train1, X_test1, Y_train1, Y_test1 = train_test_split(X1, Y1, test_size=0.30, random_state=42)"
   ]
  },
  {
   "cell_type": "code",
   "execution_count": 127,
   "metadata": {},
   "outputs": [
    {
     "data": {
      "text/html": [
       "<div>\n",
       "<style scoped>\n",
       "    .dataframe tbody tr th:only-of-type {\n",
       "        vertical-align: middle;\n",
       "    }\n",
       "\n",
       "    .dataframe tbody tr th {\n",
       "        vertical-align: top;\n",
       "    }\n",
       "\n",
       "    .dataframe thead th {\n",
       "        text-align: right;\n",
       "    }\n",
       "</style>\n",
       "<table border=\"1\" class=\"dataframe\">\n",
       "  <thead>\n",
       "    <tr style=\"text-align: right;\">\n",
       "      <th></th>\n",
       "      <th>seat_comfort_rating</th>\n",
       "      <th>cabin_staff_rating</th>\n",
       "      <th>food_beverages_rating</th>\n",
       "      <th>has_entertainment</th>\n",
       "    </tr>\n",
       "  </thead>\n",
       "  <tbody>\n",
       "    <tr>\n",
       "      <th>0</th>\n",
       "      <td>4.0</td>\n",
       "      <td>4.0</td>\n",
       "      <td>4.0</td>\n",
       "      <td>1</td>\n",
       "    </tr>\n",
       "    <tr>\n",
       "      <th>1</th>\n",
       "      <td>4.0</td>\n",
       "      <td>5.0</td>\n",
       "      <td>4.0</td>\n",
       "      <td>1</td>\n",
       "    </tr>\n",
       "    <tr>\n",
       "      <th>2</th>\n",
       "      <td>5.0</td>\n",
       "      <td>5.0</td>\n",
       "      <td>4.0</td>\n",
       "      <td>1</td>\n",
       "    </tr>\n",
       "    <tr>\n",
       "      <th>3</th>\n",
       "      <td>4.0</td>\n",
       "      <td>4.0</td>\n",
       "      <td>3.0</td>\n",
       "      <td>1</td>\n",
       "    </tr>\n",
       "    <tr>\n",
       "      <th>4</th>\n",
       "      <td>4.0</td>\n",
       "      <td>2.0</td>\n",
       "      <td>1.0</td>\n",
       "      <td>1</td>\n",
       "    </tr>\n",
       "    <tr>\n",
       "      <th>...</th>\n",
       "      <td>...</td>\n",
       "      <td>...</td>\n",
       "      <td>...</td>\n",
       "      <td>...</td>\n",
       "    </tr>\n",
       "    <tr>\n",
       "      <th>41207</th>\n",
       "      <td>3.0</td>\n",
       "      <td>3.0</td>\n",
       "      <td>0.0</td>\n",
       "      <td>1</td>\n",
       "    </tr>\n",
       "    <tr>\n",
       "      <th>41210</th>\n",
       "      <td>1.0</td>\n",
       "      <td>3.0</td>\n",
       "      <td>3.0</td>\n",
       "      <td>1</td>\n",
       "    </tr>\n",
       "    <tr>\n",
       "      <th>41213</th>\n",
       "      <td>2.0</td>\n",
       "      <td>1.0</td>\n",
       "      <td>0.0</td>\n",
       "      <td>1</td>\n",
       "    </tr>\n",
       "    <tr>\n",
       "      <th>41216</th>\n",
       "      <td>3.0</td>\n",
       "      <td>4.0</td>\n",
       "      <td>2.0</td>\n",
       "      <td>1</td>\n",
       "    </tr>\n",
       "    <tr>\n",
       "      <th>41217</th>\n",
       "      <td>2.0</td>\n",
       "      <td>3.0</td>\n",
       "      <td>2.0</td>\n",
       "      <td>1</td>\n",
       "    </tr>\n",
       "  </tbody>\n",
       "</table>\n",
       "<p>29151 rows × 4 columns</p>\n",
       "</div>"
      ],
      "text/plain": [
       "       seat_comfort_rating  cabin_staff_rating  food_beverages_rating  \\\n",
       "0                      4.0                 4.0                    4.0   \n",
       "1                      4.0                 5.0                    4.0   \n",
       "2                      5.0                 5.0                    4.0   \n",
       "3                      4.0                 4.0                    3.0   \n",
       "4                      4.0                 2.0                    1.0   \n",
       "...                    ...                 ...                    ...   \n",
       "41207                  3.0                 3.0                    0.0   \n",
       "41210                  1.0                 3.0                    3.0   \n",
       "41213                  2.0                 1.0                    0.0   \n",
       "41216                  3.0                 4.0                    2.0   \n",
       "41217                  2.0                 3.0                    2.0   \n",
       "\n",
       "       has_entertainment  \n",
       "0                      1  \n",
       "1                      1  \n",
       "2                      1  \n",
       "3                      1  \n",
       "4                      1  \n",
       "...                  ...  \n",
       "41207                  1  \n",
       "41210                  1  \n",
       "41213                  1  \n",
       "41216                  1  \n",
       "41217                  1  \n",
       "\n",
       "[29151 rows x 4 columns]"
      ]
     },
     "execution_count": 127,
     "metadata": {},
     "output_type": "execute_result"
    }
   ],
   "source": [
    "X1"
   ]
  },
  {
   "cell_type": "code",
   "execution_count": 128,
   "metadata": {},
   "outputs": [],
   "source": [
    "X_train2, X_test2, Y_train2, Y_test2 = train_test_split(X2, Y2, test_size=0.30, random_state=42)"
   ]
  },
  {
   "cell_type": "code",
   "execution_count": 129,
   "metadata": {},
   "outputs": [
    {
     "data": {
      "text/html": [
       "<div>\n",
       "<style scoped>\n",
       "    .dataframe tbody tr th:only-of-type {\n",
       "        vertical-align: middle;\n",
       "    }\n",
       "\n",
       "    .dataframe tbody tr th {\n",
       "        vertical-align: top;\n",
       "    }\n",
       "\n",
       "    .dataframe thead th {\n",
       "        text-align: right;\n",
       "    }\n",
       "</style>\n",
       "<table border=\"1\" class=\"dataframe\">\n",
       "  <thead>\n",
       "    <tr style=\"text-align: right;\">\n",
       "      <th></th>\n",
       "      <th>seat_comfort_rating</th>\n",
       "      <th>cabin_staff_rating</th>\n",
       "      <th>food_beverages_rating</th>\n",
       "      <th>has_entertainment</th>\n",
       "    </tr>\n",
       "  </thead>\n",
       "  <tbody>\n",
       "    <tr>\n",
       "      <th>37205</th>\n",
       "      <td>1.0</td>\n",
       "      <td>1.0</td>\n",
       "      <td>1.0</td>\n",
       "      <td>1</td>\n",
       "    </tr>\n",
       "    <tr>\n",
       "      <th>40222</th>\n",
       "      <td>1.0</td>\n",
       "      <td>1.0</td>\n",
       "      <td>2.0</td>\n",
       "      <td>1</td>\n",
       "    </tr>\n",
       "    <tr>\n",
       "      <th>30756</th>\n",
       "      <td>4.0</td>\n",
       "      <td>5.0</td>\n",
       "      <td>4.0</td>\n",
       "      <td>0</td>\n",
       "    </tr>\n",
       "    <tr>\n",
       "      <th>14273</th>\n",
       "      <td>5.0</td>\n",
       "      <td>5.0</td>\n",
       "      <td>4.0</td>\n",
       "      <td>0</td>\n",
       "    </tr>\n",
       "    <tr>\n",
       "      <th>28798</th>\n",
       "      <td>5.0</td>\n",
       "      <td>5.0</td>\n",
       "      <td>5.0</td>\n",
       "      <td>1</td>\n",
       "    </tr>\n",
       "    <tr>\n",
       "      <th>...</th>\n",
       "      <td>...</td>\n",
       "      <td>...</td>\n",
       "      <td>...</td>\n",
       "      <td>...</td>\n",
       "    </tr>\n",
       "    <tr>\n",
       "      <th>30575</th>\n",
       "      <td>2.0</td>\n",
       "      <td>4.0</td>\n",
       "      <td>2.0</td>\n",
       "      <td>1</td>\n",
       "    </tr>\n",
       "    <tr>\n",
       "      <th>7273</th>\n",
       "      <td>5.0</td>\n",
       "      <td>5.0</td>\n",
       "      <td>5.0</td>\n",
       "      <td>1</td>\n",
       "    </tr>\n",
       "    <tr>\n",
       "      <th>1263</th>\n",
       "      <td>4.0</td>\n",
       "      <td>5.0</td>\n",
       "      <td>5.0</td>\n",
       "      <td>1</td>\n",
       "    </tr>\n",
       "    <tr>\n",
       "      <th>22328</th>\n",
       "      <td>4.0</td>\n",
       "      <td>4.0</td>\n",
       "      <td>3.0</td>\n",
       "      <td>1</td>\n",
       "    </tr>\n",
       "    <tr>\n",
       "      <th>34097</th>\n",
       "      <td>4.0</td>\n",
       "      <td>5.0</td>\n",
       "      <td>5.0</td>\n",
       "      <td>1</td>\n",
       "    </tr>\n",
       "  </tbody>\n",
       "</table>\n",
       "<p>20405 rows × 4 columns</p>\n",
       "</div>"
      ],
      "text/plain": [
       "       seat_comfort_rating  cabin_staff_rating  food_beverages_rating  \\\n",
       "37205                  1.0                 1.0                    1.0   \n",
       "40222                  1.0                 1.0                    2.0   \n",
       "30756                  4.0                 5.0                    4.0   \n",
       "14273                  5.0                 5.0                    4.0   \n",
       "28798                  5.0                 5.0                    5.0   \n",
       "...                    ...                 ...                    ...   \n",
       "30575                  2.0                 4.0                    2.0   \n",
       "7273                   5.0                 5.0                    5.0   \n",
       "1263                   4.0                 5.0                    5.0   \n",
       "22328                  4.0                 4.0                    3.0   \n",
       "34097                  4.0                 5.0                    5.0   \n",
       "\n",
       "       has_entertainment  \n",
       "37205                  1  \n",
       "40222                  1  \n",
       "30756                  0  \n",
       "14273                  0  \n",
       "28798                  1  \n",
       "...                  ...  \n",
       "30575                  1  \n",
       "7273                   1  \n",
       "1263                   1  \n",
       "22328                  1  \n",
       "34097                  1  \n",
       "\n",
       "[20405 rows x 4 columns]"
      ]
     },
     "execution_count": 129,
     "metadata": {},
     "output_type": "execute_result"
    }
   ],
   "source": [
    "X_train2"
   ]
  },
  {
   "cell_type": "code",
   "execution_count": 130,
   "metadata": {},
   "outputs": [
    {
     "data": {
      "text/html": [
       "<table class=\"simpletable\">\n",
       "<caption>OLS Regression Results</caption>\n",
       "<tr>\n",
       "  <th>Dep. Variable:</th>    <td>value_money_rating</td> <th>  R-squared:         </th> <td>   0.638</td> \n",
       "</tr>\n",
       "<tr>\n",
       "  <th>Model:</th>                    <td>OLS</td>        <th>  Adj. R-squared:    </th> <td>   0.638</td> \n",
       "</tr>\n",
       "<tr>\n",
       "  <th>Method:</th>              <td>Least Squares</td>   <th>  F-statistic:       </th> <td>   8973.</td> \n",
       "</tr>\n",
       "<tr>\n",
       "  <th>Date:</th>              <td>Wed, 22 Dec 2021</td>  <th>  Prob (F-statistic):</th>  <td>  0.00</td>  \n",
       "</tr>\n",
       "<tr>\n",
       "  <th>Time:</th>                  <td>00:55:38</td>      <th>  Log-Likelihood:    </th> <td> -26061.</td> \n",
       "</tr>\n",
       "<tr>\n",
       "  <th>No. Observations:</th>       <td> 20405</td>       <th>  AIC:               </th> <td>5.213e+04</td>\n",
       "</tr>\n",
       "<tr>\n",
       "  <th>Df Residuals:</th>           <td> 20400</td>       <th>  BIC:               </th> <td>5.217e+04</td>\n",
       "</tr>\n",
       "<tr>\n",
       "  <th>Df Model:</th>               <td>     4</td>       <th>                     </th>     <td> </td>    \n",
       "</tr>\n",
       "<tr>\n",
       "  <th>Covariance Type:</th>       <td>nonrobust</td>     <th>                     </th>     <td> </td>    \n",
       "</tr>\n",
       "</table>\n",
       "<table class=\"simpletable\">\n",
       "<tr>\n",
       "            <td></td>               <th>coef</th>     <th>std err</th>      <th>t</th>      <th>P>|t|</th>  <th>[0.025</th>    <th>0.975]</th>  \n",
       "</tr>\n",
       "<tr>\n",
       "  <th>const</th>                 <td>    0.5904</td> <td>    0.029</td> <td>   20.091</td> <td> 0.000</td> <td>    0.533</td> <td>    0.648</td>\n",
       "</tr>\n",
       "<tr>\n",
       "  <th>seat_comfort_rating</th>   <td>    0.4233</td> <td>    0.006</td> <td>   71.852</td> <td> 0.000</td> <td>    0.412</td> <td>    0.435</td>\n",
       "</tr>\n",
       "<tr>\n",
       "  <th>cabin_staff_rating</th>    <td>    0.3773</td> <td>    0.006</td> <td>   64.443</td> <td> 0.000</td> <td>    0.366</td> <td>    0.389</td>\n",
       "</tr>\n",
       "<tr>\n",
       "  <th>food_beverages_rating</th> <td>    0.1336</td> <td>    0.005</td> <td>   25.149</td> <td> 0.000</td> <td>    0.123</td> <td>    0.144</td>\n",
       "</tr>\n",
       "<tr>\n",
       "  <th>has_entertainment</th>     <td>   -0.2876</td> <td>    0.025</td> <td>  -11.435</td> <td> 0.000</td> <td>   -0.337</td> <td>   -0.238</td>\n",
       "</tr>\n",
       "</table>\n",
       "<table class=\"simpletable\">\n",
       "<tr>\n",
       "  <th>Omnibus:</th>       <td>511.271</td> <th>  Durbin-Watson:     </th> <td>   1.982</td> \n",
       "</tr>\n",
       "<tr>\n",
       "  <th>Prob(Omnibus):</th> <td> 0.000</td>  <th>  Jarque-Bera (JB):  </th> <td> 992.039</td> \n",
       "</tr>\n",
       "<tr>\n",
       "  <th>Skew:</th>          <td>-0.176</td>  <th>  Prob(JB):          </th> <td>3.81e-216</td>\n",
       "</tr>\n",
       "<tr>\n",
       "  <th>Kurtosis:</th>      <td> 4.021</td>  <th>  Cond. No.          </th> <td>    37.4</td> \n",
       "</tr>\n",
       "</table><br/><br/>Notes:<br/>[1] Standard Errors assume that the covariance matrix of the errors is correctly specified."
      ],
      "text/plain": [
       "<class 'statsmodels.iolib.summary.Summary'>\n",
       "\"\"\"\n",
       "                            OLS Regression Results                            \n",
       "==============================================================================\n",
       "Dep. Variable:     value_money_rating   R-squared:                       0.638\n",
       "Model:                            OLS   Adj. R-squared:                  0.638\n",
       "Method:                 Least Squares   F-statistic:                     8973.\n",
       "Date:                Wed, 22 Dec 2021   Prob (F-statistic):               0.00\n",
       "Time:                        00:55:38   Log-Likelihood:                -26061.\n",
       "No. Observations:               20405   AIC:                         5.213e+04\n",
       "Df Residuals:                   20400   BIC:                         5.217e+04\n",
       "Df Model:                           4                                         \n",
       "Covariance Type:            nonrobust                                         \n",
       "=========================================================================================\n",
       "                            coef    std err          t      P>|t|      [0.025      0.975]\n",
       "-----------------------------------------------------------------------------------------\n",
       "const                     0.5904      0.029     20.091      0.000       0.533       0.648\n",
       "seat_comfort_rating       0.4233      0.006     71.852      0.000       0.412       0.435\n",
       "cabin_staff_rating        0.3773      0.006     64.443      0.000       0.366       0.389\n",
       "food_beverages_rating     0.1336      0.005     25.149      0.000       0.123       0.144\n",
       "has_entertainment        -0.2876      0.025    -11.435      0.000      -0.337      -0.238\n",
       "==============================================================================\n",
       "Omnibus:                      511.271   Durbin-Watson:                   1.982\n",
       "Prob(Omnibus):                  0.000   Jarque-Bera (JB):              992.039\n",
       "Skew:                          -0.176   Prob(JB):                    3.81e-216\n",
       "Kurtosis:                       4.021   Cond. No.                         37.4\n",
       "==============================================================================\n",
       "\n",
       "Notes:\n",
       "[1] Standard Errors assume that the covariance matrix of the errors is correctly specified.\n",
       "\"\"\""
      ]
     },
     "execution_count": 130,
     "metadata": {},
     "output_type": "execute_result"
    }
   ],
   "source": [
    "X_train1 = sm.add_constant(X_train1)\n",
    "lm_1 = sm.OLS(Y_train1,X_train1)\n",
    "lm_2 = lm_1.fit()\n",
    "lm_2.summary()\n",
    "#LR.summary()"
   ]
  },
  {
   "cell_type": "code",
   "execution_count": 131,
   "metadata": {},
   "outputs": [
    {
     "data": {
      "text/html": [
       "<table class=\"simpletable\">\n",
       "<caption>OLS Regression Results</caption>\n",
       "<tr>\n",
       "  <th>Dep. Variable:</th>     <td>overall_rating</td>  <th>  R-squared:         </th> <td>   0.709</td> \n",
       "</tr>\n",
       "<tr>\n",
       "  <th>Model:</th>                   <td>OLS</td>       <th>  Adj. R-squared:    </th> <td>   0.709</td> \n",
       "</tr>\n",
       "<tr>\n",
       "  <th>Method:</th>             <td>Least Squares</td>  <th>  F-statistic:       </th> <td>1.244e+04</td>\n",
       "</tr>\n",
       "<tr>\n",
       "  <th>Date:</th>             <td>Wed, 22 Dec 2021</td> <th>  Prob (F-statistic):</th>  <td>  0.00</td>  \n",
       "</tr>\n",
       "<tr>\n",
       "  <th>Time:</th>                 <td>00:55:40</td>     <th>  Log-Likelihood:    </th> <td> -40247.</td> \n",
       "</tr>\n",
       "<tr>\n",
       "  <th>No. Observations:</th>      <td> 20405</td>      <th>  AIC:               </th> <td>8.050e+04</td>\n",
       "</tr>\n",
       "<tr>\n",
       "  <th>Df Residuals:</th>          <td> 20400</td>      <th>  BIC:               </th> <td>8.054e+04</td>\n",
       "</tr>\n",
       "<tr>\n",
       "  <th>Df Model:</th>              <td>     4</td>      <th>                     </th>     <td> </td>    \n",
       "</tr>\n",
       "<tr>\n",
       "  <th>Covariance Type:</th>      <td>nonrobust</td>    <th>                     </th>     <td> </td>    \n",
       "</tr>\n",
       "</table>\n",
       "<table class=\"simpletable\">\n",
       "<tr>\n",
       "            <td></td>               <th>coef</th>     <th>std err</th>      <th>t</th>      <th>P>|t|</th>  <th>[0.025</th>    <th>0.975]</th>  \n",
       "</tr>\n",
       "<tr>\n",
       "  <th>const</th>                 <td>   -0.7181</td> <td>    0.059</td> <td>  -12.193</td> <td> 0.000</td> <td>   -0.834</td> <td>   -0.603</td>\n",
       "</tr>\n",
       "<tr>\n",
       "  <th>seat_comfort_rating</th>   <td>    0.8442</td> <td>    0.012</td> <td>   71.494</td> <td> 0.000</td> <td>    0.821</td> <td>    0.867</td>\n",
       "</tr>\n",
       "<tr>\n",
       "  <th>cabin_staff_rating</th>    <td>    1.0337</td> <td>    0.012</td> <td>   88.092</td> <td> 0.000</td> <td>    1.011</td> <td>    1.057</td>\n",
       "</tr>\n",
       "<tr>\n",
       "  <th>food_beverages_rating</th> <td>    0.3089</td> <td>    0.011</td> <td>   29.012</td> <td> 0.000</td> <td>    0.288</td> <td>    0.330</td>\n",
       "</tr>\n",
       "<tr>\n",
       "  <th>has_entertainment</th>     <td>   -0.5383</td> <td>    0.050</td> <td>  -10.679</td> <td> 0.000</td> <td>   -0.637</td> <td>   -0.440</td>\n",
       "</tr>\n",
       "</table>\n",
       "<table class=\"simpletable\">\n",
       "<tr>\n",
       "  <th>Omnibus:</th>       <td>2516.069</td> <th>  Durbin-Watson:     </th> <td>   2.007</td> \n",
       "</tr>\n",
       "<tr>\n",
       "  <th>Prob(Omnibus):</th>  <td> 0.000</td>  <th>  Jarque-Bera (JB):  </th> <td>21305.797</td>\n",
       "</tr>\n",
       "<tr>\n",
       "  <th>Skew:</th>           <td> 0.296</td>  <th>  Prob(JB):          </th> <td>    0.00</td> \n",
       "</tr>\n",
       "<tr>\n",
       "  <th>Kurtosis:</th>       <td> 7.971</td>  <th>  Cond. No.          </th> <td>    37.4</td> \n",
       "</tr>\n",
       "</table><br/><br/>Notes:<br/>[1] Standard Errors assume that the covariance matrix of the errors is correctly specified."
      ],
      "text/plain": [
       "<class 'statsmodels.iolib.summary.Summary'>\n",
       "\"\"\"\n",
       "                            OLS Regression Results                            \n",
       "==============================================================================\n",
       "Dep. Variable:         overall_rating   R-squared:                       0.709\n",
       "Model:                            OLS   Adj. R-squared:                  0.709\n",
       "Method:                 Least Squares   F-statistic:                 1.244e+04\n",
       "Date:                Wed, 22 Dec 2021   Prob (F-statistic):               0.00\n",
       "Time:                        00:55:40   Log-Likelihood:                -40247.\n",
       "No. Observations:               20405   AIC:                         8.050e+04\n",
       "Df Residuals:                   20400   BIC:                         8.054e+04\n",
       "Df Model:                           4                                         \n",
       "Covariance Type:            nonrobust                                         \n",
       "=========================================================================================\n",
       "                            coef    std err          t      P>|t|      [0.025      0.975]\n",
       "-----------------------------------------------------------------------------------------\n",
       "const                    -0.7181      0.059    -12.193      0.000      -0.834      -0.603\n",
       "seat_comfort_rating       0.8442      0.012     71.494      0.000       0.821       0.867\n",
       "cabin_staff_rating        1.0337      0.012     88.092      0.000       1.011       1.057\n",
       "food_beverages_rating     0.3089      0.011     29.012      0.000       0.288       0.330\n",
       "has_entertainment        -0.5383      0.050    -10.679      0.000      -0.637      -0.440\n",
       "==============================================================================\n",
       "Omnibus:                     2516.069   Durbin-Watson:                   2.007\n",
       "Prob(Omnibus):                  0.000   Jarque-Bera (JB):            21305.797\n",
       "Skew:                           0.296   Prob(JB):                         0.00\n",
       "Kurtosis:                       7.971   Cond. No.                         37.4\n",
       "==============================================================================\n",
       "\n",
       "Notes:\n",
       "[1] Standard Errors assume that the covariance matrix of the errors is correctly specified.\n",
       "\"\"\""
      ]
     },
     "execution_count": 131,
     "metadata": {},
     "output_type": "execute_result"
    }
   ],
   "source": [
    "X_train2 = sm.add_constant(X_train2)\n",
    "lm_1 = sm.OLS(Y_train2,X_train2)\n",
    "lm_2 = lm_1.fit()\n",
    "lm_2.summary()\n",
    "#LR.summary()"
   ]
  },
  {
   "cell_type": "code",
   "execution_count": null,
   "metadata": {},
   "outputs": [],
   "source": []
  }
 ],
 "metadata": {
  "kernelspec": {
   "display_name": "Python 3",
   "language": "python",
   "name": "python3"
  },
  "language_info": {
   "codemirror_mode": {
    "name": "ipython",
    "version": 3
   },
   "file_extension": ".py",
   "mimetype": "text/x-python",
   "name": "python",
   "nbconvert_exporter": "python",
   "pygments_lexer": "ipython3",
   "version": "3.8.5"
  }
 },
 "nbformat": 4,
 "nbformat_minor": 4
}
