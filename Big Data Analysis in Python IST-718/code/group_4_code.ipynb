{
  "nbformat": 4,
  "nbformat_minor": 0,
  "metadata": {
    "colab": {
      "name": "group_4_code.ipynb",
      "provenance": [],
      "collapsed_sections": []
    },
    "kernelspec": {
      "name": "python3",
      "display_name": "Python 3"
    },
    "language_info": {
      "name": "python"
    }
  },
  "cells": [
    {
      "cell_type": "code",
      "source": [
        "#     !    IMPORTANT SETTINGS     !\n",
        "#Set to True to enable grid search for prediction question 1\n",
        "enable_grid=False\n",
        "\n",
        "#Set to true to take a random sample for inference question 5. Will take 5-6 hours to run API call on the full dataset if not. \n",
        "random_sample = True"
      ],
      "metadata": {
        "id": "1__lGhocWOXw"
      },
      "execution_count": 1,
      "outputs": []
    },
    {
      "cell_type": "code",
      "source": [
        "#Install pyspark if not already installed\n",
        "%%bash\n",
        "# Do not change or modify this cell\n",
        "# Need to install pyspark\n",
        "# if pyspark is already installed, will print a message indicating pyspark already installed\n",
        "pip install pyspark\n",
        "\n",
        "fi"
      ],
      "metadata": {
        "colab": {
          "base_uri": "https://localhost:8080/"
        },
        "id": "pSkrWhkR4xnE",
        "outputId": "ea5bd8f0-ec93-45d6-cecd-9cddfca98b6a"
      },
      "execution_count": 2,
      "outputs": [
        {
          "output_type": "stream",
          "name": "stdout",
          "text": [
            "Requirement already satisfied: pyspark in /usr/local/lib/python3.7/dist-packages (3.2.1)\n",
            "Requirement already satisfied: py4j==0.10.9.3 in /usr/local/lib/python3.7/dist-packages (from pyspark) (0.10.9.3)\n"
          ]
        },
        {
          "output_type": "stream",
          "name": "stderr",
          "text": [
            "bash: line 6: syntax error near unexpected token `fi'\n",
            "bash: line 6: `fi'\n"
          ]
        }
      ]
    },
    {
      "cell_type": "code",
      "source": [
        "#Import necessary Python functions\n",
        "import os\n",
        "import pandas as pd\n",
        "import numpy as np\n",
        "import seaborn as sns\n",
        "import matplotlib.pyplot as plt\n",
        "import matplotlib.patches as mpatches\n",
        "import time\n",
        "import requests\n",
        "import json\n",
        "\n",
        "#Import necessary PySpark functions\n",
        "from pyspark import SparkConf, SparkContext, SparkFiles\n",
        "\n",
        "from pyspark.sql import SparkSession, SQLContext, Row\n",
        "from pyspark.sql.types import StructType, StructField, FloatType, \\\n",
        "    IntegerType, StringType, ArrayType\n",
        "import pyspark.sql.functions as F\n",
        "from pyspark.sql.functions import udf, col, explode\n",
        "\n",
        "from pyspark.ml import feature, Pipeline, classification, regression\n",
        "from pyspark.ml.regression import LinearRegression\n",
        "from pyspark.ml.evaluation import BinaryClassificationEvaluator, \\\n",
        "    MulticlassClassificationEvaluator, \\\n",
        "    RegressionEvaluator\n",
        "from pyspark.ml.tuning import ParamGridBuilder, CrossValidator, CrossValidatorModel\n",
        "from pyspark.ml.feature import VectorAssembler, StandardScaler\n",
        "\n",
        "#Build the spark session, set checkpoint dir\n",
        "spark = SparkSession.builder.getOrCreate()\n",
        "spark_context = spark.sparkContext\n",
        "spark_context.setCheckpointDir('/content')\n",
        "sqlContext = SQLContext(spark_context)"
      ],
      "metadata": {
        "id": "JfD3OYeQfWem",
        "colab": {
          "base_uri": "https://localhost:8080/"
        },
        "outputId": "0e97bda5-11e0-454f-86bc-99d724740fdd"
      },
      "execution_count": 3,
      "outputs": [
        {
          "output_type": "stream",
          "name": "stderr",
          "text": [
            "/usr/local/lib/python3.7/dist-packages/pyspark/sql/context.py:79: FutureWarning: Deprecated in 3.0.0. Use SparkSession.builder.getOrCreate() instead.\n",
            "  FutureWarning\n"
          ]
        }
      ]
    },
    {
      "cell_type": "code",
      "source": [
        "#Import the dataset from the web\n",
        "!wget https://raw.githubusercontent.com/zakhikhan/dataset/main/cal_housing.data\n",
        "\n",
        "#Build the schema\n",
        "schema = StructType([\n",
        "    StructField(\"long\", FloatType(), nullable=True),\n",
        "    StructField(\"lat\", FloatType(), nullable=True),\n",
        "    StructField(\"medianage\", FloatType(), nullable=True),\n",
        "    StructField(\"rooms\", FloatType(), nullable=True),\n",
        "    StructField(\"bedrooms\", FloatType(), nullable=True),\n",
        "    StructField(\"population\", FloatType(), nullable=True),\n",
        "    StructField(\"households\", FloatType(), nullable=True),\n",
        "    StructField(\"medianincome\", FloatType(), nullable=True),\n",
        "    StructField(\"medianhousevalue\", FloatType(), nullable=True)]\n",
        ")\n",
        "\n",
        "#Assign the dataset to the 'df' variable\n",
        "housing_california = '/content/cal_housing.data'\n",
        "df = spark.read.csv(path = housing_california, schema = schema)\n",
        "df.show(5)"
      ],
      "metadata": {
        "colab": {
          "base_uri": "https://localhost:8080/"
        },
        "id": "FpFIZrzzIMr8",
        "outputId": "52c156d5-1360-45db-adf2-1bad1324229e"
      },
      "execution_count": 55,
      "outputs": [
        {
          "output_type": "stream",
          "name": "stdout",
          "text": [
            "--2022-05-05 16:43:55--  https://raw.githubusercontent.com/zakhikhan/dataset/main/cal_housing.data\n",
            "Resolving raw.githubusercontent.com (raw.githubusercontent.com)... 185.199.108.133, 185.199.109.133, 185.199.110.133, ...\n",
            "Connecting to raw.githubusercontent.com (raw.githubusercontent.com)|185.199.108.133|:443... connected.\n",
            "HTTP request sent, awaiting response... 200 OK\n",
            "Length: 2071484 (2.0M) [text/plain]\n",
            "Saving to: ‘cal_housing.data.5’\n",
            "\n",
            "\rcal_housing.data.5    0%[                    ]       0  --.-KB/s               \rcal_housing.data.5  100%[===================>]   1.97M  --.-KB/s    in 0.06s   \n",
            "\n",
            "2022-05-05 16:43:56 (33.4 MB/s) - ‘cal_housing.data.5’ saved [2071484/2071484]\n",
            "\n",
            "+-------+-----+---------+------+--------+----------+----------+------------+----------------+\n",
            "|   long|  lat|medianage| rooms|bedrooms|population|households|medianincome|medianhousevalue|\n",
            "+-------+-----+---------+------+--------+----------+----------+------------+----------------+\n",
            "|-122.23|37.88|     41.0| 880.0|   129.0|     322.0|     126.0|      8.3252|        452600.0|\n",
            "|-122.22|37.86|     21.0|7099.0|  1106.0|    2401.0|    1138.0|      8.3014|        358500.0|\n",
            "|-122.24|37.85|     52.0|1467.0|   190.0|     496.0|     177.0|      7.2574|        352100.0|\n",
            "|-122.25|37.85|     52.0|1274.0|   235.0|     558.0|     219.0|      5.6431|        341300.0|\n",
            "|-122.25|37.85|     52.0|1627.0|   280.0|     565.0|     259.0|      3.8462|        342200.0|\n",
            "+-------+-----+---------+------+--------+----------+----------+------------+----------------+\n",
            "only showing top 5 rows\n",
            "\n"
          ]
        }
      ]
    },
    {
      "cell_type": "code",
      "source": [
        "# show the dataframe columns\n",
        "df.columns"
      ],
      "metadata": {
        "colab": {
          "base_uri": "https://localhost:8080/"
        },
        "id": "BDHs15CEfV_v",
        "outputId": "9d23d2f7-4b7a-4335-e010-b3f269b2d3bf"
      },
      "execution_count": 7,
      "outputs": [
        {
          "output_type": "execute_result",
          "data": {
            "text/plain": [
              "['long',\n",
              " 'lat',\n",
              " 'medianage',\n",
              " 'rooms',\n",
              " 'bedrooms',\n",
              " 'population',\n",
              " 'households',\n",
              " 'medianincome',\n",
              " 'medianhousevalue']"
            ]
          },
          "metadata": {},
          "execution_count": 7
        }
      ]
    },
    {
      "cell_type": "code",
      "source": [
        "df.select('population','bedrooms').show(10)"
      ],
      "metadata": {
        "colab": {
          "base_uri": "https://localhost:8080/"
        },
        "id": "eXsd99y4fV9L",
        "outputId": "b33ac37e-094a-4307-85f3-dd848a02bced"
      },
      "execution_count": 33,
      "outputs": [
        {
          "output_type": "stream",
          "name": "stdout",
          "text": [
            "+----------+--------+\n",
            "|population|bedrooms|\n",
            "+----------+--------+\n",
            "|     322.0|   129.0|\n",
            "|    2401.0|  1106.0|\n",
            "|     496.0|   190.0|\n",
            "|     558.0|   235.0|\n",
            "|     565.0|   280.0|\n",
            "|     413.0|   213.0|\n",
            "|    1094.0|   489.0|\n",
            "|    1157.0|   687.0|\n",
            "|    1206.0|   665.0|\n",
            "|    1551.0|   707.0|\n",
            "+----------+--------+\n",
            "only showing top 10 rows\n",
            "\n"
          ]
        }
      ]
    },
    {
      "cell_type": "code",
      "source": [
        "result_df = df.groupBy(\"medianage\").count().sort(\"medianage\", ascending=False)\n",
        "result_df.show(10)\n"
      ],
      "metadata": {
        "colab": {
          "base_uri": "https://localhost:8080/"
        },
        "id": "7c4U6bJcngqp",
        "outputId": "3ec99e7d-a5bf-42b3-db3c-c43873b77e7b"
      },
      "execution_count": 34,
      "outputs": [
        {
          "output_type": "stream",
          "name": "stdout",
          "text": [
            "+---------+-----+\n",
            "|medianage|count|\n",
            "+---------+-----+\n",
            "|     52.0| 1273|\n",
            "|     51.0|   48|\n",
            "|     50.0|  136|\n",
            "|     49.0|  134|\n",
            "|     48.0|  177|\n",
            "|     47.0|  198|\n",
            "|     46.0|  245|\n",
            "|     45.0|  294|\n",
            "|     44.0|  356|\n",
            "|     43.0|  353|\n",
            "+---------+-----+\n",
            "only showing top 10 rows\n",
            "\n"
          ]
        }
      ]
    },
    {
      "cell_type": "code",
      "source": [
        "result_df.toPandas().plot.bar(x='medianage',figsize=(14, 6))"
      ],
      "metadata": {
        "colab": {
          "base_uri": "https://localhost:8080/",
          "height": 418
        },
        "id": "Hwc45PIpngoR",
        "outputId": "45301b64-bd3e-44f4-a1fa-d8e86ad332b4"
      },
      "execution_count": 35,
      "outputs": [
        {
          "output_type": "execute_result",
          "data": {
            "text/plain": [
              "<matplotlib.axes._subplots.AxesSubplot at 0x7f40b8d9e710>"
            ]
          },
          "metadata": {},
          "execution_count": 35
        },
        {
          "output_type": "display_data",
          "data": {
            "text/plain": [
              "<Figure size 1008x432 with 1 Axes>"
            ],
            "image/png": "[encoded data removed]"
          },
          "metadata": {
            "needs_background": "light"
          }
        }
      ]
    },
    {
      "cell_type": "markdown",
      "source": [
        "Most of the residents are either in their youth or they settle here during their senior years. "
      ],
      "metadata": {
        "id": "NXvC_Uw8r4xL"
      }
    },
    {
      "cell_type": "code",
      "source": [
        "df.describe()"
      ],
      "metadata": {
        "colab": {
          "base_uri": "https://localhost:8080/"
        },
        "id": "4PMg9rHVnglE",
        "outputId": "0d356c08-a1f5-4fa8-d2d2-332a1b593257"
      },
      "execution_count": 36,
      "outputs": [
        {
          "output_type": "execute_result",
          "data": {
            "text/plain": [
              "DataFrame[summary: string, long: string, lat: string, medianage: string, rooms: string, bedrooms: string, population: string, households: string, medianincome: string, medianhousevalue: string]"
            ]
          },
          "metadata": {},
          "execution_count": 36
        }
      ]
    },
    {
      "cell_type": "code",
      "source": [
        "(df.describe().select(\n",
        "                    \"summary\",\n",
        "                    F.round(\"medianage\", 4).alias(\"medianage\"),\n",
        "                    F.round(\"rooms\", 4).alias(\"rooms\"),\n",
        "                    F.round(\"bedrooms\", 4).alias(\"bedrooms\"),\n",
        "                    F.round(\"population\", 4).alias(\"population\"),\n",
        "                    F.round(\"households\", 4).alias(\"households\"),\n",
        "                    F.round(\"medianincome\", 4).alias(\"medianincome\"),\n",
        "                    F.round(\"medianhousevalue\", 4).alias(\"medianhousevalue\"))\n",
        "                    .show())"
      ],
      "metadata": {
        "colab": {
          "base_uri": "https://localhost:8080/"
        },
        "id": "0rI_IKfbnghO",
        "outputId": "e31d00dd-53bf-403e-da09-b7e39d1750c1"
      },
      "execution_count": 37,
      "outputs": [
        {
          "output_type": "stream",
          "name": "stdout",
          "text": [
            "+-------+---------+---------+--------+----------+----------+------------+----------------+\n",
            "|summary|medianage|    rooms|bedrooms|population|households|medianincome|medianhousevalue|\n",
            "+-------+---------+---------+--------+----------+----------+------------+----------------+\n",
            "|  count|  20640.0|  20640.0| 20640.0|   20640.0|   20640.0|     20640.0|         20640.0|\n",
            "|   mean|  28.6395|2635.7631| 537.898| 1425.4767|  499.5397|      3.8707|     206855.8169|\n",
            "| stddev|  12.5856|2181.6153|421.2479| 1132.4621|  382.3298|      1.8998|     115395.6159|\n",
            "|    min|      1.0|      2.0|     1.0|       3.0|       1.0|      0.4999|         14999.0|\n",
            "|    max|     52.0|  39320.0|  6445.0|   35682.0|    6082.0|     15.0001|        500001.0|\n",
            "+-------+---------+---------+--------+----------+----------+------------+----------------+\n",
            "\n"
          ]
        }
      ]
    },
    {
      "cell_type": "markdown",
      "source": [
        "Looking at the minimum and maximum values of all the (numerical) attributes. We see that multiple attributes have a wide range of values: we will need to normalize your dataset."
      ],
      "metadata": {
        "id": "mR_qmHWVrrL5"
      }
    },
    {
      "cell_type": "markdown",
      "source": [
        "With all this information that we gathered from our small exploratory data analysis, we know enough to preprocess our data to feed it to the model.\n",
        "\n",
        "- we shouldn't care about missing values; all zero values have been excluded from the data set.\n",
        "- We should probably standardize our data, as we have seen that the range of minimum and maximum values is quite big.\n",
        "- There are possibly some additional attributes that we could add, such as a feature that registers the number of bedrooms per room or the rooms per household.\n",
        "- Our dependent variable is also quite big; To make our life easier, we'll have to adjust the values slightly."
      ],
      "metadata": {
        "id": "84zwP8cVrbaM"
      }
    },
    {
      "cell_type": "markdown",
      "source": [
        "# **Feature Engineering**"
      ],
      "metadata": {
        "id": "jwovbY83N2x1"
      }
    },
    {
      "cell_type": "markdown",
      "source": [
        "Now that we have adjusted the values in medianHouseValue, we will now add the following columns to the data set:\n",
        "\n",
        "- Rooms per household which refers to the number of rooms in households per block group;\n",
        "- Population per household, which basically gives us an indication of how many people live in households per block group; And\n",
        "- Bedrooms per room which will give us an idea about how many rooms are bedrooms per block group\n",
        "\n"
      ],
      "metadata": {
        "id": "THcHL-EJOgH3"
      }
    },
    {
      "cell_type": "code",
      "source": [
        "from pyspark.sql.functions import *\n",
        "df.select([count(when(isnull(c), c))\\\n",
        ".alias(c) for c in df.columns]).show()"
      ],
      "metadata": {
        "id": "jpc6tytufV1U",
        "colab": {
          "base_uri": "https://localhost:8080/"
        },
        "outputId": "6c16f097-e9a0-4b49-d780-9c840e8dc3de"
      },
      "execution_count": 58,
      "outputs": [
        {
          "output_type": "stream",
          "name": "stdout",
          "text": [
            "+----+---+---------+-----+--------+----------+----------+------------+----------------+\n",
            "|long|lat|medianage|rooms|bedrooms|population|households|medianincome|medianhousevalue|\n",
            "+----+---+---------+-----+--------+----------+----------+------------+----------------+\n",
            "|   0|  0|        0|    0|       0|         0|         0|           0|               0|\n",
            "+----+---+---------+-----+--------+----------+----------+------------+----------------+\n",
            "\n"
          ]
        }
      ]
    },
    {
      "cell_type": "markdown",
      "source": [
        "# **Inference**"
      ],
      "metadata": {
        "id": "gTMadiI0x3Do"
      }
    },
    {
      "cell_type": "markdown",
      "source": [
        "#### 1. Which variables are most influential on median home price? i.e. how much does median home price change with a change in each variable?"
      ],
      "metadata": {
        "id": "CvIfqh6dzDLg"
      }
    },
    {
      "cell_type": "code",
      "source": [
        "#Build an LR pipelines\n",
        "from pyspark.ml import regression\n",
        "from pyspark.ml.feature import StandardScaler\n",
        "housing_pipe = Pipeline(stages=[feature.VectorAssembler(inputCols=['medianage', 'rooms', 'bedrooms', 'population', 'households','medianincome'], \n",
        "                                              outputCol='features'),\n",
        "                                StandardScaler(inputCol=\"features\",outputCol=\"scaled_features\",\n",
        "                                                 withStd=True, withMean=True),\n",
        "                                regression.LinearRegression(labelCol='medianhousevalue', featuresCol='scaled_features')])"
      ],
      "metadata": {
        "id": "4-OAzNql61gN"
      },
      "execution_count": 41,
      "outputs": []
    },
    {
      "cell_type": "code",
      "source": [
        "#Fit the pipe\n",
        "housing_pipe_fitted = housing_pipe.fit(df)"
      ],
      "metadata": {
        "id": "-cpGKU3D9_Pa"
      },
      "execution_count": 42,
      "outputs": []
    },
    {
      "cell_type": "code",
      "source": [
        "#Split the data into training and test datasets\n",
        "training, validation, test = df.randomSplit([0.6, 0.3, 0.1], 0)"
      ],
      "metadata": {
        "id": "z03uVx7067Ca"
      },
      "execution_count": 43,
      "outputs": []
    },
    {
      "cell_type": "code",
      "source": [
        "#Get coefficients\n",
        "coefficients = housing_pipe_fitted.stages[-1].coefficients\n",
        "\n",
        "labels = housing_pipe_fitted.stages[0].getInputCols()\n",
        "\n",
        "coefficients_df = pd.DataFrame(list(zip(labels, coefficients)), columns = ['coefficient','value']).sort_values(by='value', ascending=False)\n",
        "coefficients_df"
      ],
      "metadata": {
        "id": "WTjdi9XB-GgC",
        "colab": {
          "base_uri": "https://localhost:8080/",
          "height": 238
        },
        "outputId": "9430cec1-fecd-4140-911b-177ff7ca0bee"
      },
      "execution_count": 44,
      "outputs": [
        {
          "output_type": "execute_result",
          "data": {
            "text/plain": [
              "    coefficient     value\n",
              "5  medianincome  0.906172\n",
              "4    households  0.479661\n",
              "2      bedrooms  0.423054\n",
              "0     medianage  0.236727\n",
              "3    population -0.402009\n",
              "1         rooms -0.428524"
            ],
            "text/html": [
              "\n",
              "  <div id=\"df-e1a9764c-8fd0-4aec-9962-de17b30e170c\">\n",
              "    <div class=\"colab-df-container\">\n",
              "      <div>\n",
              "<style scoped>\n",
              "    .dataframe tbody tr th:only-of-type {\n",
              "        vertical-align: middle;\n",
              "    }\n",
              "\n",
              "    .dataframe tbody tr th {\n",
              "        vertical-align: top;\n",
              "    }\n",
              "\n",
              "    .dataframe thead th {\n",
              "        text-align: right;\n",
              "    }\n",
              "</style>\n",
              "<table border=\"1\" class=\"dataframe\">\n",
              "  <thead>\n",
              "    <tr style=\"text-align: right;\">\n",
              "      <th></th>\n",
              "      <th>coefficient</th>\n",
              "      <th>value</th>\n",
              "    </tr>\n",
              "  </thead>\n",
              "  <tbody>\n",
              "    <tr>\n",
              "      <th>5</th>\n",
              "      <td>medianincome</td>\n",
              "      <td>0.906172</td>\n",
              "    </tr>\n",
              "    <tr>\n",
              "      <th>4</th>\n",
              "      <td>households</td>\n",
              "      <td>0.479661</td>\n",
              "    </tr>\n",
              "    <tr>\n",
              "      <th>2</th>\n",
              "      <td>bedrooms</td>\n",
              "      <td>0.423054</td>\n",
              "    </tr>\n",
              "    <tr>\n",
              "      <th>0</th>\n",
              "      <td>medianage</td>\n",
              "      <td>0.236727</td>\n",
              "    </tr>\n",
              "    <tr>\n",
              "      <th>3</th>\n",
              "      <td>population</td>\n",
              "      <td>-0.402009</td>\n",
              "    </tr>\n",
              "    <tr>\n",
              "      <th>1</th>\n",
              "      <td>rooms</td>\n",
              "      <td>-0.428524</td>\n",
              "    </tr>\n",
              "  </tbody>\n",
              "</table>\n",
              "</div>\n",
              "      <button class=\"colab-df-convert\" onclick=\"convertToInteractive('df-e1a9764c-8fd0-4aec-9962-de17b30e170c')\"\n",
              "              title=\"Convert this dataframe to an interactive table.\"\n",
              "              style=\"display:none;\">\n",
              "        \n",
              "  <svg xmlns=\"http://www.w3.org/2000/svg\" height=\"24px\"viewBox=\"0 0 24 24\"\n",
              "       width=\"24px\">\n",
              "    <path d=\"M0 0h24v24H0V0z\" fill=\"none\"/>\n",
              "    <path d=\"M18.56 5.44l.94 2.06.94-2.06 2.06-.94-2.06-.94-.94-2.06-.94 2.06-2.06.94zm-11 1L8.5 8.5l.94-2.06 2.06-.94-2.06-.94L8.5 2.5l-.94 2.06-2.06.94zm10 10l.94 2.06.94-2.06 2.06-.94-2.06-.94-.94-2.06-.94 2.06-2.06.94z\"/><path d=\"M17.41 7.96l-1.37-1.37c-.4-.4-.92-.59-1.43-.59-.52 0-1.04.2-1.43.59L10.3 9.45l-7.72 7.72c-.78.78-.78 2.05 0 2.83L4 21.41c.39.39.9.59 1.41.59.51 0 1.02-.2 1.41-.59l7.78-7.78 2.81-2.81c.8-.78.8-2.07 0-2.86zM5.41 20L4 18.59l7.72-7.72 1.47 1.35L5.41 20z\"/>\n",
              "  </svg>\n",
              "      </button>\n",
              "      \n",
              "  <style>\n",
              "    .colab-df-container {\n",
              "      display:flex;\n",
              "      flex-wrap:wrap;\n",
              "      gap: 12px;\n",
              "    }\n",
              "\n",
              "    .colab-df-convert {\n",
              "      background-color: #E8F0FE;\n",
              "      border: none;\n",
              "      border-radius: 50%;\n",
              "      cursor: pointer;\n",
              "      display: none;\n",
              "      fill: #1967D2;\n",
              "      height: 32px;\n",
              "      padding: 0 0 0 0;\n",
              "      width: 32px;\n",
              "    }\n",
              "\n",
              "    .colab-df-convert:hover {\n",
              "      background-color: #E2EBFA;\n",
              "      box-shadow: 0px 1px 2px rgba(60, 64, 67, 0.3), 0px 1px 3px 1px rgba(60, 64, 67, 0.15);\n",
              "      fill: #174EA6;\n",
              "    }\n",
              "\n",
              "    [theme=dark] .colab-df-convert {\n",
              "      background-color: #3B4455;\n",
              "      fill: #D2E3FC;\n",
              "    }\n",
              "\n",
              "    [theme=dark] .colab-df-convert:hover {\n",
              "      background-color: #434B5C;\n",
              "      box-shadow: 0px 1px 3px 1px rgba(0, 0, 0, 0.15);\n",
              "      filter: drop-shadow(0px 1px 2px rgba(0, 0, 0, 0.3));\n",
              "      fill: #FFFFFF;\n",
              "    }\n",
              "  </style>\n",
              "\n",
              "      <script>\n",
              "        const buttonEl =\n",
              "          document.querySelector('#df-e1a9764c-8fd0-4aec-9962-de17b30e170c button.colab-df-convert');\n",
              "        buttonEl.style.display =\n",
              "          google.colab.kernel.accessAllowed ? 'block' : 'none';\n",
              "\n",
              "        async function convertToInteractive(key) {\n",
              "          const element = document.querySelector('#df-e1a9764c-8fd0-4aec-9962-de17b30e170c');\n",
              "          const dataTable =\n",
              "            await google.colab.kernel.invokeFunction('convertToInteractive',\n",
              "                                                     [key], {});\n",
              "          if (!dataTable) return;\n",
              "\n",
              "          const docLinkHtml = 'Like what you see? Visit the ' +\n",
              "            '<a target=\"_blank\" href=https://colab.research.google.com/notebooks/data_table.ipynb>data table notebook</a>'\n",
              "            + ' to learn more about interactive tables.';\n",
              "          element.innerHTML = '';\n",
              "          dataTable['output_type'] = 'display_data';\n",
              "          await google.colab.output.renderOutput(dataTable, element);\n",
              "          const docLink = document.createElement('div');\n",
              "          docLink.innerHTML = docLinkHtml;\n",
              "          element.appendChild(docLink);\n",
              "        }\n",
              "      </script>\n",
              "    </div>\n",
              "  </div>\n",
              "  "
            ]
          },
          "metadata": {},
          "execution_count": 44
        }
      ]
    },
    {
      "cell_type": "markdown",
      "source": [
        "####2. Does the impact of median income on median home value remain relatively constant throughout the dataset, or are there outliers? What might those outliers tell us?"
      ],
      "metadata": {
        "id": "AcPBsKRbzsu4"
      }
    },
    {
      "cell_type": "code",
      "source": [
        "df2=df.toPandas()\n",
        "\n",
        "df2.plot(kind='scatter',x='medianincome',y='medianhousevalue',alpha=0.1)"
      ],
      "metadata": {
        "colab": {
          "base_uri": "https://localhost:8080/",
          "height": 297
        },
        "id": "x7uVfRRT1NC8",
        "outputId": "f8cc123e-c562-4428-f172-9dc8b364fc08"
      },
      "execution_count": 45,
      "outputs": [
        {
          "output_type": "execute_result",
          "data": {
            "text/plain": [
              "<matplotlib.axes._subplots.AxesSubplot at 0x7f40b8c03ad0>"
            ]
          },
          "metadata": {},
          "execution_count": 45
        },
        {
          "output_type": "display_data",
          "data": {
            "text/plain": [
              "<Figure size 432x288 with 1 Axes>"
            ],
            "image/png": "[encoded data removed]"
          },
          "metadata": {
            "needs_background": "light"
          }
        }
      ]
    },
    {
      "cell_type": "code",
      "source": [
        "df2.hist(bins=100, figsize = (20, 15))\n",
        "plt.show()"
      ],
      "metadata": {
        "colab": {
          "base_uri": "https://localhost:8080/",
          "height": 677
        },
        "id": "4mx_oK761HVU",
        "outputId": "19f37457-3a22-4681-f747-60c2eed56838"
      },
      "execution_count": 46,
      "outputs": [
        {
          "output_type": "display_data",
          "data": {
            "text/plain": [
              "<Figure size 1440x1080 with 9 Axes>"
            ],
            "image/png": "[encoded data removed]"
          },
          "metadata": {
            "needs_background": "light"
          }
        }
      ]
    },
    {
      "cell_type": "code",
      "source": [
        "df2.describe()"
      ],
      "metadata": {
        "colab": {
          "base_uri": "https://localhost:8080/",
          "height": 364
        },
        "id": "FXq02NP61JHY",
        "outputId": "684bee2f-f22a-4b7c-98f8-bf47d70f9e65"
      },
      "execution_count": 47,
      "outputs": [
        {
          "output_type": "execute_result",
          "data": {
            "text/plain": [
              "               long           lat     medianage         rooms      bedrooms  \\\n",
              "count  20640.000000  20640.000000  20640.000000  20640.000000  20640.000000   \n",
              "mean    -119.569115     35.631866     28.639486   2635.758789    537.898010   \n",
              "std        2.003539      2.135956     12.585629   2181.604736    421.247284   \n",
              "min     -124.349998     32.540001      1.000000      2.000000      1.000000   \n",
              "25%     -121.800003     33.930000     18.000000   1447.750000    295.000000   \n",
              "50%     -118.489998     34.259998     29.000000   2127.000000    435.000000   \n",
              "75%     -118.010002     37.709999     37.000000   3148.000000    647.000000   \n",
              "max     -114.309998     41.950001     52.000000  39320.000000   6445.000000   \n",
              "\n",
              "         population    households  medianincome  medianhousevalue  \n",
              "count  20640.000000  20640.000000  20640.000000      20640.000000  \n",
              "mean    1425.477905    499.539673      3.870662          2.068558  \n",
              "std     1132.460815    382.329773      1.899820          1.153956  \n",
              "min        3.000000      1.000000      0.499900          0.149990  \n",
              "25%      787.000000    280.000000      2.563400          1.196000  \n",
              "50%     1166.000000    409.000000      3.534800          1.797000  \n",
              "75%     1725.000000    605.000000      4.743250          2.647250  \n",
              "max    35682.000000   6082.000000     15.000100          5.000010  "
            ],
            "text/html": [
              "\n",
              "  <div id=\"df-dac50290-fd64-41fb-9893-df89e2f1d21a\">\n",
              "    <div class=\"colab-df-container\">\n",
              "      <div>\n",
              "<style scoped>\n",
              "    .dataframe tbody tr th:only-of-type {\n",
              "        vertical-align: middle;\n",
              "    }\n",
              "\n",
              "    .dataframe tbody tr th {\n",
              "        vertical-align: top;\n",
              "    }\n",
              "\n",
              "    .dataframe thead th {\n",
              "        text-align: right;\n",
              "    }\n",
              "</style>\n",
              "<table border=\"1\" class=\"dataframe\">\n",
              "  <thead>\n",
              "    <tr style=\"text-align: right;\">\n",
              "      <th></th>\n",
              "      <th>long</th>\n",
              "      <th>lat</th>\n",
              "      <th>medianage</th>\n",
              "      <th>rooms</th>\n",
              "      <th>bedrooms</th>\n",
              "      <th>population</th>\n",
              "      <th>households</th>\n",
              "      <th>medianincome</th>\n",
              "      <th>medianhousevalue</th>\n",
              "    </tr>\n",
              "  </thead>\n",
              "  <tbody>\n",
              "    <tr>\n",
              "      <th>count</th>\n",
              "      <td>20640.000000</td>\n",
              "      <td>20640.000000</td>\n",
              "      <td>20640.000000</td>\n",
              "      <td>20640.000000</td>\n",
              "      <td>20640.000000</td>\n",
              "      <td>20640.000000</td>\n",
              "      <td>20640.000000</td>\n",
              "      <td>20640.000000</td>\n",
              "      <td>20640.000000</td>\n",
              "    </tr>\n",
              "    <tr>\n",
              "      <th>mean</th>\n",
              "      <td>-119.569115</td>\n",
              "      <td>35.631866</td>\n",
              "      <td>28.639486</td>\n",
              "      <td>2635.758789</td>\n",
              "      <td>537.898010</td>\n",
              "      <td>1425.477905</td>\n",
              "      <td>499.539673</td>\n",
              "      <td>3.870662</td>\n",
              "      <td>2.068558</td>\n",
              "    </tr>\n",
              "    <tr>\n",
              "      <th>std</th>\n",
              "      <td>2.003539</td>\n",
              "      <td>2.135956</td>\n",
              "      <td>12.585629</td>\n",
              "      <td>2181.604736</td>\n",
              "      <td>421.247284</td>\n",
              "      <td>1132.460815</td>\n",
              "      <td>382.329773</td>\n",
              "      <td>1.899820</td>\n",
              "      <td>1.153956</td>\n",
              "    </tr>\n",
              "    <tr>\n",
              "      <th>min</th>\n",
              "      <td>-124.349998</td>\n",
              "      <td>32.540001</td>\n",
              "      <td>1.000000</td>\n",
              "      <td>2.000000</td>\n",
              "      <td>1.000000</td>\n",
              "      <td>3.000000</td>\n",
              "      <td>1.000000</td>\n",
              "      <td>0.499900</td>\n",
              "      <td>0.149990</td>\n",
              "    </tr>\n",
              "    <tr>\n",
              "      <th>25%</th>\n",
              "      <td>-121.800003</td>\n",
              "      <td>33.930000</td>\n",
              "      <td>18.000000</td>\n",
              "      <td>1447.750000</td>\n",
              "      <td>295.000000</td>\n",
              "      <td>787.000000</td>\n",
              "      <td>280.000000</td>\n",
              "      <td>2.563400</td>\n",
              "      <td>1.196000</td>\n",
              "    </tr>\n",
              "    <tr>\n",
              "      <th>50%</th>\n",
              "      <td>-118.489998</td>\n",
              "      <td>34.259998</td>\n",
              "      <td>29.000000</td>\n",
              "      <td>2127.000000</td>\n",
              "      <td>435.000000</td>\n",
              "      <td>1166.000000</td>\n",
              "      <td>409.000000</td>\n",
              "      <td>3.534800</td>\n",
              "      <td>1.797000</td>\n",
              "    </tr>\n",
              "    <tr>\n",
              "      <th>75%</th>\n",
              "      <td>-118.010002</td>\n",
              "      <td>37.709999</td>\n",
              "      <td>37.000000</td>\n",
              "      <td>3148.000000</td>\n",
              "      <td>647.000000</td>\n",
              "      <td>1725.000000</td>\n",
              "      <td>605.000000</td>\n",
              "      <td>4.743250</td>\n",
              "      <td>2.647250</td>\n",
              "    </tr>\n",
              "    <tr>\n",
              "      <th>max</th>\n",
              "      <td>-114.309998</td>\n",
              "      <td>41.950001</td>\n",
              "      <td>52.000000</td>\n",
              "      <td>39320.000000</td>\n",
              "      <td>6445.000000</td>\n",
              "      <td>35682.000000</td>\n",
              "      <td>6082.000000</td>\n",
              "      <td>15.000100</td>\n",
              "      <td>5.000010</td>\n",
              "    </tr>\n",
              "  </tbody>\n",
              "</table>\n",
              "</div>\n",
              "      <button class=\"colab-df-convert\" onclick=\"convertToInteractive('df-dac50290-fd64-41fb-9893-df89e2f1d21a')\"\n",
              "              title=\"Convert this dataframe to an interactive table.\"\n",
              "              style=\"display:none;\">\n",
              "        \n",
              "  <svg xmlns=\"http://www.w3.org/2000/svg\" height=\"24px\"viewBox=\"0 0 24 24\"\n",
              "       width=\"24px\">\n",
              "    <path d=\"M0 0h24v24H0V0z\" fill=\"none\"/>\n",
              "    <path d=\"M18.56 5.44l.94 2.06.94-2.06 2.06-.94-2.06-.94-.94-2.06-.94 2.06-2.06.94zm-11 1L8.5 8.5l.94-2.06 2.06-.94-2.06-.94L8.5 2.5l-.94 2.06-2.06.94zm10 10l.94 2.06.94-2.06 2.06-.94-2.06-.94-.94-2.06-.94 2.06-2.06.94z\"/><path d=\"M17.41 7.96l-1.37-1.37c-.4-.4-.92-.59-1.43-.59-.52 0-1.04.2-1.43.59L10.3 9.45l-7.72 7.72c-.78.78-.78 2.05 0 2.83L4 21.41c.39.39.9.59 1.41.59.51 0 1.02-.2 1.41-.59l7.78-7.78 2.81-2.81c.8-.78.8-2.07 0-2.86zM5.41 20L4 18.59l7.72-7.72 1.47 1.35L5.41 20z\"/>\n",
              "  </svg>\n",
              "      </button>\n",
              "      \n",
              "  <style>\n",
              "    .colab-df-container {\n",
              "      display:flex;\n",
              "      flex-wrap:wrap;\n",
              "      gap: 12px;\n",
              "    }\n",
              "\n",
              "    .colab-df-convert {\n",
              "      background-color: #E8F0FE;\n",
              "      border: none;\n",
              "      border-radius: 50%;\n",
              "      cursor: pointer;\n",
              "      display: none;\n",
              "      fill: #1967D2;\n",
              "      height: 32px;\n",
              "      padding: 0 0 0 0;\n",
              "      width: 32px;\n",
              "    }\n",
              "\n",
              "    .colab-df-convert:hover {\n",
              "      background-color: #E2EBFA;\n",
              "      box-shadow: 0px 1px 2px rgba(60, 64, 67, 0.3), 0px 1px 3px 1px rgba(60, 64, 67, 0.15);\n",
              "      fill: #174EA6;\n",
              "    }\n",
              "\n",
              "    [theme=dark] .colab-df-convert {\n",
              "      background-color: #3B4455;\n",
              "      fill: #D2E3FC;\n",
              "    }\n",
              "\n",
              "    [theme=dark] .colab-df-convert:hover {\n",
              "      background-color: #434B5C;\n",
              "      box-shadow: 0px 1px 3px 1px rgba(0, 0, 0, 0.15);\n",
              "      filter: drop-shadow(0px 1px 2px rgba(0, 0, 0, 0.3));\n",
              "      fill: #FFFFFF;\n",
              "    }\n",
              "  </style>\n",
              "\n",
              "      <script>\n",
              "        const buttonEl =\n",
              "          document.querySelector('#df-dac50290-fd64-41fb-9893-df89e2f1d21a button.colab-df-convert');\n",
              "        buttonEl.style.display =\n",
              "          google.colab.kernel.accessAllowed ? 'block' : 'none';\n",
              "\n",
              "        async function convertToInteractive(key) {\n",
              "          const element = document.querySelector('#df-dac50290-fd64-41fb-9893-df89e2f1d21a');\n",
              "          const dataTable =\n",
              "            await google.colab.kernel.invokeFunction('convertToInteractive',\n",
              "                                                     [key], {});\n",
              "          if (!dataTable) return;\n",
              "\n",
              "          const docLinkHtml = 'Like what you see? Visit the ' +\n",
              "            '<a target=\"_blank\" href=https://colab.research.google.com/notebooks/data_table.ipynb>data table notebook</a>'\n",
              "            + ' to learn more about interactive tables.';\n",
              "          element.innerHTML = '';\n",
              "          dataTable['output_type'] = 'display_data';\n",
              "          await google.colab.output.renderOutput(dataTable, element);\n",
              "          const docLink = document.createElement('div');\n",
              "          docLink.innerHTML = docLinkHtml;\n",
              "          element.appendChild(docLink);\n",
              "        }\n",
              "      </script>\n",
              "    </div>\n",
              "  </div>\n",
              "  "
            ]
          },
          "metadata": {},
          "execution_count": 47
        }
      ]
    },
    {
      "cell_type": "markdown",
      "source": [
        "####3. Can rooms per person function as a predictor variable ? Do home values tend to be higher where populations are more concentrated?"
      ],
      "metadata": {
        "id": "wyoMbH7S19oU"
      }
    },
    {
      "cell_type": "code",
      "source": [
        "#Create the derived variables\n",
        "df6 = df.withColumn(\"rooms_per_person\",col('rooms')/col('population'))"
      ],
      "metadata": {
        "id": "ilXN_gT5pkNo"
      },
      "execution_count": 66,
      "outputs": []
    },
    {
      "cell_type": "code",
      "source": [
        "df6.show(10)"
      ],
      "metadata": {
        "colab": {
          "base_uri": "https://localhost:8080/"
        },
        "id": "3jEYdmWNrrZM",
        "outputId": "08606da9-a06e-48d7-be23-2578eb8c74df"
      },
      "execution_count": 67,
      "outputs": [
        {
          "output_type": "stream",
          "name": "stdout",
          "text": [
            "+-------+-----+---------+------+--------+----------+----------+------------+----------------+------------------+\n",
            "|   long|  lat|medianage| rooms|bedrooms|population|households|medianincome|medianhousevalue|  rooms_per_person|\n",
            "+-------+-----+---------+------+--------+----------+----------+------------+----------------+------------------+\n",
            "|-122.23|37.88|     41.0| 880.0|   129.0|     322.0|     126.0|      8.3252|           4.526| 2.732919254658385|\n",
            "|-122.22|37.86|     21.0|7099.0|  1106.0|    2401.0|    1138.0|      8.3014|           3.585|2.9566847147022073|\n",
            "|-122.24|37.85|     52.0|1467.0|   190.0|     496.0|     177.0|      7.2574|           3.521|2.9576612903225805|\n",
            "|-122.25|37.85|     52.0|1274.0|   235.0|     558.0|     219.0|      5.6431|           3.413| 2.283154121863799|\n",
            "|-122.25|37.85|     52.0|1627.0|   280.0|     565.0|     259.0|      3.8462|           3.422| 2.879646017699115|\n",
            "|-122.25|37.85|     52.0| 919.0|   213.0|     413.0|     193.0|      4.0368|           2.697| 2.225181598062954|\n",
            "|-122.25|37.84|     52.0|2535.0|   489.0|    1094.0|     514.0|      3.6591|           2.992|2.3171846435100547|\n",
            "|-122.25|37.84|     52.0|3104.0|   687.0|    1157.0|     647.0|        3.12|           2.414|2.6828003457216942|\n",
            "|-122.26|37.84|     42.0|2555.0|   665.0|    1206.0|     595.0|      2.0804|           2.267|2.1185737976782755|\n",
            "|-122.25|37.84|     52.0|3549.0|   707.0|    1551.0|     714.0|      3.6912|           2.611| 2.288201160541586|\n",
            "+-------+-----+---------+------+--------+----------+----------+------------+----------------+------------------+\n",
            "only showing top 10 rows\n",
            "\n"
          ]
        }
      ]
    },
    {
      "cell_type": "code",
      "source": [
        "#Build the pipe\n",
        "housing_pipe = Pipeline(stages=[feature.VectorAssembler(inputCols=['medianage', 'rooms', 'bedrooms', 'population', 'households','medianincome','rooms_per_person'], \n",
        "                                              outputCol='features'),\n",
        "                                StandardScaler(inputCol=\"features\",outputCol=\"scaled_features\",\n",
        "                                                 withStd=True, withMean=True),\n",
        "                                regression.LinearRegression(labelCol='medianhousevalue', featuresCol='scaled_features')])"
      ],
      "metadata": {
        "id": "ATl6rD1Xrzc0"
      },
      "execution_count": 69,
      "outputs": []
    },
    {
      "cell_type": "code",
      "source": [
        "#Fit the pipeline\n",
        "housing_pipe_fitted = housing_pipe.fit(df6)\n",
        "\n",
        "#Get coefficients\n",
        "coefficients = housing_pipe_fitted.stages[-1].coefficients\n",
        "\n",
        "#Create a dataframe of coefficients\n",
        "labels = housing_pipe_fitted.stages[0].getInputCols()\n",
        "\n",
        "coefficients_df = pd.DataFrame(list(zip(labels, coefficients)), columns = ['coefficient','value']).sort_values(by='value', ascending=False)\n",
        "coefficients_df"
      ],
      "metadata": {
        "id": "_JAcwcX7r6uc",
        "colab": {
          "base_uri": "https://localhost:8080/",
          "height": 269
        },
        "outputId": "fe90dffe-7d15-4338-8fde-5b72fcb23cb8"
      },
      "execution_count": 70,
      "outputs": [
        {
          "output_type": "execute_result",
          "data": {
            "text/plain": [
              "        coefficient     value\n",
              "5      medianincome  0.896932\n",
              "4        households  0.573176\n",
              "2          bedrooms  0.328645\n",
              "0         medianage  0.238498\n",
              "6  rooms_per_person  0.061066\n",
              "3        population -0.363464\n",
              "1             rooms -0.465089"
            ],
            "text/html": [
              "\n",
              "  <div id=\"df-a688ae62-bdb7-45d3-b245-826aacfc87ba\">\n",
              "    <div class=\"colab-df-container\">\n",
              "      <div>\n",
              "<style scoped>\n",
              "    .dataframe tbody tr th:only-of-type {\n",
              "        vertical-align: middle;\n",
              "    }\n",
              "\n",
              "    .dataframe tbody tr th {\n",
              "        vertical-align: top;\n",
              "    }\n",
              "\n",
              "    .dataframe thead th {\n",
              "        text-align: right;\n",
              "    }\n",
              "</style>\n",
              "<table border=\"1\" class=\"dataframe\">\n",
              "  <thead>\n",
              "    <tr style=\"text-align: right;\">\n",
              "      <th></th>\n",
              "      <th>coefficient</th>\n",
              "      <th>value</th>\n",
              "    </tr>\n",
              "  </thead>\n",
              "  <tbody>\n",
              "    <tr>\n",
              "      <th>5</th>\n",
              "      <td>medianincome</td>\n",
              "      <td>0.896932</td>\n",
              "    </tr>\n",
              "    <tr>\n",
              "      <th>4</th>\n",
              "      <td>households</td>\n",
              "      <td>0.573176</td>\n",
              "    </tr>\n",
              "    <tr>\n",
              "      <th>2</th>\n",
              "      <td>bedrooms</td>\n",
              "      <td>0.328645</td>\n",
              "    </tr>\n",
              "    <tr>\n",
              "      <th>0</th>\n",
              "      <td>medianage</td>\n",
              "      <td>0.238498</td>\n",
              "    </tr>\n",
              "    <tr>\n",
              "      <th>6</th>\n",
              "      <td>rooms_per_person</td>\n",
              "      <td>0.061066</td>\n",
              "    </tr>\n",
              "    <tr>\n",
              "      <th>3</th>\n",
              "      <td>population</td>\n",
              "      <td>-0.363464</td>\n",
              "    </tr>\n",
              "    <tr>\n",
              "      <th>1</th>\n",
              "      <td>rooms</td>\n",
              "      <td>-0.465089</td>\n",
              "    </tr>\n",
              "  </tbody>\n",
              "</table>\n",
              "</div>\n",
              "      <button class=\"colab-df-convert\" onclick=\"convertToInteractive('df-a688ae62-bdb7-45d3-b245-826aacfc87ba')\"\n",
              "              title=\"Convert this dataframe to an interactive table.\"\n",
              "              style=\"display:none;\">\n",
              "        \n",
              "  <svg xmlns=\"http://www.w3.org/2000/svg\" height=\"24px\"viewBox=\"0 0 24 24\"\n",
              "       width=\"24px\">\n",
              "    <path d=\"M0 0h24v24H0V0z\" fill=\"none\"/>\n",
              "    <path d=\"M18.56 5.44l.94 2.06.94-2.06 2.06-.94-2.06-.94-.94-2.06-.94 2.06-2.06.94zm-11 1L8.5 8.5l.94-2.06 2.06-.94-2.06-.94L8.5 2.5l-.94 2.06-2.06.94zm10 10l.94 2.06.94-2.06 2.06-.94-2.06-.94-.94-2.06-.94 2.06-2.06.94z\"/><path d=\"M17.41 7.96l-1.37-1.37c-.4-.4-.92-.59-1.43-.59-.52 0-1.04.2-1.43.59L10.3 9.45l-7.72 7.72c-.78.78-.78 2.05 0 2.83L4 21.41c.39.39.9.59 1.41.59.51 0 1.02-.2 1.41-.59l7.78-7.78 2.81-2.81c.8-.78.8-2.07 0-2.86zM5.41 20L4 18.59l7.72-7.72 1.47 1.35L5.41 20z\"/>\n",
              "  </svg>\n",
              "      </button>\n",
              "      \n",
              "  <style>\n",
              "    .colab-df-container {\n",
              "      display:flex;\n",
              "      flex-wrap:wrap;\n",
              "      gap: 12px;\n",
              "    }\n",
              "\n",
              "    .colab-df-convert {\n",
              "      background-color: #E8F0FE;\n",
              "      border: none;\n",
              "      border-radius: 50%;\n",
              "      cursor: pointer;\n",
              "      display: none;\n",
              "      fill: #1967D2;\n",
              "      height: 32px;\n",
              "      padding: 0 0 0 0;\n",
              "      width: 32px;\n",
              "    }\n",
              "\n",
              "    .colab-df-convert:hover {\n",
              "      background-color: #E2EBFA;\n",
              "      box-shadow: 0px 1px 2px rgba(60, 64, 67, 0.3), 0px 1px 3px 1px rgba(60, 64, 67, 0.15);\n",
              "      fill: #174EA6;\n",
              "    }\n",
              "\n",
              "    [theme=dark] .colab-df-convert {\n",
              "      background-color: #3B4455;\n",
              "      fill: #D2E3FC;\n",
              "    }\n",
              "\n",
              "    [theme=dark] .colab-df-convert:hover {\n",
              "      background-color: #434B5C;\n",
              "      box-shadow: 0px 1px 3px 1px rgba(0, 0, 0, 0.15);\n",
              "      filter: drop-shadow(0px 1px 2px rgba(0, 0, 0, 0.3));\n",
              "      fill: #FFFFFF;\n",
              "    }\n",
              "  </style>\n",
              "\n",
              "      <script>\n",
              "        const buttonEl =\n",
              "          document.querySelector('#df-a688ae62-bdb7-45d3-b245-826aacfc87ba button.colab-df-convert');\n",
              "        buttonEl.style.display =\n",
              "          google.colab.kernel.accessAllowed ? 'block' : 'none';\n",
              "\n",
              "        async function convertToInteractive(key) {\n",
              "          const element = document.querySelector('#df-a688ae62-bdb7-45d3-b245-826aacfc87ba');\n",
              "          const dataTable =\n",
              "            await google.colab.kernel.invokeFunction('convertToInteractive',\n",
              "                                                     [key], {});\n",
              "          if (!dataTable) return;\n",
              "\n",
              "          const docLinkHtml = 'Like what you see? Visit the ' +\n",
              "            '<a target=\"_blank\" href=https://colab.research.google.com/notebooks/data_table.ipynb>data table notebook</a>'\n",
              "            + ' to learn more about interactive tables.';\n",
              "          element.innerHTML = '';\n",
              "          dataTable['output_type'] = 'display_data';\n",
              "          await google.colab.output.renderOutput(dataTable, element);\n",
              "          const docLink = document.createElement('div');\n",
              "          docLink.innerHTML = docLinkHtml;\n",
              "          element.appendChild(docLink);\n",
              "        }\n",
              "      </script>\n",
              "    </div>\n",
              "  </div>\n",
              "  "
            ]
          },
          "metadata": {},
          "execution_count": 70
        }
      ]
    },
    {
      "cell_type": "markdown",
      "source": [
        "####4.   Is there a positive correlation between the number of non-bedroom rooms and median home value? "
      ],
      "metadata": {
        "id": "RY7u0Eq6tZzI"
      }
    },
    {
      "cell_type": "code",
      "source": [
        "#Create the derived variable\n",
        "df7 = df.withColumn(\"pct_bedrooms\",col('bedrooms')/col('rooms'))"
      ],
      "metadata": {
        "id": "7EL54vqbtc2c"
      },
      "execution_count": 63,
      "outputs": []
    },
    {
      "cell_type": "code",
      "source": [
        "#Build the pipe\n",
        "housing_pipe = Pipeline(stages=[feature.VectorAssembler(inputCols=['medianage', 'rooms', 'bedrooms', 'population', 'households','medianincome','pct_bedrooms'], \n",
        "                                              outputCol='features'),\n",
        "                                StandardScaler(inputCol=\"features\",outputCol=\"scaled_features\",\n",
        "                                                 withStd=True, withMean=True),\n",
        "                                regression.LinearRegression(labelCol='medianhousevalue', featuresCol='scaled_features')])"
      ],
      "metadata": {
        "id": "gdi7FNVltiJg"
      },
      "execution_count": 64,
      "outputs": []
    },
    {
      "cell_type": "code",
      "source": [
        "#Fit the pipe\n",
        "housing_pipe_fitted = housing_pipe.fit(df7)\n",
        "\n",
        "#Get coefficients\n",
        "coefficients = housing_pipe_fitted.stages[-1].coefficients\n",
        "\n",
        "labels = housing_pipe_fitted.stages[0].getInputCols()\n",
        "\n",
        "coefficients_df = pd.DataFrame(list(zip(labels, coefficients)), columns = ['coefficient','value'])\n",
        "coefficeients_df = coefficients_df.sort_values(by='value', ascending=False)\n",
        "coefficients_df\n",
        "\n",
        "labels = housing_pipe_fitted.stages[0].getInputCols()\n",
        "\n",
        "coefficients_df = pd.DataFrame(list(zip(labels, coefficients)), columns = ['coefficient','value']).sort_values(by='value', ascending=False)\n",
        "coefficients_df"
      ],
      "metadata": {
        "id": "gPAISGcNtmAY",
        "colab": {
          "base_uri": "https://localhost:8080/",
          "height": 269
        },
        "outputId": "fdbe61f5-dc3a-4731-dc09-3ba265ff86f0"
      },
      "execution_count": 65,
      "outputs": [
        {
          "output_type": "execute_result",
          "data": {
            "text/plain": [
              "    coefficient     value\n",
              "5  medianincome  0.976166\n",
              "4    households  0.529870\n",
              "6  pct_bedrooms  0.244272\n",
              "0     medianage  0.227177\n",
              "2      bedrooms  0.031590\n",
              "1         rooms -0.046851\n",
              "3    population -0.443209"
            ],
            "text/html": [
              "\n",
              "  <div id=\"df-cb639596-9144-47c3-995f-a5100ba0733a\">\n",
              "    <div class=\"colab-df-container\">\n",
              "      <div>\n",
              "<style scoped>\n",
              "    .dataframe tbody tr th:only-of-type {\n",
              "        vertical-align: middle;\n",
              "    }\n",
              "\n",
              "    .dataframe tbody tr th {\n",
              "        vertical-align: top;\n",
              "    }\n",
              "\n",
              "    .dataframe thead th {\n",
              "        text-align: right;\n",
              "    }\n",
              "</style>\n",
              "<table border=\"1\" class=\"dataframe\">\n",
              "  <thead>\n",
              "    <tr style=\"text-align: right;\">\n",
              "      <th></th>\n",
              "      <th>coefficient</th>\n",
              "      <th>value</th>\n",
              "    </tr>\n",
              "  </thead>\n",
              "  <tbody>\n",
              "    <tr>\n",
              "      <th>5</th>\n",
              "      <td>medianincome</td>\n",
              "      <td>0.976166</td>\n",
              "    </tr>\n",
              "    <tr>\n",
              "      <th>4</th>\n",
              "      <td>households</td>\n",
              "      <td>0.529870</td>\n",
              "    </tr>\n",
              "    <tr>\n",
              "      <th>6</th>\n",
              "      <td>pct_bedrooms</td>\n",
              "      <td>0.244272</td>\n",
              "    </tr>\n",
              "    <tr>\n",
              "      <th>0</th>\n",
              "      <td>medianage</td>\n",
              "      <td>0.227177</td>\n",
              "    </tr>\n",
              "    <tr>\n",
              "      <th>2</th>\n",
              "      <td>bedrooms</td>\n",
              "      <td>0.031590</td>\n",
              "    </tr>\n",
              "    <tr>\n",
              "      <th>1</th>\n",
              "      <td>rooms</td>\n",
              "      <td>-0.046851</td>\n",
              "    </tr>\n",
              "    <tr>\n",
              "      <th>3</th>\n",
              "      <td>population</td>\n",
              "      <td>-0.443209</td>\n",
              "    </tr>\n",
              "  </tbody>\n",
              "</table>\n",
              "</div>\n",
              "      <button class=\"colab-df-convert\" onclick=\"convertToInteractive('df-cb639596-9144-47c3-995f-a5100ba0733a')\"\n",
              "              title=\"Convert this dataframe to an interactive table.\"\n",
              "              style=\"display:none;\">\n",
              "        \n",
              "  <svg xmlns=\"http://www.w3.org/2000/svg\" height=\"24px\"viewBox=\"0 0 24 24\"\n",
              "       width=\"24px\">\n",
              "    <path d=\"M0 0h24v24H0V0z\" fill=\"none\"/>\n",
              "    <path d=\"M18.56 5.44l.94 2.06.94-2.06 2.06-.94-2.06-.94-.94-2.06-.94 2.06-2.06.94zm-11 1L8.5 8.5l.94-2.06 2.06-.94-2.06-.94L8.5 2.5l-.94 2.06-2.06.94zm10 10l.94 2.06.94-2.06 2.06-.94-2.06-.94-.94-2.06-.94 2.06-2.06.94z\"/><path d=\"M17.41 7.96l-1.37-1.37c-.4-.4-.92-.59-1.43-.59-.52 0-1.04.2-1.43.59L10.3 9.45l-7.72 7.72c-.78.78-.78 2.05 0 2.83L4 21.41c.39.39.9.59 1.41.59.51 0 1.02-.2 1.41-.59l7.78-7.78 2.81-2.81c.8-.78.8-2.07 0-2.86zM5.41 20L4 18.59l7.72-7.72 1.47 1.35L5.41 20z\"/>\n",
              "  </svg>\n",
              "      </button>\n",
              "      \n",
              "  <style>\n",
              "    .colab-df-container {\n",
              "      display:flex;\n",
              "      flex-wrap:wrap;\n",
              "      gap: 12px;\n",
              "    }\n",
              "\n",
              "    .colab-df-convert {\n",
              "      background-color: #E8F0FE;\n",
              "      border: none;\n",
              "      border-radius: 50%;\n",
              "      cursor: pointer;\n",
              "      display: none;\n",
              "      fill: #1967D2;\n",
              "      height: 32px;\n",
              "      padding: 0 0 0 0;\n",
              "      width: 32px;\n",
              "    }\n",
              "\n",
              "    .colab-df-convert:hover {\n",
              "      background-color: #E2EBFA;\n",
              "      box-shadow: 0px 1px 2px rgba(60, 64, 67, 0.3), 0px 1px 3px 1px rgba(60, 64, 67, 0.15);\n",
              "      fill: #174EA6;\n",
              "    }\n",
              "\n",
              "    [theme=dark] .colab-df-convert {\n",
              "      background-color: #3B4455;\n",
              "      fill: #D2E3FC;\n",
              "    }\n",
              "\n",
              "    [theme=dark] .colab-df-convert:hover {\n",
              "      background-color: #434B5C;\n",
              "      box-shadow: 0px 1px 3px 1px rgba(0, 0, 0, 0.15);\n",
              "      filter: drop-shadow(0px 1px 2px rgba(0, 0, 0, 0.3));\n",
              "      fill: #FFFFFF;\n",
              "    }\n",
              "  </style>\n",
              "\n",
              "      <script>\n",
              "        const buttonEl =\n",
              "          document.querySelector('#df-cb639596-9144-47c3-995f-a5100ba0733a button.colab-df-convert');\n",
              "        buttonEl.style.display =\n",
              "          google.colab.kernel.accessAllowed ? 'block' : 'none';\n",
              "\n",
              "        async function convertToInteractive(key) {\n",
              "          const element = document.querySelector('#df-cb639596-9144-47c3-995f-a5100ba0733a');\n",
              "          const dataTable =\n",
              "            await google.colab.kernel.invokeFunction('convertToInteractive',\n",
              "                                                     [key], {});\n",
              "          if (!dataTable) return;\n",
              "\n",
              "          const docLinkHtml = 'Like what you see? Visit the ' +\n",
              "            '<a target=\"_blank\" href=https://colab.research.google.com/notebooks/data_table.ipynb>data table notebook</a>'\n",
              "            + ' to learn more about interactive tables.';\n",
              "          element.innerHTML = '';\n",
              "          dataTable['output_type'] = 'display_data';\n",
              "          await google.colab.output.renderOutput(dataTable, element);\n",
              "          const docLink = document.createElement('div');\n",
              "          docLink.innerHTML = docLinkHtml;\n",
              "          element.appendChild(docLink);\n",
              "        }\n",
              "      </script>\n",
              "    </div>\n",
              "  </div>\n",
              "  "
            ]
          },
          "metadata": {},
          "execution_count": 65
        }
      ]
    },
    {
      "cell_type": "markdown",
      "source": [
        "####5.   If we partition the dataset between urban and suburban/rural locations, do our relationships between predictor and target variables hold true?"
      ],
      "metadata": {
        "id": "UxJLJVvyHpE0"
      }
    },
    {
      "cell_type": "code",
      "source": [
        "#testing it to get just the city name\n",
        "\n",
        "ca_cities = ['Los Angeles', 'San Diego', 'San Jose', 'San Francisco', 'Fresno', 'Sacramento', 'Long Beach', 'Oakland', 'Bakersfield', 'Anaheim', 'Stockton', 'Riverside', 'Santa Ana', 'Irvine', 'Chula Vista', 'Fremont', 'Santa Clarita', 'San Bernadino', 'Modesto', 'Moreno Valley', 'Fontana', 'Oxnard', 'Huntington Beach', 'Glendale', 'Santa Rosa', 'Elk Grove', 'Ontario', 'Rancho Cucamonga', 'Oceanside', 'Lancaster', 'Garden Grove', 'Palmdale', 'Salinas', 'Hayward', 'Corona', 'Sunnyvale', 'Pomona', 'Escondido']\n",
        "\n",
        "#Function to execute the API call\n",
        "def executeRestApi(longitude, latitude):\n",
        "  #If a random sample is not taken, the function needs to sleep for 1s between API calls or the timeout will be triggered\n",
        "  if random_sample == False:\n",
        "    time.sleep(1)\n",
        "  else:\n",
        "    pass\n",
        "  url = f\"https://nominatim.openstreetmap.org/reverse?lat={latitude}&lon={longitude}&format=json\"\n",
        "\n",
        "  # Make API request, get response object back, create dataframe from above schema.\n",
        "  res = requests.get(url)\n",
        "  data=res.json()\n",
        "  try:\n",
        "    city = data[\"address\"][\"city\"]\n",
        "    if city in ca_cities:\n",
        "      return 1\n",
        "    else:\n",
        "      return 0\n",
        "  except:\n",
        "    try:\n",
        "      city = data[\"address\"][\"town\"]\n",
        "      if city in ca_cities:\n",
        "        return 1\n",
        "      else:\n",
        "        return 0\n",
        "    except:\n",
        "      try:\n",
        "        city = data[\"address\"][\"village\"]\n",
        "        if city in ca_cities:\n",
        "          return 1\n",
        "        else:\n",
        "          return 0\n",
        "      except:\n",
        "        try:\n",
        "          city = data[\"address\"][\"suburb\"]\n",
        "          if city in ca_cities:\n",
        "            return 1\n",
        "          else:\n",
        "            return 0\n",
        "        except:\n",
        "          return 2\n",
        "\n",
        "udf_executeRestApi = udf(executeRestApi)\n"
      ],
      "metadata": {
        "id": "QVMblnvWSm-s"
      },
      "execution_count": 7,
      "outputs": []
    },
    {
      "cell_type": "code",
      "source": [
        "#Note: Expect this cell to take ~20 minutes to run if random_sample is True, else expect 5-6 hours (may need local runtime or Colab Pro)\n",
        "#You can change the fraction variable to a smaller number make it run faster, but might not give you a statisctically significant sample\n",
        "fraction = .05\n",
        "\n",
        "df9 = df\n",
        "#Take a random sample, if enabled\n",
        "if random_sample:\n",
        "  df9=df9.sample(withReplacement=False, fraction=fraction)\n",
        "else:\n",
        "  pass\n",
        "\n",
        "#Function to make the request\n",
        "result_df = df9.withColumn(\"urban\", udf_executeRestApi(col(\"long\"), col(\"lat\"))).checkpoint(eager=True)"
      ],
      "metadata": {
        "id": "y7OvtD68SDXA"
      },
      "execution_count": 14,
      "outputs": []
    },
    {
      "cell_type": "code",
      "source": [
        "result_df.show()"
      ],
      "metadata": {
        "colab": {
          "base_uri": "https://localhost:8080/"
        },
        "id": "BGV2BP3VX4hc",
        "outputId": "b2434eb7-f4ea-4f3c-df64-10b87df00149"
      },
      "execution_count": 9,
      "outputs": [
        {
          "output_type": "stream",
          "name": "stdout",
          "text": [
            "+-------+-----+---------+-------+--------+----------+----------+------------+----------------+-----+\n",
            "|   long|  lat|medianage|  rooms|bedrooms|population|households|medianincome|medianhousevalue|urban|\n",
            "+-------+-----+---------+-------+--------+----------+----------+------------+----------------+-----+\n",
            "|-122.26|37.83|     52.0| 1443.0|   311.0|     660.0|     292.0|      3.0125|        184400.0|    1|\n",
            "|-122.16|37.79|     22.0|12842.0|  2048.0|    4985.0|    1967.0|      5.9849|        371000.0|    1|\n",
            "|-122.34|37.88|     37.0| 3061.0|   930.0|    2556.0|     924.0|      1.7375|        350000.0|    0|\n",
            "|-122.28|37.78|     29.0| 5154.0|  1394.0|    3741.0|    1273.0|      2.5762|        173400.0|    0|\n",
            "|-122.07|37.69|     29.0| 2304.0|   618.0|    1021.0|     552.0|      2.5362|        203800.0|    0|\n",
            "|-122.01|37.53|     27.0| 1890.0|   303.0|     889.0|     314.0|      5.7057|        287600.0|    0|\n",
            "| -120.9| 38.2|     16.0| 3120.0|   641.0|    1319.0|     526.0|      2.0472|         93200.0|    2|\n",
            "|-121.93|37.93|     16.0| 2169.0|   262.0|     877.0|     245.0|      6.6049|        312600.0|    0|\n",
            "|-122.36|37.93|     17.0| 1258.0|   254.0|     885.0|     229.0|        3.05|        121600.0|    0|\n",
            "|-122.37|37.93|     45.0| 3150.0|   756.0|    1798.0|     749.0|        1.75|         37900.0|    0|\n",
            "|-124.16|41.92|     19.0| 1668.0|   324.0|     841.0|     283.0|      2.1336|         75000.0|    0|\n",
            "|-120.87|38.71|     13.0| 2692.0|   470.0|    1302.0|     420.0|         4.0|        167400.0|    2|\n",
            "|-119.81|36.76|     52.0| 1792.0|   352.0|    1049.0|     357.0|      2.4375|         57100.0|    1|\n",
            "|-120.04|36.74|     14.0| 3182.0|   730.0|    2298.0|     721.0|      1.6168|         71800.0|    0|\n",
            "|-118.42|37.36|     18.0| 2281.0|   520.0|    1425.0|     465.0|      1.7388|         54400.0|    2|\n",
            "|-118.43|34.23|     37.0| 1737.0|   369.0|    1061.0|     356.0|      3.9615|        173700.0|    1|\n",
            "|-118.39|34.16|     37.0| 1388.0|   286.0|     547.0|     258.0|      5.1584|        444700.0|    1|\n",
            "|-118.47|34.19|     41.0| 1104.0|   196.0|     495.0|     196.0|      5.0929|        225000.0|    1|\n",
            "| -118.3|34.08|     34.0| 1562.0|   651.0|    1774.0|     559.0|      1.5685|        225000.0|    1|\n",
            "|-118.19|34.04|     40.0| 1095.0|   305.0|    1322.0|     281.0|      1.9688|        150000.0|    0|\n",
            "+-------+-----+---------+-------+--------+----------+----------+------------+----------------+-----+\n",
            "only showing top 20 rows\n",
            "\n"
          ]
        }
      ]
    },
    {
      "cell_type": "code",
      "source": [
        "#Filter to only urban\n",
        "cities_df = result_df.where(result_df.urban == 1)\n",
        "cities_df_pd = cities_df.toPandas()\n",
        "num_urban = len(cities_df_pd)\n",
        "print (f\"{num_urban} urban datapoints\")\n",
        "\n",
        "#Filter to only rural/suburban\n",
        "noncities_df = result_df.where(result_df.urban==0)\n",
        "noncities_df_pd = noncities_df.toPandas()\n",
        "num_nonurban= len(noncities_df_pd)\n",
        "print (f\"{num_nonurban} non-urban datapoints\")\n",
        "\n",
        "#Check for errors\n",
        "errors_df_pd = result_df.where(result_df.urban==2).toPandas()\n",
        "num_errors = len(errors_df_pd)\n",
        "print (f\"{num_errors} errors found\")\n"
      ],
      "metadata": {
        "id": "ImPMnGvPaSuk",
        "colab": {
          "base_uri": "https://localhost:8080/"
        },
        "outputId": "a0170984-e7f5-4e68-e8c8-974722b2ddc5"
      },
      "execution_count": 10,
      "outputs": [
        {
          "output_type": "stream",
          "name": "stdout",
          "text": [
            "33 urban datapoints\n",
            "51 non-urban datapoints\n",
            "14 errors found\n"
          ]
        }
      ]
    },
    {
      "cell_type": "code",
      "source": [
        "errors_df_pd.head(num_errors)"
      ],
      "metadata": {
        "id": "RUiq0V_0kGh4",
        "colab": {
          "base_uri": "https://localhost:8080/",
          "height": 553
        },
        "outputId": "f01d641c-e0f6-4899-ddd6-158979361615"
      },
      "execution_count": 13,
      "outputs": [
        {
          "output_type": "execute_result",
          "data": {
            "text/plain": [
              "          long        lat  medianage   rooms  bedrooms  population  \\\n",
              "0  -120.900002  38.200001       16.0  3120.0     641.0      1319.0   \n",
              "1  -120.870003  38.709999       13.0  2692.0     470.0      1302.0   \n",
              "2  -118.419998  37.360001       18.0  2281.0     520.0      1425.0   \n",
              "3  -121.699997  36.840000       19.0  2511.0     465.0      1551.0   \n",
              "4  -120.349998  39.340000       29.0  1986.0     474.0       337.0   \n",
              "5  -121.360001  38.610001       37.0  2191.0     394.0       951.0   \n",
              "6  -121.199997  38.669998       26.0  1546.0     287.0       773.0   \n",
              "7  -117.139999  33.070000       12.0  9302.0    1603.0      4074.0   \n",
              "8  -121.269997  37.880001       43.0   968.0     249.0       664.0   \n",
              "9  -121.190002  38.130001       27.0  2400.0     435.0      1085.0   \n",
              "10 -121.610001  37.150002       16.0  5498.0     729.0      2051.0   \n",
              "11 -122.269997  40.529999       17.0  2255.0     416.0      1171.0   \n",
              "12 -119.400002  36.040001       39.0   915.0     199.0       580.0   \n",
              "13 -118.930000  36.099998       19.0  2988.0     681.0      1654.0   \n",
              "\n",
              "    households  medianincome  medianhousevalue urban  \n",
              "0        526.0        2.0472           93200.0     2  \n",
              "1        420.0        4.0000          167400.0     2  \n",
              "2        465.0        1.7388           54400.0     2  \n",
              "3        450.0        4.9107          231900.0     2  \n",
              "4        100.0        4.0278           95800.0     2  \n",
              "5        362.0        3.8882          159500.0     2  \n",
              "6        299.0        2.9803          115400.0     2  \n",
              "7       1504.0        4.3513          199600.0     2  \n",
              "8        240.0        1.6458           83600.0     2  \n",
              "9        444.0        3.7687          165200.0     2  \n",
              "10       694.0        7.8601          416300.0     2  \n",
              "11       411.0        2.8750          129800.0     2  \n",
              "12       175.0        1.8894          112500.0     2  \n",
              "13       576.0        2.3792           90000.0     2  "
            ],
            "text/html": [
              "\n",
              "  <div id=\"df-b412e669-6cac-47a6-955c-361fd848b151\">\n",
              "    <div class=\"colab-df-container\">\n",
              "      <div>\n",
              "<style scoped>\n",
              "    .dataframe tbody tr th:only-of-type {\n",
              "        vertical-align: middle;\n",
              "    }\n",
              "\n",
              "    .dataframe tbody tr th {\n",
              "        vertical-align: top;\n",
              "    }\n",
              "\n",
              "    .dataframe thead th {\n",
              "        text-align: right;\n",
              "    }\n",
              "</style>\n",
              "<table border=\"1\" class=\"dataframe\">\n",
              "  <thead>\n",
              "    <tr style=\"text-align: right;\">\n",
              "      <th></th>\n",
              "      <th>long</th>\n",
              "      <th>lat</th>\n",
              "      <th>medianage</th>\n",
              "      <th>rooms</th>\n",
              "      <th>bedrooms</th>\n",
              "      <th>population</th>\n",
              "      <th>households</th>\n",
              "      <th>medianincome</th>\n",
              "      <th>medianhousevalue</th>\n",
              "      <th>urban</th>\n",
              "    </tr>\n",
              "  </thead>\n",
              "  <tbody>\n",
              "    <tr>\n",
              "      <th>0</th>\n",
              "      <td>-120.900002</td>\n",
              "      <td>38.200001</td>\n",
              "      <td>16.0</td>\n",
              "      <td>3120.0</td>\n",
              "      <td>641.0</td>\n",
              "      <td>1319.0</td>\n",
              "      <td>526.0</td>\n",
              "      <td>2.0472</td>\n",
              "      <td>93200.0</td>\n",
              "      <td>2</td>\n",
              "    </tr>\n",
              "    <tr>\n",
              "      <th>1</th>\n",
              "      <td>-120.870003</td>\n",
              "      <td>38.709999</td>\n",
              "      <td>13.0</td>\n",
              "      <td>2692.0</td>\n",
              "      <td>470.0</td>\n",
              "      <td>1302.0</td>\n",
              "      <td>420.0</td>\n",
              "      <td>4.0000</td>\n",
              "      <td>167400.0</td>\n",
              "      <td>2</td>\n",
              "    </tr>\n",
              "    <tr>\n",
              "      <th>2</th>\n",
              "      <td>-118.419998</td>\n",
              "      <td>37.360001</td>\n",
              "      <td>18.0</td>\n",
              "      <td>2281.0</td>\n",
              "      <td>520.0</td>\n",
              "      <td>1425.0</td>\n",
              "      <td>465.0</td>\n",
              "      <td>1.7388</td>\n",
              "      <td>54400.0</td>\n",
              "      <td>2</td>\n",
              "    </tr>\n",
              "    <tr>\n",
              "      <th>3</th>\n",
              "      <td>-121.699997</td>\n",
              "      <td>36.840000</td>\n",
              "      <td>19.0</td>\n",
              "      <td>2511.0</td>\n",
              "      <td>465.0</td>\n",
              "      <td>1551.0</td>\n",
              "      <td>450.0</td>\n",
              "      <td>4.9107</td>\n",
              "      <td>231900.0</td>\n",
              "      <td>2</td>\n",
              "    </tr>\n",
              "    <tr>\n",
              "      <th>4</th>\n",
              "      <td>-120.349998</td>\n",
              "      <td>39.340000</td>\n",
              "      <td>29.0</td>\n",
              "      <td>1986.0</td>\n",
              "      <td>474.0</td>\n",
              "      <td>337.0</td>\n",
              "      <td>100.0</td>\n",
              "      <td>4.0278</td>\n",
              "      <td>95800.0</td>\n",
              "      <td>2</td>\n",
              "    </tr>\n",
              "    <tr>\n",
              "      <th>5</th>\n",
              "      <td>-121.360001</td>\n",
              "      <td>38.610001</td>\n",
              "      <td>37.0</td>\n",
              "      <td>2191.0</td>\n",
              "      <td>394.0</td>\n",
              "      <td>951.0</td>\n",
              "      <td>362.0</td>\n",
              "      <td>3.8882</td>\n",
              "      <td>159500.0</td>\n",
              "      <td>2</td>\n",
              "    </tr>\n",
              "    <tr>\n",
              "      <th>6</th>\n",
              "      <td>-121.199997</td>\n",
              "      <td>38.669998</td>\n",
              "      <td>26.0</td>\n",
              "      <td>1546.0</td>\n",
              "      <td>287.0</td>\n",
              "      <td>773.0</td>\n",
              "      <td>299.0</td>\n",
              "      <td>2.9803</td>\n",
              "      <td>115400.0</td>\n",
              "      <td>2</td>\n",
              "    </tr>\n",
              "    <tr>\n",
              "      <th>7</th>\n",
              "      <td>-117.139999</td>\n",
              "      <td>33.070000</td>\n",
              "      <td>12.0</td>\n",
              "      <td>9302.0</td>\n",
              "      <td>1603.0</td>\n",
              "      <td>4074.0</td>\n",
              "      <td>1504.0</td>\n",
              "      <td>4.3513</td>\n",
              "      <td>199600.0</td>\n",
              "      <td>2</td>\n",
              "    </tr>\n",
              "    <tr>\n",
              "      <th>8</th>\n",
              "      <td>-121.269997</td>\n",
              "      <td>37.880001</td>\n",
              "      <td>43.0</td>\n",
              "      <td>968.0</td>\n",
              "      <td>249.0</td>\n",
              "      <td>664.0</td>\n",
              "      <td>240.0</td>\n",
              "      <td>1.6458</td>\n",
              "      <td>83600.0</td>\n",
              "      <td>2</td>\n",
              "    </tr>\n",
              "    <tr>\n",
              "      <th>9</th>\n",
              "      <td>-121.190002</td>\n",
              "      <td>38.130001</td>\n",
              "      <td>27.0</td>\n",
              "      <td>2400.0</td>\n",
              "      <td>435.0</td>\n",
              "      <td>1085.0</td>\n",
              "      <td>444.0</td>\n",
              "      <td>3.7687</td>\n",
              "      <td>165200.0</td>\n",
              "      <td>2</td>\n",
              "    </tr>\n",
              "    <tr>\n",
              "      <th>10</th>\n",
              "      <td>-121.610001</td>\n",
              "      <td>37.150002</td>\n",
              "      <td>16.0</td>\n",
              "      <td>5498.0</td>\n",
              "      <td>729.0</td>\n",
              "      <td>2051.0</td>\n",
              "      <td>694.0</td>\n",
              "      <td>7.8601</td>\n",
              "      <td>416300.0</td>\n",
              "      <td>2</td>\n",
              "    </tr>\n",
              "    <tr>\n",
              "      <th>11</th>\n",
              "      <td>-122.269997</td>\n",
              "      <td>40.529999</td>\n",
              "      <td>17.0</td>\n",
              "      <td>2255.0</td>\n",
              "      <td>416.0</td>\n",
              "      <td>1171.0</td>\n",
              "      <td>411.0</td>\n",
              "      <td>2.8750</td>\n",
              "      <td>129800.0</td>\n",
              "      <td>2</td>\n",
              "    </tr>\n",
              "    <tr>\n",
              "      <th>12</th>\n",
              "      <td>-119.400002</td>\n",
              "      <td>36.040001</td>\n",
              "      <td>39.0</td>\n",
              "      <td>915.0</td>\n",
              "      <td>199.0</td>\n",
              "      <td>580.0</td>\n",
              "      <td>175.0</td>\n",
              "      <td>1.8894</td>\n",
              "      <td>112500.0</td>\n",
              "      <td>2</td>\n",
              "    </tr>\n",
              "    <tr>\n",
              "      <th>13</th>\n",
              "      <td>-118.930000</td>\n",
              "      <td>36.099998</td>\n",
              "      <td>19.0</td>\n",
              "      <td>2988.0</td>\n",
              "      <td>681.0</td>\n",
              "      <td>1654.0</td>\n",
              "      <td>576.0</td>\n",
              "      <td>2.3792</td>\n",
              "      <td>90000.0</td>\n",
              "      <td>2</td>\n",
              "    </tr>\n",
              "  </tbody>\n",
              "</table>\n",
              "</div>\n",
              "      <button class=\"colab-df-convert\" onclick=\"convertToInteractive('df-b412e669-6cac-47a6-955c-361fd848b151')\"\n",
              "              title=\"Convert this dataframe to an interactive table.\"\n",
              "              style=\"display:none;\">\n",
              "        \n",
              "  <svg xmlns=\"http://www.w3.org/2000/svg\" height=\"24px\"viewBox=\"0 0 24 24\"\n",
              "       width=\"24px\">\n",
              "    <path d=\"M0 0h24v24H0V0z\" fill=\"none\"/>\n",
              "    <path d=\"M18.56 5.44l.94 2.06.94-2.06 2.06-.94-2.06-.94-.94-2.06-.94 2.06-2.06.94zm-11 1L8.5 8.5l.94-2.06 2.06-.94-2.06-.94L8.5 2.5l-.94 2.06-2.06.94zm10 10l.94 2.06.94-2.06 2.06-.94-2.06-.94-.94-2.06-.94 2.06-2.06.94z\"/><path d=\"M17.41 7.96l-1.37-1.37c-.4-.4-.92-.59-1.43-.59-.52 0-1.04.2-1.43.59L10.3 9.45l-7.72 7.72c-.78.78-.78 2.05 0 2.83L4 21.41c.39.39.9.59 1.41.59.51 0 1.02-.2 1.41-.59l7.78-7.78 2.81-2.81c.8-.78.8-2.07 0-2.86zM5.41 20L4 18.59l7.72-7.72 1.47 1.35L5.41 20z\"/>\n",
              "  </svg>\n",
              "      </button>\n",
              "      \n",
              "  <style>\n",
              "    .colab-df-container {\n",
              "      display:flex;\n",
              "      flex-wrap:wrap;\n",
              "      gap: 12px;\n",
              "    }\n",
              "\n",
              "    .colab-df-convert {\n",
              "      background-color: #E8F0FE;\n",
              "      border: none;\n",
              "      border-radius: 50%;\n",
              "      cursor: pointer;\n",
              "      display: none;\n",
              "      fill: #1967D2;\n",
              "      height: 32px;\n",
              "      padding: 0 0 0 0;\n",
              "      width: 32px;\n",
              "    }\n",
              "\n",
              "    .colab-df-convert:hover {\n",
              "      background-color: #E2EBFA;\n",
              "      box-shadow: 0px 1px 2px rgba(60, 64, 67, 0.3), 0px 1px 3px 1px rgba(60, 64, 67, 0.15);\n",
              "      fill: #174EA6;\n",
              "    }\n",
              "\n",
              "    [theme=dark] .colab-df-convert {\n",
              "      background-color: #3B4455;\n",
              "      fill: #D2E3FC;\n",
              "    }\n",
              "\n",
              "    [theme=dark] .colab-df-convert:hover {\n",
              "      background-color: #434B5C;\n",
              "      box-shadow: 0px 1px 3px 1px rgba(0, 0, 0, 0.15);\n",
              "      filter: drop-shadow(0px 1px 2px rgba(0, 0, 0, 0.3));\n",
              "      fill: #FFFFFF;\n",
              "    }\n",
              "  </style>\n",
              "\n",
              "      <script>\n",
              "        const buttonEl =\n",
              "          document.querySelector('#df-b412e669-6cac-47a6-955c-361fd848b151 button.colab-df-convert');\n",
              "        buttonEl.style.display =\n",
              "          google.colab.kernel.accessAllowed ? 'block' : 'none';\n",
              "\n",
              "        async function convertToInteractive(key) {\n",
              "          const element = document.querySelector('#df-b412e669-6cac-47a6-955c-361fd848b151');\n",
              "          const dataTable =\n",
              "            await google.colab.kernel.invokeFunction('convertToInteractive',\n",
              "                                                     [key], {});\n",
              "          if (!dataTable) return;\n",
              "\n",
              "          const docLinkHtml = 'Like what you see? Visit the ' +\n",
              "            '<a target=\"_blank\" href=https://colab.research.google.com/notebooks/data_table.ipynb>data table notebook</a>'\n",
              "            + ' to learn more about interactive tables.';\n",
              "          element.innerHTML = '';\n",
              "          dataTable['output_type'] = 'display_data';\n",
              "          await google.colab.output.renderOutput(dataTable, element);\n",
              "          const docLink = document.createElement('div');\n",
              "          docLink.innerHTML = docLinkHtml;\n",
              "          element.appendChild(docLink);\n",
              "        }\n",
              "      </script>\n",
              "    </div>\n",
              "  </div>\n",
              "  "
            ]
          },
          "metadata": {},
          "execution_count": 13
        }
      ]
    },
    {
      "cell_type": "code",
      "source": [
        "#check all errors, manually verify all are rural/suburban areas\n",
        "for i in range(len(errors_df_pd)): \n",
        "  longitude= errors_df_pd.long[i]\n",
        "  latitude= errors_df_pd.lat[i]\n",
        "  url = f\"https://nominatim.openstreetmap.org/reverse?lat={latitude}&lon={longitude}&format=json\"\n",
        "  # Make API request, get response object back, create dataframe from above schema.\n",
        "  res = requests.get(url)\n",
        "  data=res.json()\n",
        "  print(data)"
      ],
      "metadata": {
        "id": "RKWRKO1NkdCg",
        "colab": {
          "base_uri": "https://localhost:8080/"
        },
        "outputId": "68c43e9a-6056-43c9-c7a5-722d86e715cc"
      },
      "execution_count": 12,
      "outputs": [
        {
          "output_type": "stream",
          "name": "stdout",
          "text": [
            "{'place_id': 99285561, 'licence': 'Data © OpenStreetMap contributors, ODbL 1.0. https://osm.org/copyright', 'osm_type': 'way', 'osm_id': 10308990, 'lat': '38.20122782030721', 'lon': '-120.8998441360988', 'display_name': 'Camanche Parkway South, South Camanche Shore, Calaveras County, California, 95225, United States', 'address': {'road': 'Camanche Parkway South', 'hamlet': 'South Camanche Shore', 'county': 'Calaveras County', 'state': 'California', 'ISO3166-2-lvl4': 'US-CA', 'postcode': '95225', 'country': 'United States', 'country_code': 'us'}, 'boundingbox': ['38.198543', '38.2267261', '-120.905144', '-120.878975']}\n",
            "{'place_id': 98496671, 'licence': 'Data © OpenStreetMap contributors, ODbL 1.0. https://osm.org/copyright', 'osm_type': 'way', 'osm_id': 10337063, 'lat': '38.7121445', 'lon': '-120.8700991', 'display_name': 'Sundance Trail, El Dorado County, California, 95667-8217, United States', 'address': {'road': 'Sundance Trail', 'county': 'El Dorado County', 'state': 'California', 'ISO3166-2-lvl4': 'US-CA', 'postcode': '95667-8217', 'country': 'United States', 'country_code': 'us'}, 'boundingbox': ['38.7113336', '38.7139645', '-120.8705276', '-120.8494234']}\n",
            "{'place_id': 144815928, 'licence': 'Data © OpenStreetMap contributors, ODbL 1.0. https://osm.org/copyright', 'osm_type': 'way', 'osm_id': 182321497, 'lat': '37.36132984957326', 'lon': '-118.42000567139415', 'display_name': 'West Line Street, Paiute-Shoshone Indian Cultural Center, Inyo County, California, United States', 'address': {'road': 'West Line Street', 'hamlet': 'Paiute-Shoshone Indian Cultural Center', 'county': 'Inyo County', 'state': 'California', 'ISO3166-2-lvl4': 'US-CA', 'country': 'United States', 'country_code': 'us'}, 'boundingbox': ['37.3613071', '37.3613446', '-118.4230237', '-118.4073282']}\n",
            "{'place_id': 99381111, 'licence': 'Data © OpenStreetMap contributors, ODbL 1.0. https://osm.org/copyright', 'osm_type': 'way', 'osm_id': 10457781, 'lat': '36.8392866', 'lon': '-121.7004537', 'display_name': 'Monterey County, California, United States', 'address': {'county': 'Monterey County', 'state': 'California', 'ISO3166-2-lvl4': 'US-CA', 'country': 'United States', 'country_code': 'us'}, 'boundingbox': ['36.8375471', '36.8392866', '-121.7004537', '-121.6989624']}\n",
            "{'place_id': 111153455, 'licence': 'Data © OpenStreetMap contributors, ODbL 1.0. https://osm.org/copyright', 'osm_type': 'way', 'osm_id': 37247147, 'lat': '39.33996518163416', 'lon': '-120.3499890842961', 'display_name': 'Castle Valley North Road, Nevada County, California, 95724, United States', 'address': {'road': 'Castle Valley North Road', 'county': 'Nevada County', 'state': 'California', 'ISO3166-2-lvl4': 'US-CA', 'postcode': '95724', 'country': 'United States', 'country_code': 'us'}, 'boundingbox': ['39.3395778', '39.3410042', '-120.350225', '-120.3476125']}\n",
            "{'place_id': 108785591, 'licence': 'Data © OpenStreetMap contributors, ODbL 1.0. https://osm.org/copyright', 'osm_type': 'way', 'osm_id': 30141821, 'lat': '38.609145049999995', 'lon': '-121.36212158458807', 'display_name': 'El Camino Fundamental High School, El Camino Avenue, Sacramento County, California, 95825-2014, United States', 'address': {'amenity': 'El Camino Fundamental High School', 'road': 'El Camino Avenue', 'county': 'Sacramento County', 'state': 'California', 'ISO3166-2-lvl4': 'US-CA', 'postcode': '95825-2014', 'country': 'United States', 'country_code': 'us'}, 'boundingbox': ['38.6066567', '38.610131', '-121.3643779', '-121.3598546']}\n",
            "{'place_id': 306402574, 'licence': 'Data © OpenStreetMap contributors, ODbL 1.0. https://osm.org/copyright', 'osm_type': 'way', 'osm_id': 10510024, 'lat': '38.67016241463414', 'lon': '-121.20000656097561', 'display_name': '9444, Pershing Avenue, Sacramento County, California, 95662, United States', 'address': {'house_number': '9444', 'road': 'Pershing Avenue', 'county': 'Sacramento County', 'state': 'California', 'ISO3166-2-lvl4': 'US-CA', 'postcode': '95662', 'country': 'United States', 'country_code': 'us'}, 'boundingbox': ['38.670112414634', '38.670212414634', '-121.20005656098', '-121.19995656098']}\n",
            "{'place_id': 196461769, 'licence': 'Data © OpenStreetMap contributors, ODbL 1.0. https://osm.org/copyright', 'osm_type': 'way', 'osm_id': 414923211, 'lat': '33.0679857', 'lon': '-117.1417204', 'display_name': 'SD Aqueduct service road (private), Filtration Plant, San Diego County, California, 92029, United States', 'address': {'road': 'SD Aqueduct service road (private)', 'industrial': 'Filtration Plant', 'county': 'San Diego County', 'state': 'California', 'ISO3166-2-lvl4': 'US-CA', 'postcode': '92029', 'country': 'United States', 'country_code': 'us'}, 'boundingbox': ['33.0654118', '33.0679857', '-117.1460667', '-117.1417204']}\n",
            "{'place_id': 98749670, 'licence': 'Data © OpenStreetMap contributors, ODbL 1.0. https://osm.org/copyright', 'osm_type': 'way', 'osm_id': 10538154, 'lat': '37.881909', 'lon': '-121.270527', 'display_name': 'South Ponderosa Street, French Camp, San Joaquin County, California, 95231, United States', 'address': {'road': 'South Ponderosa Street', 'hamlet': 'French Camp', 'county': 'San Joaquin County', 'state': 'California', 'ISO3166-2-lvl4': 'US-CA', 'postcode': '95231', 'country': 'United States', 'country_code': 'us'}, 'boundingbox': ['37.881902', '37.882801', '-121.270638', '-121.269112']}\n",
            "{'place_id': 235145631, 'licence': 'Data © OpenStreetMap contributors, ODbL 1.0. https://osm.org/copyright', 'osm_type': 'way', 'osm_id': 673501263, 'lat': '38.1317654', 'lon': '-121.1865485', 'display_name': 'Manor Lane, San Joaquin County, California, 95237, United States', 'address': {'road': 'Manor Lane', 'county': 'San Joaquin County', 'state': 'California', 'ISO3166-2-lvl4': 'US-CA', 'postcode': '95237', 'country': 'United States', 'country_code': 'us'}, 'boundingbox': ['38.1317654', '38.1380404', '-121.1866317', '-121.1865485']}\n",
            "{'place_id': 97719563, 'licence': 'Data © OpenStreetMap contributors, ODbL 1.0. https://osm.org/copyright', 'osm_type': 'way', 'osm_id': 8934068, 'lat': '37.1533069', 'lon': '-121.6084322', 'display_name': 'Lakeview Drive, Santa Clara County, California, 95037-3217, United States', 'address': {'road': 'Lakeview Drive', 'county': 'Santa Clara County', 'state': 'California', 'ISO3166-2-lvl4': 'US-CA', 'postcode': '95037-3217', 'country': 'United States', 'country_code': 'us'}, 'boundingbox': ['37.1483657', '37.1547821', '-121.6106194', '-121.5999781']}\n",
            "{'place_id': 98660958, 'licence': 'Data © OpenStreetMap contributors, ODbL 1.0. https://osm.org/copyright', 'osm_type': 'way', 'osm_id': 10594479, 'lat': '40.531341085244726', 'lon': '-122.27002480333464', 'display_name': 'Whispering Oaks Road, Shasta County, California, 96073, United States', 'address': {'road': 'Whispering Oaks Road', 'county': 'Shasta County', 'state': 'California', 'ISO3166-2-lvl4': 'US-CA', 'postcode': '96073', 'country': 'United States', 'country_code': 'us'}, 'boundingbox': ['40.531227', '40.542452', '-122.2742106', '-122.267074']}\n",
            "{'place_id': 282407813, 'licence': 'Data © OpenStreetMap contributors, ODbL 1.0. https://osm.org/copyright', 'osm_type': 'relation', 'osm_id': 396459, 'lat': '36.2516475', 'lon': '-118.852583', 'display_name': 'Tulare County, California, United States', 'address': {'county': 'Tulare County', 'state': 'California', 'ISO3166-2-lvl4': 'US-CA', 'country': 'United States', 'country_code': 'us'}, 'boundingbox': ['35.786701', '36.7531474', '-119.573376', '-117.9807869']}\n",
            "{'place_id': 113479879, 'licence': 'Data © OpenStreetMap contributors, ODbL 1.0. https://osm.org/copyright', 'osm_type': 'way', 'osm_id': 44581270, 'lat': '36.098396', 'lon': '-118.93259705626478', 'display_name': 'Lake Success Recreational Area, Avenue 176, Tulare County, California, United States', 'address': {'tourism': 'Lake Success Recreational Area', 'road': 'Avenue 176', 'county': 'Tulare County', 'state': 'California', 'ISO3166-2-lvl4': 'US-CA', 'country': 'United States', 'country_code': 'us'}, 'boundingbox': ['36.087334', '36.109483', '-118.956231', '-118.9237761']}\n"
          ]
        }
      ]
    },
    {
      "cell_type": "code",
      "source": [
        "#Refilter \"errors\" back in\n",
        "noncities_df = result_df.where(result_df.urban!=1)\n",
        "noncities_df_pd = noncities_df.toPandas()\n",
        "num_nonurban= len(noncities_df_pd)\n",
        "print (f\"{num_nonurban} non-urban datapoints\")"
      ],
      "metadata": {
        "id": "touRNtY6ly4Q",
        "colab": {
          "base_uri": "https://localhost:8080/"
        },
        "outputId": "91d78b75-0a16-45a8-cc50-5befbe0cdc0d"
      },
      "execution_count": 15,
      "outputs": [
        {
          "output_type": "stream",
          "name": "stdout",
          "text": [
            "4 non-urban datapoints\n"
          ]
        }
      ]
    },
    {
      "cell_type": "code",
      "source": [
        "#Plot median age\n",
        "\n",
        "#test ax\n",
        "fig, ax = plt.subplots(2, 1, figsize=(6,6))\n",
        "#ax = fig.add_subplot(2, 1)\n",
        "sns.boxplot(x=cities_df_pd['medianage'],ax=ax[0],color='grey')\n",
        "sns.boxplot(x=noncities_df_pd['medianage'],ax=ax[1],color='green')\n",
        "\n",
        "fig.suptitle('Median Age Urban vs. Suburban/Rural')\n",
        "gray_patch = mpatches.Patch(color='grey', label='Urban')\n",
        "green_patch = mpatches.Patch(color='green', label='Suburban/Rural')\n",
        "plt.legend(handles=[gray_patch,green_patch], loc = 3, bbox_to_anchor = (1,1))"
      ],
      "metadata": {
        "id": "HHOJV9yocBds",
        "colab": {
          "base_uri": "https://localhost:8080/",
          "height": 449
        },
        "outputId": "bf9b7be3-264d-46a7-b074-5d8215c43b37"
      },
      "execution_count": 17,
      "outputs": [
        {
          "output_type": "execute_result",
          "data": {
            "text/plain": [
              "<matplotlib.legend.Legend at 0x7f70d118bc50>"
            ]
          },
          "metadata": {},
          "execution_count": 17
        },
        {
          "output_type": "display_data",
          "data": {
            "text/plain": [
              "<Figure size 432x432 with 2 Axes>"
            ],
            "image/png": "[encoded data removed]"
          },
          "metadata": {
            "needs_background": "light"
          }
        }
      ]
    },
    {
      "cell_type": "code",
      "source": [
        "#Plot median income\n",
        "\n",
        "#test ax\n",
        "fig, ax = plt.subplots(2, 1, figsize=(6,6))\n",
        "#ax = fig.add_subplot(2, 1)\n",
        "sns.boxplot(x=cities_df_pd['medianincome'],ax=ax[0],color='grey')\n",
        "sns.boxplot(x=noncities_df_pd['medianincome'],ax=ax[1],color='green')\n",
        "\n",
        "fig.suptitle('Bedooms Urban vs. Suburban/Rural')\n",
        "gray_patch = mpatches.Patch(color='grey', label='Urban')\n",
        "green_patch = mpatches.Patch(color='green', label='Suburban/Rural')\n",
        "plt.legend(handles=[gray_patch,green_patch], loc = 3, bbox_to_anchor = (1,1))"
      ],
      "metadata": {
        "id": "pStQR4G74MMs",
        "colab": {
          "base_uri": "https://localhost:8080/",
          "height": 449
        },
        "outputId": "9ea5a965-be1a-4db3-a832-2787f79c2449"
      },
      "execution_count": 18,
      "outputs": [
        {
          "output_type": "execute_result",
          "data": {
            "text/plain": [
              "<matplotlib.legend.Legend at 0x7f70d10388d0>"
            ]
          },
          "metadata": {},
          "execution_count": 18
        },
        {
          "output_type": "display_data",
          "data": {
            "text/plain": [
              "<Figure size 432x432 with 2 Axes>"
            ],
            "image/png": "[encoded data removed]"
          },
          "metadata": {
            "needs_background": "light"
          }
        }
      ]
    },
    {
      "cell_type": "code",
      "source": [
        "#Plot population\n",
        "\n",
        "#test ax\n",
        "fig, ax = plt.subplots(2, 1, figsize=(6,6))\n",
        "\n",
        "\n",
        "\n",
        "#ax = fig.add_subplot(2, 1)\n",
        "plot1= sns.boxplot(x=cities_df_pd['population'],ax=ax[0],color='grey')\n",
        "plot2= sns.boxplot(x=noncities_df_pd['population'],ax=ax[1],color='green')\n",
        "\n",
        "fig.suptitle('Population Urban vs. Suburban/Rural')\n",
        "gray_patch = mpatches.Patch(color='grey', label='Urban')\n",
        "green_patch = mpatches.Patch(color='green', label='Suburban/Rural')\n",
        "plt.legend(handles=[gray_patch,green_patch], loc = 3, bbox_to_anchor = (1,1))\n",
        "plot1.set_xlim([-100,12000])\n",
        "plot2.set_xlim([-100,12000])"
      ],
      "metadata": {
        "id": "Aq4GQezS4hV0",
        "colab": {
          "base_uri": "https://localhost:8080/",
          "height": 449
        },
        "outputId": "0d081ff2-7fd3-4c9d-ae43-3212b68c1ea6"
      },
      "execution_count": 20,
      "outputs": [
        {
          "output_type": "execute_result",
          "data": {
            "text/plain": [
              "(-100.0, 12000.0)"
            ]
          },
          "metadata": {},
          "execution_count": 20
        },
        {
          "output_type": "display_data",
          "data": {
            "text/plain": [
              "<Figure size 432x432 with 2 Axes>"
            ],
            "image/png": "[encoded data removed]"
          },
          "metadata": {
            "needs_background": "light"
          }
        }
      ]
    },
    {
      "cell_type": "code",
      "source": [
        "#Plot median house value\n",
        "\n",
        "#test ax\n",
        "fig, ax = plt.subplots(2, 1, figsize=(6,6))\n",
        "\n",
        "\n",
        "\n",
        "#ax = fig.add_subplot(2, 1)\n",
        "plot1= sns.boxplot(x=cities_df_pd['medianhousevalue'],ax=ax[0],color='grey')\n",
        "plot2= sns.boxplot(x=noncities_df_pd['medianhousevalue'],ax=ax[1],color='green')\n",
        "\n",
        "fig.suptitle('Median Home Value Urban vs. Suburban/Rural')\n",
        "gray_patch = mpatches.Patch(color='grey', label='Urban')\n",
        "green_patch = mpatches.Patch(color='green', label='Suburban/Rural')\n",
        "plt.legend(handles=[gray_patch,green_patch], loc = 3, bbox_to_anchor = (1,1))\n",
        "#plot1.set_xlim([-100,12000])\n",
        "#plot2.set_xlim([-100,12000])"
      ],
      "metadata": {
        "id": "yZtHY1-G5uMk",
        "colab": {
          "base_uri": "https://localhost:8080/",
          "height": 449
        },
        "outputId": "81078588-b510-4785-a27e-9923820fdb25"
      },
      "execution_count": 21,
      "outputs": [
        {
          "output_type": "execute_result",
          "data": {
            "text/plain": [
              "<matplotlib.legend.Legend at 0x7f70d0e80310>"
            ]
          },
          "metadata": {},
          "execution_count": 21
        },
        {
          "output_type": "display_data",
          "data": {
            "text/plain": [
              "<Figure size 432x432 with 2 Axes>"
            ],
            "image/png": "[encoded data removed]"
          },
          "metadata": {
            "needs_background": "light"
          }
        }
      ]
    },
    {
      "cell_type": "code",
      "source": [
        "#Build a pipe\n",
        "\n",
        "compare_pipe = Pipeline(stages=[feature.VectorAssembler(inputCols=['medianage', 'rooms', 'bedrooms', 'population', 'households','medianincome'], \n",
        "                                              outputCol='features'),\n",
        "                                StandardScaler(inputCol=\"features\",outputCol=\"scaled_features\",\n",
        "                                                 withStd=True, withMean=True),\n",
        "                                regression.LinearRegression(labelCol='medianhousevalue', featuresCol='scaled_features')])"
      ],
      "metadata": {
        "id": "_9hSWSqNizf0"
      },
      "execution_count": 23,
      "outputs": []
    },
    {
      "cell_type": "code",
      "source": [
        "#Fit the pipes and get coefficients\n",
        "\n",
        "#Fit the pipeline\n",
        "urban_pipe = compare_pipe.fit(cities_df)\n",
        "nonurban_pipe = compare_pipe.fit(noncities_df)\n",
        "\n",
        "#Get coefficients\n",
        "urban_coefficients = urban_pipe.stages[-1].coefficients\n",
        "nonurban_coefficients = nonurban_pipe.stages[-1].coefficients\n",
        "\n",
        "labels = urban_pipe.stages[0].getInputCols()\n",
        "\n",
        "urban_coefficients_df = pd.DataFrame(list(zip(labels, urban_coefficients)), columns = ['coefficient','value']).sort_values(by='value', ascending=False, key=abs)\n",
        "nonurban_coefficients_df= pd.DataFrame(list(zip(labels, nonurban_coefficients)), columns = ['coefficient','value']).sort_values(by='value', ascending=False, key=abs)"
      ],
      "metadata": {
        "id": "FeuYZ-4o6VZ8"
      },
      "execution_count": 24,
      "outputs": []
    },
    {
      "cell_type": "code",
      "source": [
        "#Display the coefficients\n",
        "display(urban_coefficients_df, nonurban_coefficients_df)"
      ],
      "metadata": {
        "colab": {
          "base_uri": "https://localhost:8080/",
          "height": 458
        },
        "id": "Z9hEMnh77Heo",
        "outputId": "3380223a-69c9-4a44-e026-1fd3d683dc87"
      },
      "execution_count": 25,
      "outputs": [
        {
          "output_type": "display_data",
          "data": {
            "text/plain": [
              "    coefficient          value\n",
              "2      bedrooms  269811.249782\n",
              "4    households -141708.164459\n",
              "5  medianincome   98245.238161\n",
              "3    population  -74995.303253\n",
              "1         rooms  -44956.023620\n",
              "0     medianage   17622.742416"
            ],
            "text/html": [
              "\n",
              "  <div id=\"df-6d0554a3-9c6c-43a2-ad73-1711930ae5b3\">\n",
              "    <div class=\"colab-df-container\">\n",
              "      <div>\n",
              "<style scoped>\n",
              "    .dataframe tbody tr th:only-of-type {\n",
              "        vertical-align: middle;\n",
              "    }\n",
              "\n",
              "    .dataframe tbody tr th {\n",
              "        vertical-align: top;\n",
              "    }\n",
              "\n",
              "    .dataframe thead th {\n",
              "        text-align: right;\n",
              "    }\n",
              "</style>\n",
              "<table border=\"1\" class=\"dataframe\">\n",
              "  <thead>\n",
              "    <tr style=\"text-align: right;\">\n",
              "      <th></th>\n",
              "      <th>coefficient</th>\n",
              "      <th>value</th>\n",
              "    </tr>\n",
              "  </thead>\n",
              "  <tbody>\n",
              "    <tr>\n",
              "      <th>2</th>\n",
              "      <td>bedrooms</td>\n",
              "      <td>269811.249782</td>\n",
              "    </tr>\n",
              "    <tr>\n",
              "      <th>4</th>\n",
              "      <td>households</td>\n",
              "      <td>-141708.164459</td>\n",
              "    </tr>\n",
              "    <tr>\n",
              "      <th>5</th>\n",
              "      <td>medianincome</td>\n",
              "      <td>98245.238161</td>\n",
              "    </tr>\n",
              "    <tr>\n",
              "      <th>3</th>\n",
              "      <td>population</td>\n",
              "      <td>-74995.303253</td>\n",
              "    </tr>\n",
              "    <tr>\n",
              "      <th>1</th>\n",
              "      <td>rooms</td>\n",
              "      <td>-44956.023620</td>\n",
              "    </tr>\n",
              "    <tr>\n",
              "      <th>0</th>\n",
              "      <td>medianage</td>\n",
              "      <td>17622.742416</td>\n",
              "    </tr>\n",
              "  </tbody>\n",
              "</table>\n",
              "</div>\n",
              "      <button class=\"colab-df-convert\" onclick=\"convertToInteractive('df-6d0554a3-9c6c-43a2-ad73-1711930ae5b3')\"\n",
              "              title=\"Convert this dataframe to an interactive table.\"\n",
              "              style=\"display:none;\">\n",
              "        \n",
              "  <svg xmlns=\"http://www.w3.org/2000/svg\" height=\"24px\"viewBox=\"0 0 24 24\"\n",
              "       width=\"24px\">\n",
              "    <path d=\"M0 0h24v24H0V0z\" fill=\"none\"/>\n",
              "    <path d=\"M18.56 5.44l.94 2.06.94-2.06 2.06-.94-2.06-.94-.94-2.06-.94 2.06-2.06.94zm-11 1L8.5 8.5l.94-2.06 2.06-.94-2.06-.94L8.5 2.5l-.94 2.06-2.06.94zm10 10l.94 2.06.94-2.06 2.06-.94-2.06-.94-.94-2.06-.94 2.06-2.06.94z\"/><path d=\"M17.41 7.96l-1.37-1.37c-.4-.4-.92-.59-1.43-.59-.52 0-1.04.2-1.43.59L10.3 9.45l-7.72 7.72c-.78.78-.78 2.05 0 2.83L4 21.41c.39.39.9.59 1.41.59.51 0 1.02-.2 1.41-.59l7.78-7.78 2.81-2.81c.8-.78.8-2.07 0-2.86zM5.41 20L4 18.59l7.72-7.72 1.47 1.35L5.41 20z\"/>\n",
              "  </svg>\n",
              "      </button>\n",
              "      \n",
              "  <style>\n",
              "    .colab-df-container {\n",
              "      display:flex;\n",
              "      flex-wrap:wrap;\n",
              "      gap: 12px;\n",
              "    }\n",
              "\n",
              "    .colab-df-convert {\n",
              "      background-color: #E8F0FE;\n",
              "      border: none;\n",
              "      border-radius: 50%;\n",
              "      cursor: pointer;\n",
              "      display: none;\n",
              "      fill: #1967D2;\n",
              "      height: 32px;\n",
              "      padding: 0 0 0 0;\n",
              "      width: 32px;\n",
              "    }\n",
              "\n",
              "    .colab-df-convert:hover {\n",
              "      background-color: #E2EBFA;\n",
              "      box-shadow: 0px 1px 2px rgba(60, 64, 67, 0.3), 0px 1px 3px 1px rgba(60, 64, 67, 0.15);\n",
              "      fill: #174EA6;\n",
              "    }\n",
              "\n",
              "    [theme=dark] .colab-df-convert {\n",
              "      background-color: #3B4455;\n",
              "      fill: #D2E3FC;\n",
              "    }\n",
              "\n",
              "    [theme=dark] .colab-df-convert:hover {\n",
              "      background-color: #434B5C;\n",
              "      box-shadow: 0px 1px 3px 1px rgba(0, 0, 0, 0.15);\n",
              "      filter: drop-shadow(0px 1px 2px rgba(0, 0, 0, 0.3));\n",
              "      fill: #FFFFFF;\n",
              "    }\n",
              "  </style>\n",
              "\n",
              "      <script>\n",
              "        const buttonEl =\n",
              "          document.querySelector('#df-6d0554a3-9c6c-43a2-ad73-1711930ae5b3 button.colab-df-convert');\n",
              "        buttonEl.style.display =\n",
              "          google.colab.kernel.accessAllowed ? 'block' : 'none';\n",
              "\n",
              "        async function convertToInteractive(key) {\n",
              "          const element = document.querySelector('#df-6d0554a3-9c6c-43a2-ad73-1711930ae5b3');\n",
              "          const dataTable =\n",
              "            await google.colab.kernel.invokeFunction('convertToInteractive',\n",
              "                                                     [key], {});\n",
              "          if (!dataTable) return;\n",
              "\n",
              "          const docLinkHtml = 'Like what you see? Visit the ' +\n",
              "            '<a target=\"_blank\" href=https://colab.research.google.com/notebooks/data_table.ipynb>data table notebook</a>'\n",
              "            + ' to learn more about interactive tables.';\n",
              "          element.innerHTML = '';\n",
              "          dataTable['output_type'] = 'display_data';\n",
              "          await google.colab.output.renderOutput(dataTable, element);\n",
              "          const docLink = document.createElement('div');\n",
              "          docLink.innerHTML = docLinkHtml;\n",
              "          element.appendChild(docLink);\n",
              "        }\n",
              "      </script>\n",
              "    </div>\n",
              "  </div>\n",
              "  "
            ]
          },
          "metadata": {}
        },
        {
          "output_type": "display_data",
          "data": {
            "text/plain": [
              "    coefficient         value\n",
              "5  medianincome  45450.313607\n",
              "0     medianage  38681.917123\n",
              "3    population  38392.637926\n",
              "4    households  20134.179421\n",
              "1         rooms  -7477.925718\n",
              "2      bedrooms   5352.926564"
            ],
            "text/html": [
              "\n",
              "  <div id=\"df-e3892e56-fdb6-4aee-bd49-b369234a2c69\">\n",
              "    <div class=\"colab-df-container\">\n",
              "      <div>\n",
              "<style scoped>\n",
              "    .dataframe tbody tr th:only-of-type {\n",
              "        vertical-align: middle;\n",
              "    }\n",
              "\n",
              "    .dataframe tbody tr th {\n",
              "        vertical-align: top;\n",
              "    }\n",
              "\n",
              "    .dataframe thead th {\n",
              "        text-align: right;\n",
              "    }\n",
              "</style>\n",
              "<table border=\"1\" class=\"dataframe\">\n",
              "  <thead>\n",
              "    <tr style=\"text-align: right;\">\n",
              "      <th></th>\n",
              "      <th>coefficient</th>\n",
              "      <th>value</th>\n",
              "    </tr>\n",
              "  </thead>\n",
              "  <tbody>\n",
              "    <tr>\n",
              "      <th>5</th>\n",
              "      <td>medianincome</td>\n",
              "      <td>45450.313607</td>\n",
              "    </tr>\n",
              "    <tr>\n",
              "      <th>0</th>\n",
              "      <td>medianage</td>\n",
              "      <td>38681.917123</td>\n",
              "    </tr>\n",
              "    <tr>\n",
              "      <th>3</th>\n",
              "      <td>population</td>\n",
              "      <td>38392.637926</td>\n",
              "    </tr>\n",
              "    <tr>\n",
              "      <th>4</th>\n",
              "      <td>households</td>\n",
              "      <td>20134.179421</td>\n",
              "    </tr>\n",
              "    <tr>\n",
              "      <th>1</th>\n",
              "      <td>rooms</td>\n",
              "      <td>-7477.925718</td>\n",
              "    </tr>\n",
              "    <tr>\n",
              "      <th>2</th>\n",
              "      <td>bedrooms</td>\n",
              "      <td>5352.926564</td>\n",
              "    </tr>\n",
              "  </tbody>\n",
              "</table>\n",
              "</div>\n",
              "      <button class=\"colab-df-convert\" onclick=\"convertToInteractive('df-e3892e56-fdb6-4aee-bd49-b369234a2c69')\"\n",
              "              title=\"Convert this dataframe to an interactive table.\"\n",
              "              style=\"display:none;\">\n",
              "        \n",
              "  <svg xmlns=\"http://www.w3.org/2000/svg\" height=\"24px\"viewBox=\"0 0 24 24\"\n",
              "       width=\"24px\">\n",
              "    <path d=\"M0 0h24v24H0V0z\" fill=\"none\"/>\n",
              "    <path d=\"M18.56 5.44l.94 2.06.94-2.06 2.06-.94-2.06-.94-.94-2.06-.94 2.06-2.06.94zm-11 1L8.5 8.5l.94-2.06 2.06-.94-2.06-.94L8.5 2.5l-.94 2.06-2.06.94zm10 10l.94 2.06.94-2.06 2.06-.94-2.06-.94-.94-2.06-.94 2.06-2.06.94z\"/><path d=\"M17.41 7.96l-1.37-1.37c-.4-.4-.92-.59-1.43-.59-.52 0-1.04.2-1.43.59L10.3 9.45l-7.72 7.72c-.78.78-.78 2.05 0 2.83L4 21.41c.39.39.9.59 1.41.59.51 0 1.02-.2 1.41-.59l7.78-7.78 2.81-2.81c.8-.78.8-2.07 0-2.86zM5.41 20L4 18.59l7.72-7.72 1.47 1.35L5.41 20z\"/>\n",
              "  </svg>\n",
              "      </button>\n",
              "      \n",
              "  <style>\n",
              "    .colab-df-container {\n",
              "      display:flex;\n",
              "      flex-wrap:wrap;\n",
              "      gap: 12px;\n",
              "    }\n",
              "\n",
              "    .colab-df-convert {\n",
              "      background-color: #E8F0FE;\n",
              "      border: none;\n",
              "      border-radius: 50%;\n",
              "      cursor: pointer;\n",
              "      display: none;\n",
              "      fill: #1967D2;\n",
              "      height: 32px;\n",
              "      padding: 0 0 0 0;\n",
              "      width: 32px;\n",
              "    }\n",
              "\n",
              "    .colab-df-convert:hover {\n",
              "      background-color: #E2EBFA;\n",
              "      box-shadow: 0px 1px 2px rgba(60, 64, 67, 0.3), 0px 1px 3px 1px rgba(60, 64, 67, 0.15);\n",
              "      fill: #174EA6;\n",
              "    }\n",
              "\n",
              "    [theme=dark] .colab-df-convert {\n",
              "      background-color: #3B4455;\n",
              "      fill: #D2E3FC;\n",
              "    }\n",
              "\n",
              "    [theme=dark] .colab-df-convert:hover {\n",
              "      background-color: #434B5C;\n",
              "      box-shadow: 0px 1px 3px 1px rgba(0, 0, 0, 0.15);\n",
              "      filter: drop-shadow(0px 1px 2px rgba(0, 0, 0, 0.3));\n",
              "      fill: #FFFFFF;\n",
              "    }\n",
              "  </style>\n",
              "\n",
              "      <script>\n",
              "        const buttonEl =\n",
              "          document.querySelector('#df-e3892e56-fdb6-4aee-bd49-b369234a2c69 button.colab-df-convert');\n",
              "        buttonEl.style.display =\n",
              "          google.colab.kernel.accessAllowed ? 'block' : 'none';\n",
              "\n",
              "        async function convertToInteractive(key) {\n",
              "          const element = document.querySelector('#df-e3892e56-fdb6-4aee-bd49-b369234a2c69');\n",
              "          const dataTable =\n",
              "            await google.colab.kernel.invokeFunction('convertToInteractive',\n",
              "                                                     [key], {});\n",
              "          if (!dataTable) return;\n",
              "\n",
              "          const docLinkHtml = 'Like what you see? Visit the ' +\n",
              "            '<a target=\"_blank\" href=https://colab.research.google.com/notebooks/data_table.ipynb>data table notebook</a>'\n",
              "            + ' to learn more about interactive tables.';\n",
              "          element.innerHTML = '';\n",
              "          dataTable['output_type'] = 'display_data';\n",
              "          await google.colab.output.renderOutput(dataTable, element);\n",
              "          const docLink = document.createElement('div');\n",
              "          docLink.innerHTML = docLinkHtml;\n",
              "          element.appendChild(docLink);\n",
              "        }\n",
              "      </script>\n",
              "    </div>\n",
              "  </div>\n",
              "  "
            ]
          },
          "metadata": {}
        }
      ]
    },
    {
      "cell_type": "markdown",
      "source": [
        "# **Prediction**"
      ],
      "metadata": {
        "id": "lS83obSZxhsc"
      }
    },
    {
      "cell_type": "markdown",
      "source": [
        "####1. Given the other variables present in the dataset, can we predict the price of an unseen home?"
      ],
      "metadata": {
        "id": "yPbmIHiKeosV"
      }
    },
    {
      "cell_type": "code",
      "source": [
        "df.columns"
      ],
      "metadata": {
        "id": "4TC9rQwPfVib",
        "colab": {
          "base_uri": "https://localhost:8080/"
        },
        "outputId": "9f33bbae-14da-43e3-fd0b-d420bdb838a9"
      },
      "execution_count": 30,
      "outputs": [
        {
          "output_type": "execute_result",
          "data": {
            "text/plain": [
              "['long',\n",
              " 'lat',\n",
              " 'medianage',\n",
              " 'rooms',\n",
              " 'bedrooms',\n",
              " 'population',\n",
              " 'households',\n",
              " 'medianincome',\n",
              " 'medianhousevalue',\n",
              " 'roomsperhousehold',\n",
              " 'populationperhousehold',\n",
              " 'bedroomsperhousehold']"
            ]
          },
          "metadata": {},
          "execution_count": 30
        }
      ]
    },
    {
      "cell_type": "code",
      "source": [
        "df = (df.withColumn(\"roomsperhousehold\", F.round(col(\"rooms\")/col(\"households\"), 2))\n",
        "                  .withColumn(\"populationperhousehold\", F.round(col(\"population\")/col(\"households\"), 2))\n",
        "                  .withColumn(\"bedroomsperhousehold\", F.round(col(\"bedrooms\")/col(\"rooms\"), 2)))"
      ],
      "metadata": {
        "id": "nf7kV4TFfVXr"
      },
      "execution_count": 31,
      "outputs": []
    },
    {
      "cell_type": "code",
      "source": [
        "df.show(5)"
      ],
      "metadata": {
        "colab": {
          "base_uri": "https://localhost:8080/"
        },
        "id": "tybDEG9PPF8X",
        "outputId": "e384b465-3973-47f6-a6db-5a633ad4baa3"
      },
      "execution_count": 32,
      "outputs": [
        {
          "output_type": "stream",
          "name": "stdout",
          "text": [
            "+-------+-----+---------+------+--------+----------+----------+------------+----------------+-----------------+----------------------+--------------------+\n",
            "|   long|  lat|medianage| rooms|bedrooms|population|households|medianincome|medianhousevalue|roomsperhousehold|populationperhousehold|bedroomsperhousehold|\n",
            "+-------+-----+---------+------+--------+----------+----------+------------+----------------+-----------------+----------------------+--------------------+\n",
            "| -120.9| 38.2|     16.0|3120.0|   641.0|    1319.0|     526.0|      2.0472|         93200.0|             5.93|                  2.51|                0.21|\n",
            "|-118.08|34.12|     34.0|2921.0|   641.0|    1541.0|     562.0|      3.6827|        264100.0|              5.2|                  2.74|                0.22|\n",
            "| -118.2|33.83|     35.0|3737.0|   613.0|    1305.0|     583.0|      7.2096|        490300.0|             6.41|                  2.24|                0.16|\n",
            "| -121.7|36.84|     19.0|2511.0|   465.0|    1551.0|     450.0|      4.9107|        231900.0|             5.58|                  3.45|                0.19|\n",
            "|-121.36|38.61|     37.0|2191.0|   394.0|     951.0|     362.0|      3.8882|        159500.0|             6.05|                  2.63|                0.18|\n",
            "+-------+-----+---------+------+--------+----------+----------+------------+----------------+-----------------+----------------------+--------------------+\n",
            "\n"
          ]
        }
      ]
    },
    {
      "cell_type": "code",
      "source": [
        "df_new = df.select(\"medianhousevalue\", \n",
        "                \"bedrooms\", \n",
        "                \"population\", \n",
        "                \"households\", \n",
        "                \"medianincome\", \n",
        "                \"roomsperhousehold\", \n",
        "                \"populationperhousehold\", \n",
        "                \"bedroomsperhousehold\")"
      ],
      "metadata": {
        "id": "Zasqg3jIQatI"
      },
      "execution_count": 33,
      "outputs": []
    },
    {
      "cell_type": "code",
      "source": [
        "featureCols = [\"bedrooms\", \"population\", \"households\", \"medianincome\", \"roomsperhousehold\", \"populationperhousehold\", \"bedroomsperhousehold\"]"
      ],
      "metadata": {
        "id": "Or10-wH5Qaqv"
      },
      "execution_count": 34,
      "outputs": []
    },
    {
      "cell_type": "code",
      "source": [
        "assembler = VectorAssembler(inputCols=featureCols, outputCol=\"features\") \n",
        "assembled_df = assembler.transform(df_new)\n",
        "assembled_df.show(10, truncate=False)"
      ],
      "metadata": {
        "colab": {
          "base_uri": "https://localhost:8080/"
        },
        "id": "tqfeL_KLQaoh",
        "outputId": "edb97015-58d6-4bbf-8e92-60bb13d01804"
      },
      "execution_count": 35,
      "outputs": [
        {
          "output_type": "stream",
          "name": "stdout",
          "text": [
            "+----------------+--------+----------+----------+------------+-----------------+----------------------+--------------------+------------------------------------------------------+\n",
            "|medianhousevalue|bedrooms|population|households|medianincome|roomsperhousehold|populationperhousehold|bedroomsperhousehold|features                                              |\n",
            "+----------------+--------+----------+----------+------------+-----------------+----------------------+--------------------+------------------------------------------------------+\n",
            "|93200.0         |641.0   |1319.0    |526.0     |2.0472      |5.93             |2.51                  |0.21                |[641.0,1319.0,526.0,2.0471999645233154,5.93,2.51,0.21]|\n",
            "|264100.0        |641.0   |1541.0    |562.0     |3.6827      |5.2              |2.74                  |0.22                |[641.0,1541.0,562.0,3.6826999187469482,5.2,2.74,0.22] |\n",
            "|490300.0        |613.0   |1305.0    |583.0     |7.2096      |6.41             |2.24                  |0.16                |[613.0,1305.0,583.0,7.20959997177124,6.41,2.24,0.16]  |\n",
            "|231900.0        |465.0   |1551.0    |450.0     |4.9107      |5.58             |3.45                  |0.19                |[465.0,1551.0,450.0,4.910699844360352,5.58,3.45,0.19] |\n",
            "|159500.0        |394.0   |951.0     |362.0     |3.8882      |6.05             |2.63                  |0.18                |[394.0,951.0,362.0,3.888200044631958,6.05,2.63,0.18]  |\n",
            "+----------------+--------+----------+----------+------------+-----------------+----------------------+--------------------+------------------------------------------------------+\n",
            "\n"
          ]
        }
      ]
    },
    {
      "cell_type": "code",
      "source": [
        "# Split the data into train and test sets\n",
        "train_data, test_data, val_data = assembled_df.randomSplit([.6,.2,.2], seed=1)\n",
        "\n",
        "# Initialize the standardScaler\n",
        "standardScaler = StandardScaler(inputCol=\"features\", outputCol=\"features_scaled\")\n",
        "linearReg= LinearRegression(featuresCol= 'features_scaled', labelCol= \"medianhousevalue\")\n",
        "\n",
        "lrpipe = Pipeline(stages=[standardScaler,linearReg])\n",
        "\n",
        "#Grid Search Code\n",
        "if enable_grid:\n",
        "  lrpipe.getStages()\n",
        "  grid = ParamGridBuilder().\\\n",
        "    addGrid(linearReg.elasticNetParam, [0, 1]).\\\n",
        "    addGrid(linearReg.regParam, [0.1, 0.01, 0.001, 0.0001]). \\\n",
        "    build()\n",
        "\n",
        "  all_models = []\n",
        "  for j in range(len(grid)):\n",
        "    print(\"Fitting model {}\".format(j+1))\n",
        "    model = lrpipe.fit(train_data, grid[j])\n",
        "    all_models.append(model)\n",
        "\n",
        "  # # estimate the accuracy of each of them:\n",
        "  evaluator=RegressionEvaluator(labelCol=\"medianhousevalue\", predictionCol=\"prediction\",metricName=\"mse\")\n",
        "  my_mses = [evaluator.evaluate(m.transform(val_data)) for m in all_models]\n",
        "  my_mses\n",
        "  best_model_idx = np.argmin(my_mses)\n",
        "  print(\"best model index =\", best_model_idx)\n",
        "  best_model = all_models[best_model_idx]\n",
        "  my_mses[best_model_idx]\n",
        "  print(grid[best_model_idx])\n",
        "else:\n",
        "  pass"
      ],
      "metadata": {
        "id": "VkQSRsOXQafH"
      },
      "execution_count": 36,
      "outputs": []
    },
    {
      "cell_type": "code",
      "source": [
        "#Hard coded model with best params from grid search\n",
        "\n",
        "linearReg= LinearRegression(featuresCol= 'features_scaled', labelCol= \"medianhousevalue\", regParam=0.0001, elasticNetParam=0.0)\n",
        "best_lrpipe = Pipeline(stages=[standardScaler,linearReg])\n",
        "model = best_lrpipe.fit(train_data)\n",
        "\n"
      ],
      "metadata": {
        "id": "_531xZHXAGpQ"
      },
      "execution_count": 37,
      "outputs": []
    },
    {
      "cell_type": "code",
      "source": [
        "#R2 score on test set\n",
        "evaluator = RegressionEvaluator(predictionCol=\"prediction\", labelCol=\"medianhousevalue\",metricName=\"r2\")\n",
        "r2_test = evaluator.evaluate(model.transform(test_data))\n",
        "print(\"R2 score on test set: \", r2_test)\n",
        "\n",
        "#RMSE on test set\n",
        "evaluator = RegressionEvaluator(predictionCol=\"prediction\", labelCol=\"medianhousevalue\",metricName=\"rmse\")\n",
        "rmse_test = evaluator.evaluate(model.transform(test_data))\n",
        "print(\"RMSE on test set: \", rmse_test)"
      ],
      "metadata": {
        "colab": {
          "base_uri": "https://localhost:8080/"
        },
        "id": "9kKcNEO6V0oU",
        "outputId": "347331e4-897d-4965-816c-1c9352e37e02"
      },
      "execution_count": 38,
      "outputs": [
        {
          "output_type": "stream",
          "name": "stdout",
          "text": [
            "R2 score on test set:  -inf\n",
            "RMSE on test set:  121973.19935742475\n"
          ]
        }
      ]
    },
    {
      "cell_type": "markdown",
      "source": [
        "####2. Can we generate a relatively reliable prediction of home value given only longitude, latitude, total rooms, and total bedrooms?"
      ],
      "metadata": {
        "id": "2_PvPbawccTK"
      }
    },
    {
      "cell_type": "code",
      "source": [
        "df_new2 = df.select(\"medianhousevalue\",\n",
        "                \"long\", \n",
        "                \"lat\", \n",
        "                \"rooms\", \n",
        "                \"bedrooms\")"
      ],
      "metadata": {
        "id": "b-z6jdUjcfQS"
      },
      "execution_count": 39,
      "outputs": []
    },
    {
      "cell_type": "code",
      "source": [
        "df_new2.show(5)"
      ],
      "metadata": {
        "colab": {
          "base_uri": "https://localhost:8080/"
        },
        "id": "43La5Ozjb-Ls",
        "outputId": "0085882b-57be-4f35-b4d4-793d6ae92a56"
      },
      "execution_count": 40,
      "outputs": [
        {
          "output_type": "stream",
          "name": "stdout",
          "text": [
            "+----------------+-------+-----+------+--------+\n",
            "|medianhousevalue|   long|  lat| rooms|bedrooms|\n",
            "+----------------+-------+-----+------+--------+\n",
            "|         93200.0| -120.9| 38.2|3120.0|   641.0|\n",
            "|        264100.0|-118.08|34.12|2921.0|   641.0|\n",
            "|        490300.0| -118.2|33.83|3737.0|   613.0|\n",
            "|        231900.0| -121.7|36.84|2511.0|   465.0|\n",
            "|        159500.0|-121.36|38.61|2191.0|   394.0|\n",
            "+----------------+-------+-----+------+--------+\n",
            "\n"
          ]
        }
      ]
    },
    {
      "cell_type": "code",
      "source": [
        "featureCols2 = [\"long\", \"lat\", \"rooms\", \"bedrooms\"]"
      ],
      "metadata": {
        "id": "zJKxXdc4c58x"
      },
      "execution_count": 41,
      "outputs": []
    },
    {
      "cell_type": "code",
      "source": [
        "assembler2 = VectorAssembler(inputCols=featureCols2, outputCol=\"features2\") \n",
        "assembled_df2 = assembler2.transform(df_new2)\n",
        "assembled_df2.show(10, truncate=False)"
      ],
      "metadata": {
        "colab": {
          "base_uri": "https://localhost:8080/"
        },
        "id": "GIMh8jIOc56A",
        "outputId": "12d0e465-b45e-4e0e-97a4-89ec60cc5beb"
      },
      "execution_count": 42,
      "outputs": [
        {
          "output_type": "stream",
          "name": "stdout",
          "text": [
            "+----------------+-------+-----+------+--------+-----------------------------------------------------+\n",
            "|medianhousevalue|long   |lat  |rooms |bedrooms|features2                                            |\n",
            "+----------------+-------+-----+------+--------+-----------------------------------------------------+\n",
            "|93200.0         |-120.9 |38.2 |3120.0|641.0   |[-120.9000015258789,38.20000076293945,3120.0,641.0]  |\n",
            "|264100.0        |-118.08|34.12|2921.0|641.0   |[-118.08000183105469,34.119998931884766,2921.0,641.0]|\n",
            "|490300.0        |-118.2 |33.83|3737.0|613.0   |[-118.19999694824219,33.83000183105469,3737.0,613.0] |\n",
            "|231900.0        |-121.7 |36.84|2511.0|465.0   |[-121.69999694824219,36.84000015258789,2511.0,465.0] |\n",
            "|159500.0        |-121.36|38.61|2191.0|394.0   |[-121.36000061035156,38.61000061035156,2191.0,394.0] |\n",
            "+----------------+-------+-----+------+--------+-----------------------------------------------------+\n",
            "\n"
          ]
        }
      ]
    },
    {
      "cell_type": "code",
      "source": [
        "# Initialize the standardScaler\n",
        "standardScaler2 = StandardScaler(inputCol=\"features2\", outputCol=\"features_scaled2\")\n",
        "# Fit the DataFrame to the scaler\n",
        "scaled_df2 = standardScaler2.fit(assembled_df2).transform(assembled_df2)\n",
        "scaled_df2.select(\"features2\", \"features_scaled2\").show(10, truncate=False)"
      ],
      "metadata": {
        "colab": {
          "base_uri": "https://localhost:8080/"
        },
        "id": "hb2MZrA-d4e2",
        "outputId": "18c5c9ce-f9ab-49ec-8581-e8256ace114f"
      },
      "execution_count": 43,
      "outputs": [
        {
          "output_type": "stream",
          "name": "stdout",
          "text": [
            "+-----------------------------------------------------+---------------------------------------------------------------------------+\n",
            "|features2                                            |features_scaled2                                                           |\n",
            "+-----------------------------------------------------+---------------------------------------------------------------------------+\n",
            "|[-120.9000015258789,38.20000076293945,3120.0,641.0]  |[-68.48875174765259,17.045674566239907,5.2674979521631,5.617147769592865]  |\n",
            "|[-118.08000183105469,34.119998931884766,2921.0,641.0]|[-66.89124755749813,15.225088648626704,4.931526127650133,5.617147769592865]|\n",
            "|[-118.19999694824219,33.83000183105469,3737.0,613.0] |[-66.9592237004945,15.095685609171838,6.309179438215867,5.3717809403438785]|\n",
            "|[-121.69999694824219,36.84000015258789,2511.0,465.0] |[-68.94194188156477,16.43881259370217,4.2393228711158795,4.074841985742094]|\n",
            "|[-121.36000061035156,38.61000061035156,2191.0,394.0] |[-68.7493370470982,17.228625451884263,3.6990666708940227,3.452661811575022]|\n",
            "+-----------------------------------------------------+---------------------------------------------------------------------------+\n",
            "\n"
          ]
        }
      ]
    },
    {
      "cell_type": "code",
      "source": [
        "#splitting the data \n",
        "train_data, test_data = scaled_df2.randomSplit([0.8,0.2], seed=1)"
      ],
      "metadata": {
        "id": "-eni7ZyKqqh8"
      },
      "execution_count": 44,
      "outputs": []
    },
    {
      "cell_type": "code",
      "source": [
        "linearReg= LinearRegression(featuresCol= 'features_scaled2', labelCol= \"medianhousevalue\")\n",
        "#fit the model to the the training data\n",
        "model=linearReg.fit(train_data)\n",
        "#make predictions on the test set\n",
        "predictions= model.transform(test_data)\n",
        "# show the predicted values and the actual values\n",
        "predictions.select(\"prediction\" ,\"medianhousevalue\").show(10)"
      ],
      "metadata": {
        "colab": {
          "base_uri": "https://localhost:8080/"
        },
        "id": "YzXQE3batmUQ",
        "outputId": "ed14cf00-04c4-4ad0-f756-6dd6ad4ef945"
      },
      "execution_count": 54,
      "outputs": [
        {
          "output_type": "stream",
          "name": "stdout",
          "text": [
            "+-----------------+----------------+\n",
            "|       prediction|medianhousevalue|\n",
            "+-----------------+----------------+\n",
            "|257575.7839124024|        490300.0|\n",
            "+-----------------+----------------+\n",
            "\n"
          ]
        }
      ]
    },
    {
      "cell_type": "code",
      "source": [
        "#R2 score on test set\n",
        "r2_test= model.evaluate(test_data).r2\n",
        "print(\"R2 score on test set: \", r2_test)\n",
        "\n",
        "#RMSE on test set\n",
        "evaluator = RegressionEvaluator(predictionCol=\"prediction\", labelCol=\"medianhousevalue\",metricName=\"rmse\")\n",
        "rmse_test = evaluator.evaluate(predictions)\n",
        "print(\"RMSE on test set: \", rmse_test)"
      ],
      "metadata": {
        "colab": {
          "base_uri": "https://localhost:8080/"
        },
        "id": "n0bMCOPotmR8",
        "outputId": "e8aab5d6-a59c-4b58-f6ad-87c29b566f4a"
      },
      "execution_count": 46,
      "outputs": [
        {
          "output_type": "stream",
          "name": "stdout",
          "text": [
            "R2 score on test set:  -inf\n",
            "RMSE on test set:  232724.2160875976\n"
          ]
        }
      ]
    },
    {
      "cell_type": "markdown",
      "source": [
        "####3. Can we use median age to help predict housing prices on its own?"
      ],
      "metadata": {
        "id": "89rkWXp2ewFm"
      }
    },
    {
      "cell_type": "code",
      "source": [
        "df.show(5)"
      ],
      "metadata": {
        "colab": {
          "base_uri": "https://localhost:8080/"
        },
        "id": "eN3WWC3fgqp8",
        "outputId": "6ac11d2d-ff2b-49b2-92f4-310e36146a86"
      },
      "execution_count": 59,
      "outputs": [
        {
          "output_type": "stream",
          "name": "stdout",
          "text": [
            "+-------+-----+---------+------+--------+----------+----------+------------+----------------+\n",
            "|   long|  lat|medianage| rooms|bedrooms|population|households|medianincome|medianhousevalue|\n",
            "+-------+-----+---------+------+--------+----------+----------+------------+----------------+\n",
            "|-122.23|37.88|     41.0| 880.0|   129.0|     322.0|     126.0|      8.3252|           4.526|\n",
            "|-122.22|37.86|     21.0|7099.0|  1106.0|    2401.0|    1138.0|      8.3014|           3.585|\n",
            "|-122.24|37.85|     52.0|1467.0|   190.0|     496.0|     177.0|      7.2574|           3.521|\n",
            "|-122.25|37.85|     52.0|1274.0|   235.0|     558.0|     219.0|      5.6431|           3.413|\n",
            "|-122.25|37.85|     52.0|1627.0|   280.0|     565.0|     259.0|      3.8462|           3.422|\n",
            "+-------+-----+---------+------+--------+----------+----------+------------+----------------+\n",
            "only showing top 5 rows\n",
            "\n"
          ]
        }
      ]
    },
    {
      "cell_type": "code",
      "source": [
        "# defining medianage as our label/predictor variable\n",
        "df3 = df.select(df.medianage, df.medianhousevalue.alias('label'))\n",
        "# split data into 70% training and 30% testing data\n",
        "training, test = df3.randomSplit([0.7, 0.3], seed = 100)\n",
        "# assembler to assemble the features into vector form\n",
        "assembler = VectorAssembler().setInputCols(['medianage',]).setOutputCol('features')\n",
        "trainingSet = assembler.transform(training)\n",
        "# select only features column and label column since we have already vectorised our features\n",
        "trainingSet = trainingSet.select(\"features\",\"label\")"
      ],
      "metadata": {
        "id": "l6l-Hc3kevHG"
      },
      "execution_count": 60,
      "outputs": []
    },
    {
      "cell_type": "code",
      "source": [
        "# fit the training set to linear regression model\n",
        "lr = LinearRegression()\n",
        "lr_Model = lr.fit(trainingSet)\n",
        "# assembler to assemble the features into vector form\n",
        "testSet = assembler.transform(test)\n",
        "# select only features column and label column since we have already vectorised our features\n",
        "testSet = testSet.select(\"features\", \"label\")\n",
        "# fit the testing data into our linear regression model\n",
        "testSet = lr_Model.transform(testSet)\n",
        "testSet.show(truncate=False)"
      ],
      "metadata": {
        "colab": {
          "base_uri": "https://localhost:8080/"
        },
        "id": "-VFET5SggTGq",
        "outputId": "b5419369-9bd7-4b9e-f2ca-d96f1858df27"
      },
      "execution_count": 61,
      "outputs": [
        {
          "output_type": "stream",
          "name": "stdout",
          "text": [
            "+--------+-------+------------------+\n",
            "|features|label  |prediction        |\n",
            "+--------+-------+------------------+\n",
            "|[1.0]   |1.913  |1.8097990352332143|\n",
            "|[2.0]   |1.142  |1.8193061102284969|\n",
            "|[2.0]   |1.221  |1.8193061102284969|\n",
            "|[2.0]   |1.367  |1.8193061102284969|\n",
            "|[2.0]   |1.374  |1.8193061102284969|\n",
            "|[2.0]   |1.459  |1.8193061102284969|\n",
            "|[2.0]   |1.463  |1.8193061102284969|\n",
            "|[2.0]   |1.648  |1.8193061102284969|\n",
            "|[2.0]   |1.81   |1.8193061102284969|\n",
            "|[2.0]   |1.967  |1.8193061102284969|\n",
            "|[2.0]   |2.044  |1.8193061102284969|\n",
            "|[2.0]   |2.101  |1.8193061102284969|\n",
            "|[2.0]   |2.145  |1.8193061102284969|\n",
            "|[2.0]   |2.208  |1.8193061102284969|\n",
            "|[2.0]   |2.225  |1.8193061102284969|\n",
            "|[2.0]   |2.985  |1.8193061102284969|\n",
            "|[2.0]   |3.295  |1.8193061102284969|\n",
            "|[2.0]   |4.841  |1.8193061102284969|\n",
            "|[2.0]   |5.00001|1.8193061102284969|\n",
            "|[3.0]   |0.832  |1.8288131852237797|\n",
            "+--------+-------+------------------+\n",
            "only showing top 20 rows\n",
            "\n"
          ]
        }
      ]
    },
    {
      "cell_type": "code",
      "source": [
        "evaluator = RegressionEvaluator()\n",
        "print(evaluator.evaluate(testSet, {evaluator.metricName: \"r2\"}))"
      ],
      "metadata": {
        "colab": {
          "base_uri": "https://localhost:8080/"
        },
        "id": "lZQ_LIGVgUAn",
        "outputId": "52660b4b-6acb-49cd-c4aa-a3a665017b22"
      },
      "execution_count": 62,
      "outputs": [
        {
          "output_type": "stream",
          "name": "stdout",
          "text": [
            "0.012153001720492496\n"
          ]
        }
      ]
    },
    {
      "cell_type": "markdown",
      "source": [
        "The r2 shows its a bad predictor"
      ],
      "metadata": {
        "id": "eDtUNxx9g-t8"
      }
    }
  ]
}